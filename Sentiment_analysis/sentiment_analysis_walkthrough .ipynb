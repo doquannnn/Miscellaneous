{
 "cells": [
  {
   "cell_type": "code",
   "execution_count": 1,
   "metadata": {},
   "outputs": [],
   "source": [
    "import numpy as np\n",
    "import pandas as pd\n",
    "import matplotlib.pyplot as plt\n",
    "import seaborn as sns"
   ]
  },
  {
   "cell_type": "code",
   "execution_count": 2,
   "metadata": {},
   "outputs": [
    {
     "data": {
      "text/plain": [
       "'0.23.1'"
      ]
     },
     "execution_count": 2,
     "metadata": {},
     "output_type": "execute_result"
    }
   ],
   "source": [
    "import sklearn\n",
    "sklearn.__version__ "
   ]
  },
  {
   "cell_type": "code",
   "execution_count": 3,
   "metadata": {},
   "outputs": [
    {
     "data": {
      "text/plain": [
       "<Figure size 432x288 with 0 Axes>"
      ]
     },
     "metadata": {},
     "output_type": "display_data"
    }
   ],
   "source": [
    "sns.set()\n",
    "plt.tight_layout()"
   ]
  },
  {
   "cell_type": "code",
   "execution_count": 3,
   "metadata": {},
   "outputs": [],
   "source": [
    "import os\n",
    "os.chdir('datasets')"
   ]
  },
  {
   "cell_type": "markdown",
   "metadata": {},
   "source": [
    "#### Dataset got from this link: https://www.kaggle.com/kazanova/sentiment140"
   ]
  },
  {
   "cell_type": "code",
   "execution_count": 4,
   "metadata": {},
   "outputs": [
    {
     "data": {
      "text/html": [
       "<div>\n",
       "<style scoped>\n",
       "    .dataframe tbody tr th:only-of-type {\n",
       "        vertical-align: middle;\n",
       "    }\n",
       "\n",
       "    .dataframe tbody tr th {\n",
       "        vertical-align: top;\n",
       "    }\n",
       "\n",
       "    .dataframe thead th {\n",
       "        text-align: right;\n",
       "    }\n",
       "</style>\n",
       "<table border=\"1\" class=\"dataframe\">\n",
       "  <thead>\n",
       "    <tr style=\"text-align: right;\">\n",
       "      <th></th>\n",
       "      <th>sentiment</th>\n",
       "      <th>text</th>\n",
       "    </tr>\n",
       "  </thead>\n",
       "  <tbody>\n",
       "    <tr>\n",
       "      <td>0</td>\n",
       "      <td>0</td>\n",
       "      <td>@switchfoot http://twitpic.com/2y1zl - Awww, t...</td>\n",
       "    </tr>\n",
       "    <tr>\n",
       "      <td>1</td>\n",
       "      <td>0</td>\n",
       "      <td>is upset that he can't update his Facebook by ...</td>\n",
       "    </tr>\n",
       "    <tr>\n",
       "      <td>2</td>\n",
       "      <td>0</td>\n",
       "      <td>@Kenichan I dived many times for the ball. Man...</td>\n",
       "    </tr>\n",
       "    <tr>\n",
       "      <td>3</td>\n",
       "      <td>0</td>\n",
       "      <td>my whole body feels itchy and like its on fire</td>\n",
       "    </tr>\n",
       "    <tr>\n",
       "      <td>4</td>\n",
       "      <td>0</td>\n",
       "      <td>@nationwideclass no, it's not behaving at all....</td>\n",
       "    </tr>\n",
       "  </tbody>\n",
       "</table>\n",
       "</div>"
      ],
      "text/plain": [
       "   sentiment                                               text\n",
       "0          0  @switchfoot http://twitpic.com/2y1zl - Awww, t...\n",
       "1          0  is upset that he can't update his Facebook by ...\n",
       "2          0  @Kenichan I dived many times for the ball. Man...\n",
       "3          0    my whole body feels itchy and like its on fire \n",
       "4          0  @nationwideclass no, it's not behaving at all...."
      ]
     },
     "execution_count": 4,
     "metadata": {},
     "output_type": "execute_result"
    }
   ],
   "source": [
    "names = ['sentiment', 'id', 'date', 'flag', 'user', 'text']\n",
    "data = pd.read_csv('sentiment.csv', encoding='ISO-8859-1', names=names, usecols=['sentiment', 'text'])\n",
    "data.head()"
   ]
  },
  {
   "cell_type": "markdown",
   "metadata": {},
   "source": [
    "## Data Exploration"
   ]
  },
  {
   "cell_type": "code",
   "execution_count": 6,
   "metadata": {},
   "outputs": [
    {
     "data": {
      "text/plain": [
       "(1600000, 2)"
      ]
     },
     "execution_count": 6,
     "metadata": {},
     "output_type": "execute_result"
    }
   ],
   "source": [
    "data.shape"
   ]
  },
  {
   "cell_type": "code",
   "execution_count": 5,
   "metadata": {},
   "outputs": [],
   "source": [
    "data = data.sample(200000) # Only get a sample of whole dataset because it's less time-consuming to do\n",
    "#hyperparameter tuning."
   ]
  },
  {
   "cell_type": "code",
   "execution_count": 8,
   "metadata": {},
   "outputs": [
    {
     "data": {
      "text/plain": [
       "4    100236\n",
       "0     99764\n",
       "Name: sentiment, dtype: int64"
      ]
     },
     "execution_count": 8,
     "metadata": {},
     "output_type": "execute_result"
    }
   ],
   "source": [
    "data.sentiment.value_counts()"
   ]
  },
  {
   "cell_type": "code",
   "execution_count": 9,
   "metadata": {},
   "outputs": [
    {
     "data": {
      "text/plain": [
       "sentiment    0\n",
       "text         0\n",
       "dtype: int64"
      ]
     },
     "execution_count": 9,
     "metadata": {},
     "output_type": "execute_result"
    }
   ],
   "source": [
    "data.isna().sum() # no null values"
   ]
  },
  {
   "cell_type": "code",
   "execution_count": 10,
   "metadata": {},
   "outputs": [],
   "source": [
    "pd.set_option('display.max_colwidth', -1) # to see the entire text"
   ]
  },
  {
   "cell_type": "code",
   "execution_count": 11,
   "metadata": {},
   "outputs": [
    {
     "data": {
      "text/plain": [
       "985745     @easyhealthuk At least she agreed to go, Holly cried when I asked her                                                                      \n",
       "289625     Break's over. Back to work till 5:30ish. My tooth hurts so bad. I was supposed to go to the dentist today until I found out I had to work  \n",
       "574987     @KellyRaine Sorry honey                                                                                                                    \n",
       "1512945    cutting up tshirts                                                                                                                         \n",
       "1165863    Proper internet back tomorrow                                                                                                              \n",
       "                        ...                                                                                                                           \n",
       "241196     Gotta Move a Queen size bed, a six chair dining room table set, fouton, tv, bike, &amp; clean a condo - the end of staying in 112 1800 JPA \n",
       "314375     sitting at work really quite bored again also have the beginnings of a headache!                                                           \n",
       "578159     Guitar and art lessons tonight....fml screwwww that.  POOP                                                                                 \n",
       "529994     all time low on mtv not again                                                                                                              \n",
       "281309     @timmpcouk of course im revising ive got bloody 5 exams in 4 days!!!! i would go outside but its no fun on my own                          \n",
       "Name: text, Length: 200000, dtype: object"
      ]
     },
     "execution_count": 11,
     "metadata": {},
     "output_type": "execute_result"
    }
   ],
   "source": [
    "data.loc[:, 'text']"
   ]
  },
  {
   "cell_type": "markdown",
   "metadata": {},
   "source": [
    "## Data cleaning"
   ]
  },
  {
   "cell_type": "code",
   "execution_count": 17,
   "metadata": {},
   "outputs": [],
   "source": [
    "import re\n",
    "from nltk.stem import PorterStemmer\n",
    "from nltk.stem import WordNetLemmatizer"
   ]
  },
  {
   "cell_type": "code",
   "execution_count": 13,
   "metadata": {},
   "outputs": [],
   "source": [
    "def extract_words(text):\n",
    "    text = text.lower()\n",
    "    url = r'((http://)*|(https://)*|(www\\.)*|([^\\s]+.com[^\\s]+))' # remove url\n",
    "    text = re.sub(url, '', text)\n",
    "    text = re.sub('@[^\\s]+', '', text) # remove email\n",
    "    return text"
   ]
  },
  {
   "cell_type": "markdown",
   "metadata": {},
   "source": [
    "#### The two most common used Stem are PorterStem and Lemmatization\n",
    "<li> PorterStem will return family words, but some are <strong>not</strong> grammatically correct.\n",
    "<li> Lemmatization guarantees words always <strong>in</strong> the dictionary, therefore it is <strong>computationally expensive</strong> for checking correctness.\n",
    "<li> In this case, there is <strong>no need</strong> in word corrections, so PorterStem is <strong> prioritized </strong>"
   ]
  },
  {
   "cell_type": "code",
   "execution_count": 14,
   "metadata": {},
   "outputs": [
    {
     "name": "stdout",
     "output_type": "stream",
     "text": [
      "hello\n",
      "happi\n",
      "world\n",
      "----------\n",
      "hello\n",
      "happy\n",
      "world\n"
     ]
    }
   ],
   "source": [
    "# Example\n",
    "ps = PorterStemmer()\n",
    "lem = WordNetLemmatizer()\n",
    "w = ['hello', 'happy', 'worlds']\n",
    "for word in w:\n",
    "    print(ps.stem(word))\n",
    "print('-'*10)\n",
    "for word in w:\n",
    "    print(lem.lemmatize(word))"
   ]
  },
  {
   "cell_type": "code",
   "execution_count": 15,
   "metadata": {},
   "outputs": [],
   "source": [
    "def preprocess_words(text):\n",
    "    stemmer = PorterStemmer() # instantiate a stemmer\n",
    "    words = text.split() # convert to list of string\n",
    "    \n",
    "    stemmed_words = [stemmer.stem(word) for word in words] # stem every single string in a list\n",
    "    return ' '.join(stemmed_words) # convert back to string"
   ]
  },
  {
   "cell_type": "code",
   "execution_count": 16,
   "metadata": {},
   "outputs": [
    {
     "data": {
      "text/html": [
       "<div>\n",
       "<style scoped>\n",
       "    .dataframe tbody tr th:only-of-type {\n",
       "        vertical-align: middle;\n",
       "    }\n",
       "\n",
       "    .dataframe tbody tr th {\n",
       "        vertical-align: top;\n",
       "    }\n",
       "\n",
       "    .dataframe thead th {\n",
       "        text-align: right;\n",
       "    }\n",
       "</style>\n",
       "<table border=\"1\" class=\"dataframe\">\n",
       "  <thead>\n",
       "    <tr style=\"text-align: right;\">\n",
       "      <th></th>\n",
       "      <th>text</th>\n",
       "    </tr>\n",
       "  </thead>\n",
       "  <tbody>\n",
       "    <tr>\n",
       "      <td>985745</td>\n",
       "      <td>at least she agre to go, holli cri when i ask her</td>\n",
       "    </tr>\n",
       "    <tr>\n",
       "      <td>289625</td>\n",
       "      <td>break' over. back to work till 5:30ish. my tooth hurt so bad. i wa suppos to go to the dentist today until i found out i had to work</td>\n",
       "    </tr>\n",
       "    <tr>\n",
       "      <td>574987</td>\n",
       "      <td>sorri honey</td>\n",
       "    </tr>\n",
       "    <tr>\n",
       "      <td>1512945</td>\n",
       "      <td>cut up tshirt</td>\n",
       "    </tr>\n",
       "    <tr>\n",
       "      <td>1165863</td>\n",
       "      <td>proper internet back tomorrow</td>\n",
       "    </tr>\n",
       "    <tr>\n",
       "      <td>...</td>\n",
       "      <td>...</td>\n",
       "    </tr>\n",
       "    <tr>\n",
       "      <td>241196</td>\n",
       "      <td>gotta move a queen size bed, a six chair dine room tabl set, fouton, tv, bike, &amp;amp; clean a condo - the end of stay in 112 1800 jpa</td>\n",
       "    </tr>\n",
       "    <tr>\n",
       "      <td>314375</td>\n",
       "      <td>sit at work realli quit bore again also have the begin of a headache!</td>\n",
       "    </tr>\n",
       "    <tr>\n",
       "      <td>578159</td>\n",
       "      <td>guitar and art lesson tonight....fml screwwww that. poop</td>\n",
       "    </tr>\n",
       "    <tr>\n",
       "      <td>529994</td>\n",
       "      <td>all time low on mtv not again</td>\n",
       "    </tr>\n",
       "    <tr>\n",
       "      <td>281309</td>\n",
       "      <td>of cours im revis ive got bloodi 5 exam in 4 days!!!! i would go outsid but it no fun on my own</td>\n",
       "    </tr>\n",
       "  </tbody>\n",
       "</table>\n",
       "<p>200000 rows × 1 columns</p>\n",
       "</div>"
      ],
      "text/plain": [
       "                                                                                                                                         text\n",
       "985745   at least she agre to go, holli cri when i ask her                                                                                   \n",
       "289625   break' over. back to work till 5:30ish. my tooth hurt so bad. i wa suppos to go to the dentist today until i found out i had to work\n",
       "574987   sorri honey                                                                                                                         \n",
       "1512945  cut up tshirt                                                                                                                       \n",
       "1165863  proper internet back tomorrow                                                                                                       \n",
       "...                                ...                                                                                                       \n",
       "241196   gotta move a queen size bed, a six chair dine room tabl set, fouton, tv, bike, &amp; clean a condo - the end of stay in 112 1800 jpa\n",
       "314375   sit at work realli quit bore again also have the begin of a headache!                                                               \n",
       "578159   guitar and art lesson tonight....fml screwwww that. poop                                                                            \n",
       "529994   all time low on mtv not again                                                                                                       \n",
       "281309   of cours im revis ive got bloodi 5 exam in 4 days!!!! i would go outsid but it no fun on my own                                     \n",
       "\n",
       "[200000 rows x 1 columns]"
      ]
     },
     "execution_count": 16,
     "metadata": {},
     "output_type": "execute_result"
    }
   ],
   "source": [
    "test = data[['text']].copy()\n",
    "test.loc[:, 'text'] = test.text.apply(lambda x: extract_words(x))\n",
    "test.loc[:, 'text'] = test.text.apply(lambda x: preprocess_words(x))\n",
    "test # this is how text will look like after processing"
   ]
  },
  {
   "cell_type": "markdown",
   "metadata": {},
   "source": [
    "Don't worry about <strong>noisy data</strong> such as <strong>special characters, punctuation</strong> because bow and tfidf will automatically handle it as they don't take those data into consideration "
   ]
  },
  {
   "cell_type": "code",
   "execution_count": 7,
   "metadata": {},
   "outputs": [],
   "source": [
    "from sklearn.base import BaseEstimator, TransformerMixin\n",
    "from sklearn.feature_extraction.text import CountVectorizer, TfidfVectorizer"
   ]
  },
  {
   "cell_type": "markdown",
   "metadata": {},
   "source": [
    "Now we want to automate everything done above, let's create a class for text preprocessing. This class is inherited from two base class:\n",
    "<li> BaseEstimator gives the <strong> get_params() method </strong>for hyperparameter turning.\n",
    "<li> TransformerMixin gives the <strong> transform method </strong>. "
   ]
  },
  {
   "cell_type": "code",
   "execution_count": 8,
   "metadata": {},
   "outputs": [],
   "source": [
    "class TextPreprocessing(BaseEstimator, TransformerMixin):\n",
    "    def __init__(self):\n",
    "        return None\n",
    "    \n",
    "    def preprocess_words(self, text):\n",
    "        stemmer = PorterStemmer()\n",
    "        words = text.split()\n",
    "\n",
    "        stemmed_words = [stemmer.stem(word) for word in words]\n",
    "        return ' '.join(stemmed_words)\n",
    "    \n",
    "    def extract_words(self, text):\n",
    "        text = text.lower()\n",
    "\n",
    "        url = r'((http://)*|(https://)*|(www\\.)*|([^\\s]+.com[^\\s]+))'\n",
    "        text = re.sub(url, '', text)\n",
    "        text = re.sub('@[^\\s]+', '', text)\n",
    "\n",
    "        return text\n",
    "    \n",
    "    def fit(self, X, y=None):\n",
    "        return self\n",
    "        \n",
    "    def transform(self, X, y=None):\n",
    "        X.loc[:, 'text'].apply(lambda x: self.extract_words(x))\n",
    "        X.loc[:, 'text'].apply(lambda x: self.preprocess_words(x))\n",
    "        return X['text']"
   ]
  },
  {
   "cell_type": "code",
   "execution_count": 20,
   "metadata": {},
   "outputs": [
    {
     "data": {
      "text/plain": [
       "985745     at least she agre to go, holli cri when i ask her                                                                                   \n",
       "289625     break' over. back to work till 5:30ish. my tooth hurt so bad. i wa suppos to go to the dentist today until i found out i had to work\n",
       "574987     sorri honey                                                                                                                         \n",
       "1512945    cut up tshirt                                                                                                                       \n",
       "1165863    proper internet back tomorrow                                                                                                       \n",
       "                       ...                                                                                                                     \n",
       "241196     gotta move a queen size bed, a six chair dine room tabl set, fouton, tv, bike, &amp; clean a condo - the end of stay in 112 1800 jpa\n",
       "314375     sit at work realli quit bore again also have the begin of a headache!                                                               \n",
       "578159     guitar and art lesson tonight....fml screwwww that. poop                                                                            \n",
       "529994     all time low on mtv not again                                                                                                       \n",
       "281309     of cours im revis ive got bloodi 5 exam in 4 days!!!! i would go outsid but it no fun on my own                                     \n",
       "Name: text, Length: 200000, dtype: object"
      ]
     },
     "execution_count": 20,
     "metadata": {},
     "output_type": "execute_result"
    }
   ],
   "source": [
    "text_prep = TextPreprocessing()\n",
    "text_trans = text_prep.fit_transform(test)\n",
    "text_trans"
   ]
  },
  {
   "cell_type": "code",
   "execution_count": 110,
   "metadata": {},
   "outputs": [
    {
     "data": {
      "text/plain": [
       "50000"
      ]
     },
     "execution_count": 110,
     "metadata": {},
     "output_type": "execute_result"
    }
   ],
   "source": [
    "tfidf_vect = TfidfVectorizer(max_features=50000).fit(text_trans)\n",
    "len(tfidf_vect.vocabulary_)"
   ]
  },
  {
   "cell_type": "markdown",
   "metadata": {},
   "source": [
    "## Converting to numerical data"
   ]
  },
  {
   "cell_type": "markdown",
   "metadata": {},
   "source": [
    "#### TfidfVectorizer works as the same as CountVectorizer\n",
    "<li> Tfidf will return scores of <strong>word importances</strong>, the more the better[0 - 1].\n",
    "<li> During fit and transform process, it represents as <strong>bag of words</strong>(like countvectorizer).\n",
    "<li> It also has the same parameters as can be used for <strong> hyperparameters tuning</strong>.\n",
    "<li> To sum up, using Tfidf for <strong>extracting keywords <strong>"
   ]
  },
  {
   "cell_type": "code",
   "execution_count": 102,
   "metadata": {},
   "outputs": [
    {
     "data": {
      "text/plain": [
       "array([[0.4472136 , 0.        , 0.        , 0.        , 0.        ,\n",
       "        0.89442719],\n",
       "       [0.        , 0.5       , 0.5       , 0.5       , 0.5       ,\n",
       "        0.        ]])"
      ]
     },
     "execution_count": 102,
     "metadata": {},
     "output_type": "execute_result"
    }
   ],
   "source": [
    "tfidf_demo = TfidfVectorizer(binary=False).fit_transform(['hello world world', 'long time no see'])\n",
    "tfidf_demo.toarray()"
   ]
  },
  {
   "cell_type": "code",
   "execution_count": 106,
   "metadata": {},
   "outputs": [
    {
     "data": {
      "text/plain": [
       "array([[1, 1, 0, 0, 0, 0, 0, 0, 0, 2, 1],\n",
       "       [0, 0, 1, 1, 1, 1, 1, 1, 1, 0, 0]])"
      ]
     },
     "execution_count": 106,
     "metadata": {},
     "output_type": "execute_result"
    }
   ],
   "source": [
    "bow_demo = CountVectorizer(binary=False, ngram_range=(1, 2)).fit_transform(['hello world world', 'long time no see'])\n",
    "bow_demo.toarray()"
   ]
  },
  {
   "cell_type": "code",
   "execution_count": 109,
   "metadata": {},
   "outputs": [
    {
     "data": {
      "text/plain": [
       "{'hello': 0,\n",
       " 'world': 9,\n",
       " 'hello world': 1,\n",
       " 'world world': 10,\n",
       " 'long': 2,\n",
       " 'time': 7,\n",
       " 'no': 4,\n",
       " 'see': 6,\n",
       " 'long time': 3,\n",
       " 'time no': 8,\n",
       " 'no see': 5}"
      ]
     },
     "execution_count": 109,
     "metadata": {},
     "output_type": "execute_result"
    }
   ],
   "source": [
    "cv = CountVectorizer(ngram_range=(1, 2))\n",
    "cv.fit(['hello world world', 'long time no see'])\n",
    "cv.vocabulary_"
   ]
  },
  {
   "cell_type": "markdown",
   "metadata": {},
   "source": [
    "With <strong>binary=True</strong>"
   ]
  },
  {
   "cell_type": "code",
   "execution_count": 100,
   "metadata": {},
   "outputs": [
    {
     "data": {
      "text/plain": [
       "array([[0.70710678, 0.        , 0.        , 0.        , 0.        ,\n",
       "        0.70710678],\n",
       "       [0.        , 0.5       , 0.5       , 0.5       , 0.5       ,\n",
       "        0.        ]])"
      ]
     },
     "execution_count": 100,
     "metadata": {},
     "output_type": "execute_result"
    }
   ],
   "source": [
    "tfidf_demo2 = TfidfVectorizer(binary=True).fit_transform(['hello world world', 'long time no see'])\n",
    "tfidf_demo2.toarray()"
   ]
  },
  {
   "cell_type": "code",
   "execution_count": 101,
   "metadata": {},
   "outputs": [
    {
     "data": {
      "text/plain": [
       "array([[1, 0, 0, 0, 0, 1],\n",
       "       [0, 1, 1, 1, 1, 0]])"
      ]
     },
     "execution_count": 101,
     "metadata": {},
     "output_type": "execute_result"
    }
   ],
   "source": [
    "bow_demo2 = CountVectorizer(binary=True).fit_transform(['hello world world', 'long time no see'])\n",
    "bow_demo2.toarray()"
   ]
  },
  {
   "cell_type": "markdown",
   "metadata": {},
   "source": [
    "## Put everything together into pipeline \n"
   ]
  },
  {
   "cell_type": "markdown",
   "metadata": {},
   "source": [
    "Using <strong> pipeline </strong> to automate everything ranging from preprocessing raw text, converting to numerical data and then tuning paramaters with classifier.\n",
    "<li> There are two options in scikit-learn to make a pipeline which are <strong>make_pipeline</strong> and <strong>Pipeline</strong>\n",
    "<li> make_pipeline does not require namings of each estimator/transformer for convenience, otherwise Pipeline does.\n",
    "<li> However, Pipeline gives the access to tweak the parameters of each estimator/transformer, so using Pipeline instead."
   ]
  },
  {
   "cell_type": "code",
   "execution_count": 11,
   "metadata": {},
   "outputs": [],
   "source": [
    "from sklearn.pipeline import Pipeline\n",
    "from sklearn.linear_model import LogisticRegression"
   ]
  },
  {
   "cell_type": "code",
   "execution_count": 1,
   "metadata": {},
   "outputs": [],
   "source": [
    "from sklearn import set_config\n",
    "set_config(display='diagram') # better display pipeline in image"
   ]
  },
  {
   "cell_type": "code",
   "execution_count": 40,
   "metadata": {},
   "outputs": [],
   "source": [
    "VOCAB_SIZE = 50000\n",
    "RSEED = 42\n",
    "MAX_ITER = 2000"
   ]
  },
  {
   "cell_type": "markdown",
   "metadata": {},
   "source": [
    "Here's the pipeline:\n",
    "<li> First, it will <strong>transform</strong> all <strong>raw text</strong> into <strong>processed text</strong> and tfidf needs texts to be put as <strong>list of string</strong> so we must return a <strong>Panda Serie</strong>.\n",
    "<li> Second, tfidf will <strong>convert</strong> processed text into <strong>numerical data</strong> as machine learning models only interpret number.\n",
    "<li> Third, as always the <strong>last</strong> one estimator/transfomer <strong>represents</strong> its pipeline, meaning that pipeline will have all <strong>fit and predict</strong> method(classifier) or <strong>fit and transform</strong> method(transformer)."
   ]
  },
  {
   "cell_type": "code",
   "execution_count": 8,
   "metadata": {},
   "outputs": [
    {
     "data": {
      "text/html": [
       "<style>div.sk-top-container {color: black;background-color: white;}div.sk-toggleable {background-color: white;}label.sk-toggleable__label {cursor: pointer;display: block;width: 100%;margin-bottom: 0;padding: 0.2em 0.3em;box-sizing: border-box;text-align: center;}div.sk-toggleable__content {max-height: 0;max-width: 0;overflow: hidden;text-align: left;background-color: #f0f8ff;}div.sk-toggleable__content pre {margin: 0.2em;color: black;border-radius: 0.25em;background-color: #f0f8ff;}input.sk-toggleable__control:checked~div.sk-toggleable__content {max-height: 200px;max-width: 100%;overflow: auto;}div.sk-estimator input.sk-toggleable__control:checked~label.sk-toggleable__label {background-color: #d4ebff;}div.sk-label input.sk-toggleable__control:checked~label.sk-toggleable__label {background-color: #d4ebff;}input.sk-hidden--visually {border: 0;clip: rect(1px 1px 1px 1px);clip: rect(1px, 1px, 1px, 1px);height: 1px;margin: -1px;overflow: hidden;padding: 0;position: absolute;width: 1px;}div.sk-estimator {font-family: monospace;background-color: #f0f8ff;margin: 0.25em 0.25em;border: 1px dotted black;border-radius: 0.25em;box-sizing: border-box;}div.sk-estimator:hover {background-color: #d4ebff;}div.sk-parallel-item::after {content: \"\";width: 100%;border-bottom: 1px solid gray;flex-grow: 1;}div.sk-label:hover label.sk-toggleable__label {background-color: #d4ebff;}div.sk-serial::before {content: \"\";position: absolute;border-left: 1px solid gray;box-sizing: border-box;top: 2em;bottom: 0;left: 50%;}div.sk-serial {display: flex;flex-direction: column;align-items: center;background-color: white;}div.sk-item {z-index: 1;}div.sk-parallel {display: flex;align-items: stretch;justify-content: center;background-color: white;}div.sk-parallel-item {display: flex;flex-direction: column;position: relative;background-color: white;}div.sk-parallel-item:first-child::after {align-self: flex-end;width: 50%;}div.sk-parallel-item:last-child::after {align-self: flex-start;width: 50%;}div.sk-parallel-item:only-child::after {width: 0;}div.sk-dashed-wrapped {border: 1px dashed gray;margin: 0.2em;box-sizing: border-box;padding-bottom: 0.1em;background-color: white;position: relative;}div.sk-label label {font-family: monospace;font-weight: bold;background-color: white;display: inline-block;line-height: 1.2em;}div.sk-label-container {position: relative;z-index: 2;text-align: center;}div.sk-container {display: inline-block;position: relative;}</style><div class=\"sk-top-container\"><div class=\"sk-container\"><div class=\"sk-item sk-dashed-wrapped\"><div class=\"sk-label-container\"><div class=\"sk-label sk-toggleable\"><input class=\"sk-toggleable__control sk-hidden--visually\" id=\"92752a70-b562-4f97-be3a-8cfd3a1fab8e\" type=\"checkbox\" ><label class=\"sk-toggleable__label\" for=\"92752a70-b562-4f97-be3a-8cfd3a1fab8e\">Pipeline</label><div class=\"sk-toggleable__content\"><pre>Pipeline(steps=[('transformer', TextPreprocessing()),\n",
       "                ('tfidf',\n",
       "                 TfidfVectorizer(max_df=0.85, max_features=50000,\n",
       "                                 stop_words='english')),\n",
       "                ('clf', LogisticRegression(max_iter=2000, random_state=42))])</pre></div></div></div><div class=\"sk-serial\"><div class=\"sk-item\"><div class=\"sk-estimator sk-toggleable\"><input class=\"sk-toggleable__control sk-hidden--visually\" id=\"e6b844f7-14ff-42c5-bb4b-b01c48c10a1f\" type=\"checkbox\" ><label class=\"sk-toggleable__label\" for=\"e6b844f7-14ff-42c5-bb4b-b01c48c10a1f\">TextPreprocessing</label><div class=\"sk-toggleable__content\"><pre>TextPreprocessing()</pre></div></div></div><div class=\"sk-item\"><div class=\"sk-estimator sk-toggleable\"><input class=\"sk-toggleable__control sk-hidden--visually\" id=\"fbf413cd-e849-455b-a442-7c520ab8332c\" type=\"checkbox\" ><label class=\"sk-toggleable__label\" for=\"fbf413cd-e849-455b-a442-7c520ab8332c\">TfidfVectorizer</label><div class=\"sk-toggleable__content\"><pre>TfidfVectorizer(max_df=0.85, max_features=50000, stop_words='english')</pre></div></div></div><div class=\"sk-item\"><div class=\"sk-estimator sk-toggleable\"><input class=\"sk-toggleable__control sk-hidden--visually\" id=\"ae96729e-6df0-4449-b92b-7c7da7e8c87d\" type=\"checkbox\" ><label class=\"sk-toggleable__label\" for=\"ae96729e-6df0-4449-b92b-7c7da7e8c87d\">LogisticRegression</label><div class=\"sk-toggleable__content\"><pre>LogisticRegression(max_iter=2000, random_state=42)</pre></div></div></div></div></div></div></div>"
      ],
      "text/plain": [
       "Pipeline(steps=[('transformer', TextPreprocessing()),\n",
       "                ('tfidf',\n",
       "                 TfidfVectorizer(max_df=0.85, max_features=50000,\n",
       "                                 stop_words='english')),\n",
       "                ('clf', LogisticRegression(max_iter=2000, random_state=42))])"
      ]
     },
     "execution_count": 8,
     "metadata": {},
     "output_type": "execute_result"
    }
   ],
   "source": [
    "tfidf_pipeline = Pipeline([\n",
    "    ('transformer', TextPreprocessing()),\n",
    "    ('tfidf', TfidfVectorizer(stop_words='english', max_features=VOCAB_SIZE, max_df=0.85)),\n",
    "    ('clf', LogisticRegression(random_state=RSEED, max_iter=MAX_ITER))\n",
    "])\n",
    "tfidf_pipeline"
   ]
  },
  {
   "cell_type": "code",
   "execution_count": 32,
   "metadata": {},
   "outputs": [
    {
     "name": "stdout",
     "output_type": "stream",
     "text": [
      "{'couldn', 'by', 'o', 'so', 'nor', 'at', 'here', \"you've\", 'ourselves', 'because', 'won', 'for', 'd', 'myself', 'until', 'was', 'to', 'herself', 'not', 'having', 'are', 'who', 'did', 'doesn', 'himself', 'before', 'under', 'than', 'but', 'its', 'between', 'through', 'out', 'been', 'too', \"wasn't\", 't', 'am', 'mightn', 'were', \"isn't\", 'have', \"aren't\", 'with', 'they', 'shouldn', \"mightn't\", 'over', 'further', 'doing', 'what', 'which', 'on', 'ain', 'mustn', 'wouldn', 'once', 'can', 'in', 'will', \"she's\", 'the', 'when', \"you'll\", 'yourself', 'an', 'other', 'hasn', 'her', \"shan't\", \"shouldn't\", 'we', 'yourselves', 'down', 'same', 'above', \"mustn't\", 'him', 'theirs', 'his', 'weren', 'whom', 'about', \"weren't\", 'why', 'or', 'how', 'very', 'yours', 'of', 'own', 'those', 'it', 'me', 'and', 'itself', 'that', 'then', 'most', 'below', 'do', 'needn', 'had', 'haven', 'only', \"hadn't\", 'there', 'after', 'where', 'being', 'a', 'y', 'my', 'each', 'while', 'as', 'more', 'both', 'into', 'she', \"haven't\", 'don', 're', 'if', 'these', 'off', \"doesn't\", 'didn', 'your', 'such', \"wouldn't\", \"that'll\", 'you', 'any', \"won't\", 'is', 'be', \"it's\", 'themselves', 'does', 'against', 'has', 'he', 'hadn', \"needn't\", \"you'd\", 'aren', 'all', \"didn't\", 'few', \"hasn't\", 'just', 'this', 'from', 'them', 's', 'our', 'll', 've', 'now', \"don't\", \"couldn't\", 'isn', 'hers', 'i', 'their', 'again', 'should', 'ours', \"you're\", 'shan', 'wasn', 'during', 'm', 'ma', 'up', \"should've\", 'some', 'no'}\n"
     ]
    }
   ],
   "source": [
    "# Stopwords are words that occur in every text, they are meaningless because of not showing the uniqueness of the text\n",
    "from nltk.corpus import stopwords\n",
    "stop_words = set(stopwords.words('english'))\n",
    "print(stop_words)"
   ]
  },
  {
   "cell_type": "markdown",
   "metadata": {},
   "source": [
    "<li> max_df: ignore words that appear 85% of the entire text corpora\n",
    "<li> max_features: limit the size of vocabulary for faster fitting and transforming\n",
    "<li> stop_words: it's already included in tfidfvectorizer"
   ]
  },
  {
   "cell_type": "markdown",
   "metadata": {},
   "source": [
    "## Tweaking models"
   ]
  },
  {
   "cell_type": "code",
   "execution_count": 38,
   "metadata": {},
   "outputs": [],
   "source": [
    "from sklearn.model_selection import GridSearchCV\n",
    "from sklearn.model_selection import StratifiedKFold, KFold"
   ]
  },
  {
   "cell_type": "code",
   "execution_count": 41,
   "metadata": {},
   "outputs": [],
   "source": [
    "skf = StratifiedKFold(n_splits=5, shuffle=True, random_state=RSEED)"
   ]
  },
  {
   "cell_type": "markdown",
   "metadata": {},
   "source": [
    "#### Let's make some intuition:\n",
    "<li> grid_search does KFold Cross Validation with various designated parameters to find the best one."
   ]
  },
  {
   "cell_type": "code",
   "execution_count": 35,
   "metadata": {},
   "outputs": [
    {
     "name": "stdout",
     "output_type": "stream",
     "text": [
      "[3 4 5 6 7 8] [0 1 2]\n",
      "[0 1 2 6 7 8] [3 4 5]\n",
      "[0 1 2 3 4 5] [6 7 8]\n"
     ]
    }
   ],
   "source": [
    "kf = KFold(n_splits=3)\n",
    "for train_index, test_index in kf.split([1, 2, 3, 4, 5, 6, 7, 8, 9]):\n",
    "    print(train_index, test_index)"
   ]
  },
  {
   "cell_type": "markdown",
   "metadata": {},
   "source": [
    "<li> However, it doesn't guarantee that each fold has the same proportion of class labels.\n",
    "<li> If we have 50% positive class label and 50% negative class label, therefore if we split into k folds, each fold needs to maintain the percentage of each class label. For example, there are 1000 positive labels and 1000 negative labels and then we divide into 3 folds. In each fold it makes sure to maintain 333 negative and positive labels. </li>\n",
    "<strong>Why considering this?</strong>\n",
    "<li> Well, to avoid the model predict something that it hadn't learned yet or hadn't learned enough. Let's say if it just learned the positve class and then predict negative class, it will not do well because the negative class it hadn't been trained on.\n",
    "<li> That's is why using StratifiedKFold leading to more accurate result and ensuring that the model will generalize well to new data."
   ]
  },
  {
   "cell_type": "code",
   "execution_count": 14,
   "metadata": {},
   "outputs": [
    {
     "data": {
      "text/html": [
       "<style>div.sk-top-container {color: black;background-color: white;}div.sk-toggleable {background-color: white;}label.sk-toggleable__label {cursor: pointer;display: block;width: 100%;margin-bottom: 0;padding: 0.2em 0.3em;box-sizing: border-box;text-align: center;}div.sk-toggleable__content {max-height: 0;max-width: 0;overflow: hidden;text-align: left;background-color: #f0f8ff;}div.sk-toggleable__content pre {margin: 0.2em;color: black;border-radius: 0.25em;background-color: #f0f8ff;}input.sk-toggleable__control:checked~div.sk-toggleable__content {max-height: 200px;max-width: 100%;overflow: auto;}div.sk-estimator input.sk-toggleable__control:checked~label.sk-toggleable__label {background-color: #d4ebff;}div.sk-label input.sk-toggleable__control:checked~label.sk-toggleable__label {background-color: #d4ebff;}input.sk-hidden--visually {border: 0;clip: rect(1px 1px 1px 1px);clip: rect(1px, 1px, 1px, 1px);height: 1px;margin: -1px;overflow: hidden;padding: 0;position: absolute;width: 1px;}div.sk-estimator {font-family: monospace;background-color: #f0f8ff;margin: 0.25em 0.25em;border: 1px dotted black;border-radius: 0.25em;box-sizing: border-box;}div.sk-estimator:hover {background-color: #d4ebff;}div.sk-parallel-item::after {content: \"\";width: 100%;border-bottom: 1px solid gray;flex-grow: 1;}div.sk-label:hover label.sk-toggleable__label {background-color: #d4ebff;}div.sk-serial::before {content: \"\";position: absolute;border-left: 1px solid gray;box-sizing: border-box;top: 2em;bottom: 0;left: 50%;}div.sk-serial {display: flex;flex-direction: column;align-items: center;background-color: white;}div.sk-item {z-index: 1;}div.sk-parallel {display: flex;align-items: stretch;justify-content: center;background-color: white;}div.sk-parallel-item {display: flex;flex-direction: column;position: relative;background-color: white;}div.sk-parallel-item:first-child::after {align-self: flex-end;width: 50%;}div.sk-parallel-item:last-child::after {align-self: flex-start;width: 50%;}div.sk-parallel-item:only-child::after {width: 0;}div.sk-dashed-wrapped {border: 1px dashed gray;margin: 0.2em;box-sizing: border-box;padding-bottom: 0.1em;background-color: white;position: relative;}div.sk-label label {font-family: monospace;font-weight: bold;background-color: white;display: inline-block;line-height: 1.2em;}div.sk-label-container {position: relative;z-index: 2;text-align: center;}div.sk-container {display: inline-block;position: relative;}</style><div class=\"sk-top-container\"><div class=\"sk-container\"><div class=\"sk-item sk-dashed-wrapped\"><div class=\"sk-label-container\"><div class=\"sk-label sk-toggleable\"><input class=\"sk-toggleable__control sk-hidden--visually\" id=\"cfe8fdcf-d0bc-461e-8b38-167373fae269\" type=\"checkbox\" ><label class=\"sk-toggleable__label\" for=\"cfe8fdcf-d0bc-461e-8b38-167373fae269\">GridSearchCV</label><div class=\"sk-toggleable__content\"><pre>GridSearchCV(cv=StratifiedKFold(n_splits=5, random_state=42, shuffle=True),\n",
       "             estimator=Pipeline(steps=[('transformer', TextPreprocessing()),\n",
       "                                       ('tfidf',\n",
       "                                        TfidfVectorizer(max_df=0.85,\n",
       "                                                        max_features=50000,\n",
       "                                                        stop_words='english')),\n",
       "                                       ('clf',\n",
       "                                        LogisticRegression(max_iter=2000,\n",
       "                                                           random_state=42))]),\n",
       "             param_grid=[{'clf__C': [100, 10, 1],\n",
       "                          'clf__solver': ['liblinear', 'lbfgs'],\n",
       "                          'tfidf__binary': [True, False],\n",
       "                          'tfidf__ngram_range': [(2, 4), (1, 2)]}],\n",
       "             scoring='accuracy')</pre></div></div></div><div class=\"sk-parallel\"><div class=\"sk-parallel-item\"><div class=\"sk-item\"><div class=\"sk-serial\"><div class=\"sk-item\"><div class=\"sk-serial\"><div class=\"sk-item\"><div class=\"sk-estimator sk-toggleable\"><input class=\"sk-toggleable__control sk-hidden--visually\" id=\"9c30aae9-d5f3-49d7-bf47-5dd5e235f617\" type=\"checkbox\" ><label class=\"sk-toggleable__label\" for=\"9c30aae9-d5f3-49d7-bf47-5dd5e235f617\">TextPreprocessing</label><div class=\"sk-toggleable__content\"><pre>TextPreprocessing()</pre></div></div></div><div class=\"sk-item\"><div class=\"sk-estimator sk-toggleable\"><input class=\"sk-toggleable__control sk-hidden--visually\" id=\"db10b9d4-0857-4ca2-9c86-9e2a22414d54\" type=\"checkbox\" ><label class=\"sk-toggleable__label\" for=\"db10b9d4-0857-4ca2-9c86-9e2a22414d54\">TfidfVectorizer</label><div class=\"sk-toggleable__content\"><pre>TfidfVectorizer(max_df=0.85, max_features=50000, stop_words='english')</pre></div></div></div><div class=\"sk-item\"><div class=\"sk-estimator sk-toggleable\"><input class=\"sk-toggleable__control sk-hidden--visually\" id=\"3bf9f769-929e-44ae-a93b-966435ad5726\" type=\"checkbox\" ><label class=\"sk-toggleable__label\" for=\"3bf9f769-929e-44ae-a93b-966435ad5726\">LogisticRegression</label><div class=\"sk-toggleable__content\"><pre>LogisticRegression(max_iter=2000, random_state=42)</pre></div></div></div></div></div></div></div></div></div></div></div></div>"
      ],
      "text/plain": [
       "GridSearchCV(cv=StratifiedKFold(n_splits=5, random_state=42, shuffle=True),\n",
       "             estimator=Pipeline(steps=[('transformer', TextPreprocessing()),\n",
       "                                       ('tfidf',\n",
       "                                        TfidfVectorizer(max_df=0.85,\n",
       "                                                        max_features=50000,\n",
       "                                                        stop_words='english')),\n",
       "                                       ('clf',\n",
       "                                        LogisticRegression(max_iter=2000,\n",
       "                                                           random_state=42))]),\n",
       "             param_grid=[{'clf__C': [100, 10, 1],\n",
       "                          'clf__solver': ['liblinear', 'lbfgs'],\n",
       "                          'tfidf__binary': [True, False],\n",
       "                          'tfidf__ngram_range': [(2, 4), (1, 2)]}],\n",
       "             scoring='accuracy')"
      ]
     },
     "execution_count": 14,
     "metadata": {},
     "output_type": "execute_result"
    }
   ],
   "source": [
    "param_grids = [{\n",
    "    'tfidf__ngram_range': [(2, 4), (1, 2)], # 2 options\n",
    "    'tfidf__binary': [True, False], # 2 options\n",
    "    'clf__solver': ['liblinear', 'lbfgs'], # 2 options\n",
    "    'clf__C': [100, 10, 1] # 4 options\n",
    "}]\n",
    "# In scikit-learn it is easy to compute Stratified sampling as we just put cv parameter equals stratified k folds\n",
    "grid_tfidf = GridSearchCV(tfidf_pipeline, param_grids, cv=skf, scoring='accuracy')\n",
    "grid_tfidf"
   ]
  },
  {
   "cell_type": "markdown",
   "metadata": {},
   "source": [
    "With this params, we have 2 x 2 x 2 x 3 = 24 combinations, it takes quite a long time to achieve the result.\n",
    "<li> How does this work? Actually we use a 5 stratified k-fold, so it will be divided into 5 folds each fold has equal proportion of class labels and then it calls fit method on 4 folds and do make prediction on the remaninig. This step will continue as long as every fold is a test set(being predicted).\n",
    "<li> This works the same as cross_val_score but gives superb power to automatically manipulate parameter combinations."
   ]
  },
  {
   "cell_type": "code",
   "execution_count": 37,
   "metadata": {},
   "outputs": [
    {
     "name": "stdout",
     "output_type": "stream",
     "text": [
      "dict_keys(['cv', 'error_score', 'estimator__memory', 'estimator__steps', 'estimator__verbose', 'estimator__transformer', 'estimator__tfidf', 'estimator__clf', 'estimator__tfidf__analyzer', 'estimator__tfidf__binary', 'estimator__tfidf__decode_error', 'estimator__tfidf__dtype', 'estimator__tfidf__encoding', 'estimator__tfidf__input', 'estimator__tfidf__lowercase', 'estimator__tfidf__max_df', 'estimator__tfidf__max_features', 'estimator__tfidf__min_df', 'estimator__tfidf__ngram_range', 'estimator__tfidf__norm', 'estimator__tfidf__preprocessor', 'estimator__tfidf__smooth_idf', 'estimator__tfidf__stop_words', 'estimator__tfidf__strip_accents', 'estimator__tfidf__sublinear_tf', 'estimator__tfidf__token_pattern', 'estimator__tfidf__tokenizer', 'estimator__tfidf__use_idf', 'estimator__tfidf__vocabulary', 'estimator__clf__C', 'estimator__clf__class_weight', 'estimator__clf__dual', 'estimator__clf__fit_intercept', 'estimator__clf__intercept_scaling', 'estimator__clf__l1_ratio', 'estimator__clf__max_iter', 'estimator__clf__multi_class', 'estimator__clf__n_jobs', 'estimator__clf__penalty', 'estimator__clf__random_state', 'estimator__clf__solver', 'estimator__clf__tol', 'estimator__clf__verbose', 'estimator__clf__warm_start', 'estimator', 'iid', 'n_jobs', 'param_grid', 'pre_dispatch', 'refit', 'return_train_score', 'scoring', 'verbose'])\n"
     ]
    }
   ],
   "source": [
    "print(grid_tfidf.get_params().keys()) # BaseEstimator and namings of pipeline give the param keys for tuning"
   ]
  },
  {
   "cell_type": "code",
   "execution_count": 38,
   "metadata": {},
   "outputs": [],
   "source": [
    "import warnings\n",
    "warnings.simplefilter(action='ignore', category=FutureWarning)"
   ]
  },
  {
   "cell_type": "markdown",
   "metadata": {},
   "source": [
    "Well, the FutureWarning: <strong>From version 0.24, get_params will raise an AttributeError \n",
    "if a parameter cannot be retrieved as an instance attribute. \n",
    "Previously it would return None</strong>.\n",
    "Actually, according to the author of scikit-learn it's a bug: https://github.com/scikit-learn/scikit-learn/issues/16336"
   ]
  },
  {
   "cell_type": "code",
   "execution_count": 39,
   "metadata": {},
   "outputs": [],
   "source": [
    "import time"
   ]
  },
  {
   "cell_type": "code",
   "execution_count": 13,
   "metadata": {},
   "outputs": [],
   "source": [
    "X = data[['text']]\n",
    "y = data.sentiment"
   ]
  },
  {
   "cell_type": "code",
   "execution_count": 41,
   "metadata": {},
   "outputs": [
    {
     "data": {
      "text/plain": [
       "11686.517559051514"
      ]
     },
     "execution_count": 41,
     "metadata": {},
     "output_type": "execute_result"
    }
   ],
   "source": [
    "start = time.time()\n",
    "grid_tfidf.fit(X, y)\n",
    "time.time() - start"
   ]
  },
  {
   "cell_type": "code",
   "execution_count": 42,
   "metadata": {},
   "outputs": [
    {
     "name": "stdout",
     "output_type": "stream",
     "text": [
      "Pipeline(steps=[('transformer', TextPreprocessing()),\n",
      "                ('tfidf',\n",
      "                 TfidfVectorizer(binary=True, max_df=0.85, max_features=50000,\n",
      "                                 ngram_range=(1, 2), stop_words='english')),\n",
      "                ('clf',\n",
      "                 LogisticRegression(C=1, max_iter=2000, random_state=42))])\n",
      "{'clf__C': 1, 'clf__solver': 'lbfgs', 'tfidf__binary': True, 'tfidf__ngram_range': (1, 2)}\n",
      "0.7720100000000001\n"
     ]
    }
   ],
   "source": [
    "print(grid_tfidf.best_estimator_, grid_tfidf.best_params_, grid_tfidf.best_score_, sep='\\n')"
   ]
  },
  {
   "cell_type": "code",
   "execution_count": 43,
   "metadata": {},
   "outputs": [],
   "source": [
    "import joblib"
   ]
  },
  {
   "cell_type": "code",
   "execution_count": 44,
   "metadata": {},
   "outputs": [
    {
     "data": {
      "text/plain": [
       "['grid_tfidf.joblib']"
      ]
     },
     "execution_count": 44,
     "metadata": {},
     "output_type": "execute_result"
    }
   ],
   "source": [
    "joblib.dump(grid_tfidf, ('grid_tfidf.joblib')) # saving model"
   ]
  },
  {
   "cell_type": "code",
   "execution_count": 15,
   "metadata": {},
   "outputs": [],
   "source": [
    "bow_pipeline = Pipeline([\n",
    "    ('transformer', TextPreprocessing()),\n",
    "    ('bow', CountVectorizer(stop_words='english', max_features=VOCAB_SIZE, max_df=0.85)),\n",
    "    ('clf', LogisticRegression(random_state=RSEED, max_iter=MAX_ITER))\n",
    "])"
   ]
  },
  {
   "cell_type": "code",
   "execution_count": 18,
   "metadata": {},
   "outputs": [
    {
     "data": {
      "text/html": [
       "<style>div.sk-top-container {color: black;background-color: white;}div.sk-toggleable {background-color: white;}label.sk-toggleable__label {cursor: pointer;display: block;width: 100%;margin-bottom: 0;padding: 0.2em 0.3em;box-sizing: border-box;text-align: center;}div.sk-toggleable__content {max-height: 0;max-width: 0;overflow: hidden;text-align: left;background-color: #f0f8ff;}div.sk-toggleable__content pre {margin: 0.2em;color: black;border-radius: 0.25em;background-color: #f0f8ff;}input.sk-toggleable__control:checked~div.sk-toggleable__content {max-height: 200px;max-width: 100%;overflow: auto;}div.sk-estimator input.sk-toggleable__control:checked~label.sk-toggleable__label {background-color: #d4ebff;}div.sk-label input.sk-toggleable__control:checked~label.sk-toggleable__label {background-color: #d4ebff;}input.sk-hidden--visually {border: 0;clip: rect(1px 1px 1px 1px);clip: rect(1px, 1px, 1px, 1px);height: 1px;margin: -1px;overflow: hidden;padding: 0;position: absolute;width: 1px;}div.sk-estimator {font-family: monospace;background-color: #f0f8ff;margin: 0.25em 0.25em;border: 1px dotted black;border-radius: 0.25em;box-sizing: border-box;}div.sk-estimator:hover {background-color: #d4ebff;}div.sk-parallel-item::after {content: \"\";width: 100%;border-bottom: 1px solid gray;flex-grow: 1;}div.sk-label:hover label.sk-toggleable__label {background-color: #d4ebff;}div.sk-serial::before {content: \"\";position: absolute;border-left: 1px solid gray;box-sizing: border-box;top: 2em;bottom: 0;left: 50%;}div.sk-serial {display: flex;flex-direction: column;align-items: center;background-color: white;}div.sk-item {z-index: 1;}div.sk-parallel {display: flex;align-items: stretch;justify-content: center;background-color: white;}div.sk-parallel-item {display: flex;flex-direction: column;position: relative;background-color: white;}div.sk-parallel-item:first-child::after {align-self: flex-end;width: 50%;}div.sk-parallel-item:last-child::after {align-self: flex-start;width: 50%;}div.sk-parallel-item:only-child::after {width: 0;}div.sk-dashed-wrapped {border: 1px dashed gray;margin: 0.2em;box-sizing: border-box;padding-bottom: 0.1em;background-color: white;position: relative;}div.sk-label label {font-family: monospace;font-weight: bold;background-color: white;display: inline-block;line-height: 1.2em;}div.sk-label-container {position: relative;z-index: 2;text-align: center;}div.sk-container {display: inline-block;position: relative;}</style><div class=\"sk-top-container\"><div class=\"sk-container\"><div class=\"sk-item sk-dashed-wrapped\"><div class=\"sk-label-container\"><div class=\"sk-label sk-toggleable\"><input class=\"sk-toggleable__control sk-hidden--visually\" id=\"03c223d5-760f-428c-ad5f-aa989a0adf30\" type=\"checkbox\" ><label class=\"sk-toggleable__label\" for=\"03c223d5-760f-428c-ad5f-aa989a0adf30\">GridSearchCV</label><div class=\"sk-toggleable__content\"><pre>GridSearchCV(cv=StratifiedKFold(n_splits=5, random_state=42, shuffle=True),\n",
       "             estimator=Pipeline(steps=[('transformer', TextPreprocessing()),\n",
       "                                       ('bow',\n",
       "                                        CountVectorizer(max_df=0.85,\n",
       "                                                        max_features=50000,\n",
       "                                                        stop_words='english')),\n",
       "                                       ('clf',\n",
       "                                        LogisticRegression(max_iter=2000,\n",
       "                                                           random_state=42))]),\n",
       "             param_grid=[{'bow__binary': [True, False],\n",
       "                          'bow__ngram_range': [(1, 2), (2, 4)],\n",
       "                          'clf__C': [100, 10, 1],\n",
       "                          'clf__solver': ['liblinear', 'lbfgs']}],\n",
       "             scoring='accuracy')</pre></div></div></div><div class=\"sk-parallel\"><div class=\"sk-parallel-item\"><div class=\"sk-item\"><div class=\"sk-serial\"><div class=\"sk-item\"><div class=\"sk-serial\"><div class=\"sk-item\"><div class=\"sk-estimator sk-toggleable\"><input class=\"sk-toggleable__control sk-hidden--visually\" id=\"b6b3f33c-9707-4676-b820-8f315ef87350\" type=\"checkbox\" ><label class=\"sk-toggleable__label\" for=\"b6b3f33c-9707-4676-b820-8f315ef87350\">TextPreprocessing</label><div class=\"sk-toggleable__content\"><pre>TextPreprocessing()</pre></div></div></div><div class=\"sk-item\"><div class=\"sk-estimator sk-toggleable\"><input class=\"sk-toggleable__control sk-hidden--visually\" id=\"0cd3ad9f-78a1-4216-8365-bf254361ce93\" type=\"checkbox\" ><label class=\"sk-toggleable__label\" for=\"0cd3ad9f-78a1-4216-8365-bf254361ce93\">CountVectorizer</label><div class=\"sk-toggleable__content\"><pre>CountVectorizer(max_df=0.85, max_features=50000, stop_words='english')</pre></div></div></div><div class=\"sk-item\"><div class=\"sk-estimator sk-toggleable\"><input class=\"sk-toggleable__control sk-hidden--visually\" id=\"ee79a557-991e-4bdc-a92d-f93c1777494c\" type=\"checkbox\" ><label class=\"sk-toggleable__label\" for=\"ee79a557-991e-4bdc-a92d-f93c1777494c\">LogisticRegression</label><div class=\"sk-toggleable__content\"><pre>LogisticRegression(max_iter=2000, random_state=42)</pre></div></div></div></div></div></div></div></div></div></div></div></div>"
      ],
      "text/plain": [
       "GridSearchCV(cv=StratifiedKFold(n_splits=5, random_state=42, shuffle=True),\n",
       "             estimator=Pipeline(steps=[('transformer', TextPreprocessing()),\n",
       "                                       ('bow',\n",
       "                                        CountVectorizer(max_df=0.85,\n",
       "                                                        max_features=50000,\n",
       "                                                        stop_words='english')),\n",
       "                                       ('clf',\n",
       "                                        LogisticRegression(max_iter=2000,\n",
       "                                                           random_state=42))]),\n",
       "             param_grid=[{'bow__binary': [True, False],\n",
       "                          'bow__ngram_range': [(1, 2), (2, 4)],\n",
       "                          'clf__C': [100, 10, 1],\n",
       "                          'clf__solver': ['liblinear', 'lbfgs']}],\n",
       "             scoring='accuracy')"
      ]
     },
     "execution_count": 18,
     "metadata": {},
     "output_type": "execute_result"
    }
   ],
   "source": [
    "param_grids = [{\n",
    "    'bow__ngram_range': [(1, 2), (2, 4)],\n",
    "    'bow__binary': [True, False],\n",
    "    'clf__solver': ['liblinear', 'lbfgs'],\n",
    "    'clf__C': [100, 10, 1]\n",
    "}]\n",
    "grid_bow = GridSearchCV(bow_pipeline, param_grids, cv=skf, scoring='accuracy')\n",
    "grid_bow"
   ]
  },
  {
   "cell_type": "code",
   "execution_count": 47,
   "metadata": {},
   "outputs": [
    {
     "data": {
      "text/plain": [
       "13296.13487291336"
      ]
     },
     "execution_count": 47,
     "metadata": {},
     "output_type": "execute_result"
    }
   ],
   "source": [
    "start = time.time()\n",
    "grid_bow.fit(X, y)\n",
    "time.time() - start"
   ]
  },
  {
   "cell_type": "code",
   "execution_count": 48,
   "metadata": {},
   "outputs": [
    {
     "data": {
      "text/plain": [
       "['grid_bow.joblib']"
      ]
     },
     "execution_count": 48,
     "metadata": {},
     "output_type": "execute_result"
    }
   ],
   "source": [
    "joblib.dump(grid_bow, 'grid_bow.joblib')"
   ]
  },
  {
   "cell_type": "code",
   "execution_count": 49,
   "metadata": {},
   "outputs": [
    {
     "name": "stdout",
     "output_type": "stream",
     "text": [
      "Pipeline(steps=[('transformer', TextPreprocessing()),\n",
      "                ('bow',\n",
      "                 CountVectorizer(binary=True, max_df=0.85, max_features=50000,\n",
      "                                 ngram_range=(1, 2), stop_words='english')),\n",
      "                ('clf',\n",
      "                 LogisticRegression(C=1, max_iter=2000, random_state=42,\n",
      "                                    solver='liblinear'))])\n",
      "{'bow__binary': True, 'bow__ngram_range': (1, 2), 'clf__C': 1, 'clf__solver': 'liblinear'}\n",
      "0.7655099999999999\n"
     ]
    }
   ],
   "source": [
    "print(grid_bow.best_estimator_, grid_bow.best_params_, grid_bow.best_score_, sep='\\n')"
   ]
  },
  {
   "cell_type": "code",
   "execution_count": 26,
   "metadata": {},
   "outputs": [],
   "source": [
    "from sklearn.model_selection import cross_val_score"
   ]
  },
  {
   "cell_type": "code",
   "execution_count": 9,
   "metadata": {},
   "outputs": [],
   "source": [
    "from sklearn.naive_bayes import MultinomialNB"
   ]
  },
  {
   "cell_type": "code",
   "execution_count": 20,
   "metadata": {},
   "outputs": [],
   "source": [
    "multinomial_pipeline = Pipeline([\n",
    "    ('transformer', TextPreprocessing()),\n",
    "    ('tfidf', TfidfVectorizer(stop_words='english', max_df=0.85, ngram_range=(1, 2))),\n",
    "    ('clf', MultinomialNB())\n",
    "])"
   ]
  },
  {
   "cell_type": "code",
   "execution_count": 42,
   "metadata": {},
   "outputs": [
    {
     "data": {
      "text/plain": [
       "0.75974"
      ]
     },
     "execution_count": 42,
     "metadata": {},
     "output_type": "execute_result"
    }
   ],
   "source": [
    "cross_val_score(multinomial_pipeline, X, y, cv=skf, scoring='accuracy').mean()"
   ]
  },
  {
   "cell_type": "code",
   "execution_count": 23,
   "metadata": {},
   "outputs": [],
   "source": [
    "from sklearn.svm import LinearSVC"
   ]
  },
  {
   "cell_type": "code",
   "execution_count": 24,
   "metadata": {},
   "outputs": [],
   "source": [
    "linear_kernel_pipeline = Pipeline([\n",
    "    ('transformer', TextPreprocessing()),\n",
    "    ('tfidf', TfidfVectorizer(stop_words='english', max_df=0.85, ngram_range=(1, 2))),\n",
    "    ('clf', LinearSVC())\n",
    "])"
   ]
  },
  {
   "cell_type": "code",
   "execution_count": 43,
   "metadata": {},
   "outputs": [
    {
     "data": {
      "text/plain": [
       "0.769335"
      ]
     },
     "execution_count": 43,
     "metadata": {},
     "output_type": "execute_result"
    }
   ],
   "source": [
    "cross_val_score(linear_kernel_pipeline, X, y, cv=skf, scoring='accuracy').mean()"
   ]
  },
  {
   "cell_type": "markdown",
   "metadata": {},
   "source": [
    "#### What will be the result if we train on small dataset?"
   ]
  },
  {
   "cell_type": "code",
   "execution_count": 27,
   "metadata": {},
   "outputs": [],
   "source": [
    "data_small = data.sample(20000)\n",
    "X_small = data_small[['text']]\n",
    "y_small = data_small.sentiment"
   ]
  },
  {
   "cell_type": "code",
   "execution_count": 29,
   "metadata": {},
   "outputs": [],
   "source": [
    "import joblib"
   ]
  },
  {
   "cell_type": "code",
   "execution_count": 31,
   "metadata": {},
   "outputs": [],
   "source": [
    "os.chdir('/Users/trump/Desktop/Sentiment_Analysis')"
   ]
  },
  {
   "cell_type": "code",
   "execution_count": 34,
   "metadata": {},
   "outputs": [],
   "source": [
    "log_reg = joblib.load('grid_tfidf.joblib').best_estimator_"
   ]
  },
  {
   "cell_type": "code",
   "execution_count": 44,
   "metadata": {},
   "outputs": [
    {
     "data": {
      "text/plain": [
       "0.7388"
      ]
     },
     "execution_count": 44,
     "metadata": {},
     "output_type": "execute_result"
    }
   ],
   "source": [
    "cross_val_score(log_reg, X_small, y_small, cv=skf, scoring='accuracy').mean()"
   ]
  },
  {
   "cell_type": "code",
   "execution_count": 45,
   "metadata": {},
   "outputs": [
    {
     "data": {
      "text/plain": [
       "0.7303999999999999"
      ]
     },
     "execution_count": 45,
     "metadata": {},
     "output_type": "execute_result"
    }
   ],
   "source": [
    "cross_val_score(multinomial_pipeline, X_small, y_small, cv=skf, scoring='accuracy').mean()"
   ]
  },
  {
   "cell_type": "code",
   "execution_count": 46,
   "metadata": {},
   "outputs": [
    {
     "data": {
      "text/plain": [
       "0.7363"
      ]
     },
     "execution_count": 46,
     "metadata": {},
     "output_type": "execute_result"
    }
   ],
   "source": [
    "cross_val_score(linear_kernel_pipeline, X_small, y_small, cv=skf, scoring='accuracy').mean()"
   ]
  },
  {
   "cell_type": "markdown",
   "metadata": {},
   "source": [
    "<li> with <strong>small samples</strong> BOW seems to work better, because it was not trained on enough data\n",
    "<li> When the data is <strong>large enough</strong>, tfidf always produces better result. It is clear that because BOW just converts words into numbers, tfidf does complete one more step <strong>weighting</strong> each word(magnitude of word's importances).\n",
    "<li> To conclude, tdidf is much <strong>preferred</strong> when it comes to model's accuracy."
   ]
  },
  {
   "cell_type": "markdown",
   "metadata": {},
   "source": [
    "## Evaluation metrics"
   ]
  },
  {
   "cell_type": "code",
   "execution_count": 60,
   "metadata": {},
   "outputs": [],
   "source": [
    "from sklearn.model_selection import cross_val_predict\n",
    "from sklearn.metrics import precision_score, recall_score, f1_score, confusion_matrix\n",
    "from sklearn.metrics import roc_auc_score, roc_curve, precision_recall_curve"
   ]
  },
  {
   "cell_type": "markdown",
   "metadata": {},
   "source": [
    "Some evaluation terms:\n",
    "<li> <strong>True positive rate(TPR)</strong> or <strong>Recall</strong>: when it's actual yes, how often does it predict yes?\n",
    "<li> <strong>True negative rate(TFR)</strong> or <strong>Specificity</strong>: when it's actual no, how often does it predict no?"
   ]
  },
  {
   "cell_type": "code",
   "execution_count": 4,
   "metadata": {},
   "outputs": [],
   "source": [
    "import joblib\n",
    "import os"
   ]
  },
  {
   "cell_type": "code",
   "execution_count": 6,
   "metadata": {},
   "outputs": [],
   "source": [
    "os.chdir('/Users/trump/Desktop/Sentiment_Analysis')"
   ]
  },
  {
   "cell_type": "code",
   "execution_count": 11,
   "metadata": {},
   "outputs": [],
   "source": [
    "grid_tfidf = joblib.load('grid_tfidf.joblib')\n",
    "grid_bow = joblib.load('grid_bow.joblib')"
   ]
  },
  {
   "cell_type": "code",
   "execution_count": 12,
   "metadata": {},
   "outputs": [],
   "source": [
    "model_tfidf = grid_tfidf.best_estimator_\n",
    "model_bow = grid_bow.best_estimator_"
   ]
  },
  {
   "cell_type": "code",
   "execution_count": 27,
   "metadata": {},
   "outputs": [],
   "source": [
    "def compute_metrics(model, X, y):\n",
    "    y_pred = cross_val_predict(model, X, y, cv=skf) \n",
    "    # this will do cross validation and make prediction on each fold and then return the predicted class\n",
    "    # the same as when calling classifier.predict_proba but with stratified k folds\n",
    "    print(f'precision_score: {precision_score(y, y_pred, pos_label=4)}')\n",
    "    print(f'recall_score: {recall_score(y, y_pred, pos_label=4)}')\n",
    "    print(f'f1_score: {f1_score(y, y_pred, pos_label=4)}')\n",
    "    cm = confusion_matrix(y, y_pred)\n",
    "    sns.heatmap(cm, annot=True, fmt='.5g')\n",
    "    plt.xlabel('Predicted value')\n",
    "    plt.ylabel('True value')\n",
    "    plt.plot()"
   ]
  },
  {
   "cell_type": "code",
   "execution_count": 39,
   "metadata": {},
   "outputs": [
    {
     "name": "stdout",
     "output_type": "stream",
     "text": [
      "precision_score: 0.7597404470079308\n",
      "recall_score: 0.7891520549586611\n",
      "f1_score: 0.7741670054316683\n"
     ]
    },
    {
     "data": {
      "image/png": "[encoded data removed]",
      "text/plain": [
       "<Figure size 432x288 with 2 Axes>"
      ]
     },
     "metadata": {
      "needs_background": "light"
     },
     "output_type": "display_data"
    }
   ],
   "source": [
    "compute_metrics(model_tfidf, X, y)"
   ]
  },
  {
   "cell_type": "code",
   "execution_count": 58,
   "metadata": {},
   "outputs": [],
   "source": [
    "def mapping(x): \n",
    "    if x == 4:\n",
    "        return 1\n",
    "    return 0"
   ]
  },
  {
   "cell_type": "code",
   "execution_count": 135,
   "metadata": {},
   "outputs": [],
   "source": [
    "def precision_recall_vs_threshold(model, X, y, threshold=False):\n",
    "    y_mapped = y.map(lambda x: mapping(x)) # Conventionally, postive class is 1\n",
    "    y_scores = cross_val_predict(model, X, y, cv=skf, method='predict_proba') # method depends on chosen algorithm\n",
    "\n",
    "    # this will do cross validation and then return the probabily of each class in that sample\n",
    "    precisions, recalls, thresholds = precision_recall_curve(y_mapped, y_scores[:, 1])\n",
    "    plt.plot(thresholds, precisions[:-1], 'r--', label='Precision')\n",
    "    plt.plot(thresholds, recalls[:-1], 'b--', label='Recall')\n",
    "    plt.xlabel('Thresholds')\n",
    "    plt.legend(loc='best')\n",
    "    plt.ylim([0, 1.1])"
   ]
  },
  {
   "cell_type": "code",
   "execution_count": 136,
   "metadata": {},
   "outputs": [
    {
     "data": {
      "image/png": "[encoded data removed]",
      "text/plain": [
       "<Figure size 432x288 with 1 Axes>"
      ]
     },
     "metadata": {},
     "output_type": "display_data"
    }
   ],
   "source": [
    "precision_recall_vs_threshold(model_tfidf, X, y)"
   ]
  },
  {
   "cell_type": "markdown",
   "metadata": {},
   "source": [
    "<li> Precision = TP / (TP + FP)\n",
    "<li> Recall = TP / (TP + FN)"
   ]
  },
  {
   "cell_type": "markdown",
   "metadata": {},
   "source": [
    "Plot shows the trade-off between precision and recall, the high precision the low recall and vice versa"
   ]
  },
  {
   "cell_type": "markdown",
   "metadata": {},
   "source": [
    "<strong> Which one should you choose ?"
   ]
  },
  {
   "cell_type": "markdown",
   "metadata": {},
   "source": [
    "So it really depends on the situation. For example, if you are dealing with reviews of customer and you don't want to miss out any negative reviews as you do listen and care for your customer's experiences, and you maybe ignore some positive reviews as it's oke because it's already positive and you don't need to pay attention"
   ]
  },
  {
   "cell_type": "markdown",
   "metadata": {},
   "source": [
    "Therefore, <strong> high precision </strong> (low FP)  and <strong> low recall </strong> (high FN) would definitely be a choice"
   ]
  },
  {
   "cell_type": "markdown",
   "metadata": {},
   "source": [
    "According to the above plot, <strong> Threshold = 0.8 </strong> would gives you this alternative"
   ]
  },
  {
   "cell_type": "code",
   "execution_count": 41,
   "metadata": {},
   "outputs": [],
   "source": [
    "y_pred = cross_val_predict(model_tfidf, X, y, cv=skf, method='predict_proba')[:, 1] > 0.8"
   ]
  },
  {
   "cell_type": "code",
   "execution_count": 56,
   "metadata": {},
   "outputs": [],
   "source": [
    "def convert_4_to_1(x):\n",
    "    return 1 if x == 4 else 0"
   ]
  },
  {
   "cell_type": "code",
   "execution_count": 43,
   "metadata": {},
   "outputs": [
    {
     "name": "stdout",
     "output_type": "stream",
     "text": [
      "precision_score: 0.91170473609498\n",
      "recall_score: 0.35271797739345767\n",
      "f1_score: 0.5086505439438992\n"
     ]
    },
    {
     "data": {
      "text/plain": [
       "[]"
      ]
     },
     "execution_count": 43,
     "metadata": {},
     "output_type": "execute_result"
    },
    {
     "data": {
      "image/png": "[encoded data removed]",
      "text/plain": [
       "<Figure size 432x288 with 2 Axes>"
      ]
     },
     "metadata": {
      "needs_background": "light"
     },
     "output_type": "display_data"
    }
   ],
   "source": [
    "y_pred = y_pred.astype('int')\n",
    "y = y.map(lambda x: convert_4_to_1(x))\n",
    "print(f'precision_score: {precision_score(y, y_pred)}')\n",
    "print(f'recall_score: {recall_score(y, y_pred)}')\n",
    "print(f'f1_score: {f1_score(y, y_pred,)}')\n",
    "cm = confusion_matrix(y, y_pred)\n",
    "sns.heatmap(cm, annot=True, fmt='.5g')\n",
    "plt.xlabel('Predicted value')\n",
    "plt.ylabel('True value')\n",
    "plt.plot()"
   ]
  },
  {
   "cell_type": "markdown",
   "metadata": {},
   "source": [
    "Clearly, changing the threshold will get you to the <strong>point</strong> where precision is <strong>high</strong> and recall is <strong>low</strong>"
   ]
  },
  {
   "cell_type": "code",
   "execution_count": 70,
   "metadata": {},
   "outputs": [],
   "source": [
    "def plot_roc_curve_func(models, colors, vectorizers, X, y):\n",
    "    for model, color, vect in zip(models, colors, vectorizers):\n",
    "        y_mapped = y.map(lambda x: mapping(x))\n",
    "        if vect == 'Linear Kernel':\n",
    "            y_scores = cross_val_predict(model, X, y, cv=skf, method='decision_function')\n",
    "            tpr, fpr, _ = roc_curve(y_mapped, y_scores)\n",
    "            auc = roc_auc_score(y_mapped, y_scores)\n",
    "        else:\n",
    "            y_scores = cross_val_predict(model, X, y, cv=skf, method='predict_proba')\n",
    "            tpr, fpr, _ = roc_curve(y_mapped, y_scores[:, 1])\n",
    "            auc = roc_auc_score(y_mapped, y_scores[:, 1])\n",
    "        plt.plot(tpr, fpr, color, label= f'AUC {vect} = {auc:.2f}')\n",
    "        \n",
    "    plt.xlabel('False Positive Rate(1 - Specificity)')\n",
    "    plt.ylabel('True Positive Rate(Recall)')\n",
    "    plt.legend(loc='best')"
   ]
  },
  {
   "cell_type": "code",
   "execution_count": 138,
   "metadata": {},
   "outputs": [
    {
     "data": {
      "image/png": "[encoded data removed]",
      "text/plain": [
       "<Figure size 432x288 with 1 Axes>"
      ]
     },
     "metadata": {},
     "output_type": "display_data"
    }
   ],
   "source": [
    "colors = ['r--', 'b--']\n",
    "models = [model_tfidf, model_bow]\n",
    "vectorizers = ['Tfidf', 'Bow']\n",
    "plot_roc_curve_func(models, colors, vectorizers, X, y)"
   ]
  },
  {
   "cell_type": "markdown",
   "metadata": {},
   "source": [
    "Comparing two models, Tfidf is <strong> slightly better</strong> than bag of words.\n",
    "<li> ROC Curve is metrics to evaluate how the <strong>model perform</strong>(TPR on y-axis, FPR on x-axis)\n",
    "<li> Clearly, which model tends to be <strong>higher to upper left</strong> is more substantial (high TPR and low FPR)"
   ]
  },
  {
   "cell_type": "code",
   "execution_count": 71,
   "metadata": {},
   "outputs": [
    {
     "data": {
      "image/png": "[encoded data removed]",
      "text/plain": [
       "<Figure size 432x288 with 1 Axes>"
      ]
     },
     "metadata": {
      "needs_background": "light"
     },
     "output_type": "display_data"
    }
   ],
   "source": [
    "colors = ['r--', 'b--', 'g--']\n",
    "models = [linear_kernel_pipeline, multinomial_pipeline, log_reg]\n",
    "vectorizers = ['Linear Kernel', 'Multinomial', 'Logistic']\n",
    "plot_roc_curve_func(models, colors, vectorizers, X, y)"
   ]
  },
  {
   "cell_type": "code",
   "execution_count": 51,
   "metadata": {},
   "outputs": [],
   "source": [
    "tweets = pd.DataFrame(\n",
    "    ['Today the weather is quite bad. I will not go outside.',\n",
    "     \n",
    "    'How awesome it is to play with you',\n",
    "     \n",
    "    'A Democrat win in 2020 would be a tragic setback for African Americans',\n",
    "     \n",
    "    'Our Coronavirus testing is so much greater (25 million tests) and so much more advanced, that it\\\n",
    "     makes us look we have more cases, especially proportionally, than other countries.\\\n",
    "     My message on that is very clear.'], \n",
    "    \n",
    "     columns=['text'])"
   ]
  },
  {
   "cell_type": "code",
   "execution_count": 19,
   "metadata": {},
   "outputs": [
    {
     "data": {
      "text/plain": [
       "array([0, 4, 0, 4])"
      ]
     },
     "execution_count": 19,
     "metadata": {},
     "output_type": "execute_result"
    }
   ],
   "source": [
    "model_tfidf.predict(tweets)"
   ]
  },
  {
   "cell_type": "markdown",
   "metadata": {},
   "source": [
    "## END."
   ]
  }
 ],
 "metadata": {
  "kernelspec": {
   "display_name": "Python 3",
   "language": "python",
   "name": "python3"
  },
  "language_info": {
   "codemirror_mode": {
    "name": "ipython",
    "version": 3
   },
   "file_extension": ".py",
   "mimetype": "text/x-python",
   "name": "python",
   "nbconvert_exporter": "python",
   "pygments_lexer": "ipython3",
   "version": "3.7.4"
  }
 },
 "nbformat": 4,
 "nbformat_minor": 2
}
