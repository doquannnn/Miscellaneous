{
 "cells": [
  {
   "cell_type": "markdown",
   "metadata": {},
   "source": [
    "### Abstraction"
   ]
  },
  {
   "cell_type": "markdown",
   "metadata": {},
   "source": [
    "&nbsp;&nbsp;&nbsp; Với mỗi truy vấn, kiểm tra 2 chuỗi con liên tiếp nhau của chuỗi được cho có cùng số lượng kí tự"
   ]
  },
  {
   "cell_type": "markdown",
   "metadata": {},
   "source": [
    "### Pattern Recognition"
   ]
  },
  {
   "cell_type": "markdown",
   "metadata": {},
   "source": [
    "&nbsp;&nbsp;&nbsp; Thoạt nhìn, nếu chưa tối ưu về không gian và bộ nhớ thì trong trường hợp xấu nhất q = 10<sup>5</sup> với 2 chuỗi con có độ dài có độ dài 10<sup>5</sup> thì độ phức tạp tổng là <br>\n",
    "&nbsp;&nbsp;&nbsp; 10<sup>10</sup> => Time limit exceeded <br>\n",
    "&nbsp;&nbsp;&nbsp; Vậy ta sẽ nghĩ về cách **tối ưu hoá thời gian** và không cần kiểm tra lại, vì các số lượng từ là các chữ cái viết thường a-z <br>\n",
    "&nbsp;&nbsp;&nbsp; nên ta sẽ dùng mảng ánh xạ tại thời điểm thứ **i** trong chuỗi có **các kí tự nào** và **số lượng**, như vậy kết quả là kiểm tra xem 2 mảng: <br>\n",
    "&nbsp;&nbsp;&nbsp; **hash_alphabet_freqency[b] - hash_alphabet_frequency[a] == hash_alphabet_freqency[d] - hash_alphabet_frequency[c]** với <br>\n",
    "&nbsp;&nbsp;&nbsp; hash_alphabet_frequency tại **i** có độ dài 26 đại diện cho a-z - số lượng các kí tự"
   ]
  },
  {
   "cell_type": "code",
   "execution_count": 1,
   "metadata": {},
   "outputs": [
    {
     "name": "stdout",
     "output_type": "stream",
     "text": [
      "abcbacaac\n",
      "2\n",
      "1 3 4 6\n",
      "YES\n",
      "1 3 5 7\n",
      "NO\n"
     ]
    }
   ],
   "source": [
    "s = input().strip()\n",
    "n = len(s)\n",
    "alphabet = []\n",
    "current = [0 for _ in range(26)]\n",
    "\n",
    "for c in s:\n",
    "    current[ord(c) - 97] += 1\n",
    "    alphabet.append(tuple(current))\n",
    "\n",
    "q = int(input())\n",
    "\n",
    "for i in range(q):\n",
    "    a, b, c, d = map(int, input().split())\n",
    "    if d - c != b - a:\n",
    "        print(\"NO\")\n",
    "        continue\n",
    "    if a == 1:\n",
    "        a_to_b = alphabet[b - 1]\n",
    "    else:\n",
    "        a_to_b = tuple([x - y for x, y in zip(alphabet[b - 1], alphabet[a - 2])])\n",
    "    if c == 1:\n",
    "        c_to_d = alphabet[d - 1]\n",
    "    else:\n",
    "        c_to_d = tuple([x - y for x, y in zip(alphabet[d - 1], alphabet[c - 2])])\n",
    "    # print(a_to_b, c_to_d, sep='\\n')\n",
    "    print(\"YES\" if a_to_b == c_to_d else \"NO\")\n"
   ]
  },
  {
   "cell_type": "markdown",
   "metadata": {},
   "source": [
    "&nbsp;&nbsp;&nbsp; Tuy nhiên, kết quả sẽ là memory limit exceeded => Cần một cách khác không dùng mảng để ánh xạ các kí tự <br>\n",
    "&nbsp;&nbsp;&nbsp; Ta sẽ sử dụng hashing, lúc này việc **gán giá trị** cho các kí tự thế nào là hợp lí? Ta phải đảm bảo các **giá trị** của các kí tự là **\"duy nhất\"** <br>\n",
    "&nbsp;&nbsp;&nbsp; Ví dụ: nếu ta ánh xạ các kí tự a-z từ 0-26. Có 2 chuỗi con liên tiếp nhau<br>\n",
    "&nbsp;&nbsp;&nbsp;&nbsp;&nbsp; abbc 0 + 1 + 1 + 2 = 4 <br>\n",
    "&nbsp;&nbsp;&nbsp;&nbsp;&nbsp; acab 0 + 2 + 0 + 2 = 4 <br>\n",
    "&nbsp;&nbsp;&nbsp; => tổng thì bằng nhau mà 2 chuỗi con thì không bằng nhau => giá trị chưa đủ **\"duy nhất\"** <br>\n",
    "&nbsp;&nbsp;&nbsp; "
   ]
  },
  {
   "cell_type": "markdown",
   "metadata": {},
   "source": [
    "&nbsp;&nbsp;&nbsp; Để nhanh hơn, ta dùng cách đọc của thư viện sys là stdin sẽ làm cho chương trình chạy nhanh hơn"
   ]
  },
  {
   "cell_type": "markdown",
   "metadata": {},
   "source": [
    "### Alogrithm designed"
   ]
  },
  {
   "cell_type": "markdown",
   "metadata": {},
   "source": [
    "&nbsp;&nbsp;&nbsp; **Input**: <br>\n",
    "&nbsp;&nbsp;&nbsp;&nbsp;&nbsp; chuỗi **s** <br>\n",
    "&nbsp;&nbsp;&nbsp;&nbsp;&nbsp; **q** truy vấn (1 ≤  q  ≤ 10<sup>5</sup>)<br>\n",
    "&nbsp;&nbsp;&nbsp;&nbsp;&nbsp; **a, b, c, d** tức chuỗi con s[**a:b**], s[**c:d**] (1 ≤ **a** ≤ **b** ≤ n, 1 ≤ **c** ≤ **d** ≤ n) <br>\n",
    "&nbsp;&nbsp;&nbsp; **Output**: <br>\n",
    "&nbsp;&nbsp;&nbsp;&nbsp;&nbsp; \"YES\" hoặc \"NO\""
   ]
  },
  {
   "cell_type": "markdown",
   "metadata": {},
   "source": [
    "&nbsp;&nbsp;&nbsp; **Pseudocode**\n",
    "\n",
    "&nbsp;&nbsp;&nbsp;hash_val = list: hash(c) for c in english alphabet <br>\n",
    "&nbsp;&nbsp;&nbsp;total_hash_vals <- 0 <br>\n",
    "\n",
    "&nbsp;&nbsp;&nbsp;for c in s: <br>\n",
    "&nbsp;&nbsp;&nbsp;&nbsp;&nbsp;    total_hash_vals <- total_hash_vals + hash_val[ord(c) - 97] <br>\n",
    "&nbsp;&nbsp;&nbsp;&nbsp;&nbsp;    hash_alphabet_frequency.append(total_hash_vals) <br>\n",
    "\n",
    "&nbsp;&nbsp;&nbsp;for i in range(q): <br>\n",
    "&nbsp;&nbsp;&nbsp;&nbsp;&nbsp;    if a == 1: <br>\n",
    "&nbsp;&nbsp;&nbsp;&nbsp;&nbsp;&nbsp;&nbsp;        a_to_b <- hash_alphabet_freqency[b - 1] <br>\n",
    "&nbsp;&nbsp;&nbsp;&nbsp;&nbsp;    else: <br>\n",
    "&nbsp;&nbsp;&nbsp;&nbsp;&nbsp;&nbsp;&nbsp;        a_to_b = hash_alphabet_frequency[b - 1] - hash_alphabet_frequency[a - 2] <br>\n",
    "&nbsp;&nbsp;&nbsp;&nbsp;&nbsp;    if c == 1: <br>\n",
    "&nbsp;&nbsp;&nbsp;&nbsp;&nbsp;&nbsp;&nbsp;        c_to_d = hash_alphabet_frequency[d - 1] <br>\n",
    "&nbsp;&nbsp;&nbsp;&nbsp;&nbsp;    else: <br>\n",
    "&nbsp;&nbsp;&nbsp;&nbsp;&nbsp;&nbsp;&nbsp;        c_to_d = hash_alphabet_frequency[d - 1] - hash_alphabet_frequency[c - 2] <br>\n",
    "    \n",
    "&nbsp;&nbsp;&nbsp;&nbsp;&nbsp;    if a_to_b == c_to_d: <br>\n",
    "&nbsp;&nbsp;&nbsp;&nbsp;&nbsp;&nbsp;&nbsp;        print(\"YES\") <br>\n",
    "&nbsp;&nbsp;&nbsp;&nbsp;&nbsp;    else: <br>\n",
    "&nbsp;&nbsp;&nbsp;&nbsp;&nbsp;&nbsp;&nbsp;        print(\"NO\") <br>\n",
    "        "
   ]
  },
  {
   "cell_type": "code",
   "execution_count": null,
   "metadata": {},
   "outputs": [],
   "source": [
    "from sys import stdin, stdout\n",
    "import string\n",
    "s = stdin.readline().strip()\n",
    "n = len(s)\n",
    "hash_alphabet_frequency = []\n",
    "hash_vals = [hash(c) for c in string.ascii_lowercase]\n",
    "total_hash_vals = 0\n",
    "\n",
    "for c in s:\n",
    "    total_hash_vals += hash_vals[ord(c) - 97]\n",
    "    hash_alphabet_frequency.append(total_hash_vals)\n",
    "\n",
    "q = int(input())\n",
    "\n",
    "for i in range(q):\n",
    "    a, b, c, d = map(int, stdin.readline().split())\n",
    "    if a == 1:\n",
    "        a_to_b = hash_alphabet_frequency[b - 1]\n",
    "    else:\n",
    "        a_to_b = hash_alphabet_frequency[b - 1] - hash_alphabet_frequency[a - 2]\n",
    "    if c == 1:\n",
    "        c_to_d = hash_alphabet_frequency[d - 1]\n",
    "    else:\n",
    "        c_to_d = hash_alphabet_frequency[d - 1] - hash_alphabet_frequency[c - 2]\n",
    "    # print(a_to_b, c_to_d, sep='\\n')\n",
    "    print(\"YES\" if a_to_b == c_to_d else \"NO\")\n"
   ]
  }
 ],
 "metadata": {
  "kernelspec": {
   "display_name": "Python 3",
   "language": "python",
   "name": "python3"
  },
  "language_info": {
   "codemirror_mode": {
    "name": "ipython",
    "version": 3
   },
   "file_extension": ".py",
   "mimetype": "text/x-python",
   "name": "python",
   "nbconvert_exporter": "python",
   "pygments_lexer": "ipython3",
   "version": "3.7.4"
  }
 },
 "nbformat": 4,
 "nbformat_minor": 2
}
