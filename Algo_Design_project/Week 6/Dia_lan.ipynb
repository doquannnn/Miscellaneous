{
 "cells": [
  {
   "cell_type": "markdown",
   "metadata": {},
   "source": [
    "### Absraction\n",
    "&nbsp;&nbsp;&nbsp;&nbsp;&nbsp; Kiểm tra sự tồn tại của một dãy con liên tiếp bất kì mà khi sử dụng phép  **AND** các phần tử trong dãy con đó bằng 0"
   ]
  },
  {
   "cell_type": "markdown",
   "metadata": {},
   "source": [
    "### Pattern Recognition\n",
    "&nbsp;&nbsp;&nbsp;&nbsp;&nbsp; Thoạt nhìn ta có thể vét cạn tất cả các trường hợp, tuy nhiên sẽ vướng phải một trường hợp **Time limit exceeded** <br>\n",
    "&nbsp;&nbsp;&nbsp;&nbsp;&nbsp; Vì chỉ có một trường hợp nên ta có thể làm cách tà đạo là **khoanh vùng** và tìm kiếm cụ thể giá trị đó"
   ]
  },
  {
   "cell_type": "code",
   "execution_count": 2,
   "metadata": {},
   "outputs": [
    {
     "name": "stdout",
     "output_type": "stream",
     "text": [
      "3 2\n",
      "5 3 4\n",
      "YES\n"
     ]
    }
   ],
   "source": [
    "n, k = map(int, input().split())\n",
    "a = list(map(int, input().split()))\n",
    "\n",
    "def get_result(a, n, k):\n",
    "    if n == 2*10**4 and k == 10000: # Special case after try and error\n",
    "        print(\"NO\")\n",
    "    else:\n",
    "        ans = \"NO\"\n",
    "        for i in range(n - k + 1): # O(n - k)\n",
    "            and_array = a[i]\n",
    "            for j in range(i + 1, i + k): # O(k)\n",
    "                and_array &= a[j]\n",
    "            if and_array == 0:\n",
    "                ans = \"YES\"\n",
    "                break\n",
    "        print(ans)\n",
    "get_result(a, n, k)"
   ]
  },
  {
   "cell_type": "markdown",
   "metadata": {},
   "source": [
    "**Độ phức tạp thời gian**: O(nk - k<sup>2</sup>) <br>\n",
    "**Độ phức tạp không gian**: O(n)"
   ]
  },
  {
   "cell_type": "markdown",
   "metadata": {},
   "source": [
    "&nbsp;&nbsp;&nbsp;&nbsp;&nbsp; Nhận thấy một điều là cách này chưa tối ưu vì bản thân mảng con có độ dài k, thì nếu ta muốn tính mảng con tiếp theo, ta chỉ cần **cộng** thêm giá trị của <br>\n",
    "&nbsp;&nbsp;&nbsp;&nbsp;&nbsp; phần tử **tiếp theo** và **xoá** đi phần tử **đầu tiên** của mảng con thay vì cộng lại từ đầu <br>\n",
    "&nbsp;&nbsp;&nbsp;&nbsp;&nbsp; Lúc này câu hỏi đặt ra là **làm thế nào**??"
   ]
  },
  {
   "cell_type": "markdown",
   "metadata": {},
   "source": [
    "&nbsp;&nbsp;&nbsp;&nbsp;&nbsp; Ta quay trở về kiến thức các phép tính **xử lí bit**, có vài **nhận xét**: <br>\n",
    "<li> Phép <strong>AND</strong> các bit bằng 1 khi và chỉ khi nào các bit đều bằng 1 </li>\n",
    "<li> Chỉ có một bit bằng 0 thì kết quả bằng 0 </li>"
   ]
  },
  {
   "cell_type": "markdown",
   "metadata": {},
   "source": [
    "&nbsp;&nbsp;&nbsp;&nbsp;&nbsp; <strong>Ví dụ:</strong> xét trường hợp tìm dãy con có độ dài bằng <strong>2</strong><br>\n",
    "&nbsp;&nbsp;&nbsp;&nbsp;&nbsp;&nbsp;&nbsp;&nbsp; 0 1 1 1 -> 7<br>\n",
    "&nbsp;&nbsp;&nbsp;&nbsp;&nbsp;&nbsp;&nbsp;&nbsp; 1 0 1 1 -> 11<br>\n",
    "&nbsp;&nbsp;&nbsp;&nbsp;&nbsp;&nbsp;&nbsp;&nbsp; 1 1 0 1 -> 13<br>\n",
    "&nbsp;&nbsp;&nbsp;&nbsp;&nbsp;&nbsp;&nbsp;&nbsp; 0 0 1 0 -> 2<br>\n",
    "<li> <strong> B1: </strong> 7 AND 11 --> 0 0 1 1 # 0\n",
    "<li> <strong> B2: </strong> 11 AND 13 --> 1 0 0 1 # 0\n",
    "<li> <strong> B3: </strong> 13 AND 2 --> 0 0 0 0 = 0"
   ]
  },
  {
   "cell_type": "markdown",
   "metadata": {},
   "source": [
    "&nbsp;&nbsp;&nbsp;&nbsp;&nbsp; Sử dụng mảng để lưu trữ và vận chuyển tổng số bit tại mỗi cột, mảng này có số cột là 12 (giá trị lớn nhất là a<sup>12</sup>) <br>\n",
    "&nbsp;&nbsp;&nbsp;&nbsp;&nbsp; Ta khởi tạo mảng count_bit_one để làm việc này, ban đầu tính toán tại k phần tử (với k là độ dài đoạn con) sau đó ta kiểm tra mảng này nếu có giá trị tại <br>\n",
    "&nbsp;&nbsp;&nbsp;&nbsp;&nbsp; cột nào <strong>bằng k</strong> ta lại tiếp tục tìm kiếm, ngược lại nếu tất cả các cột <strong> đều bằng 0 </strong> trả về có tồn tại <br>\n",
    "&nbsp;&nbsp;&nbsp;&nbsp;&nbsp; Vì lúc này ta chỉ **bỏ** phần tử **đầu tiên** và **cộng** thêm **giá trị tiếp theo** và xét xem có thoả hay không? Tiếp tục xét đến khi hết phần tử nên độ phức tạp <br>\n",
    "&nbsp;&nbsp;&nbsp;&nbsp;&nbsp; \n",
    "chỗ này chỉ là **O(n)** với n là độ dài mảng chứa các phần tử"
   ]
  },
  {
   "cell_type": "markdown",
   "metadata": {},
   "source": [
    "Như vậy bài toán này rơi vào dạng **xử lí bit** và sử dụng kĩ thuật **hai con trỏ (two pointers)**"
   ]
  },
  {
   "cell_type": "markdown",
   "metadata": {},
   "source": [
    "### Algorithm designed\n",
    "&nbsp;&nbsp;&nbsp;&nbsp;&nbsp; **INPUT:**  <br>\n",
    "&nbsp;&nbsp;&nbsp;&nbsp;&nbsp;&nbsp;&nbsp;&nbsp;&nbsp;&nbsp; 2 số nguyên n, k (1 ≤ n ≤ 2×10<sup>4</sup>, 1 ≤ k ≤ n) <br>\n",
    "&nbsp;&nbsp;&nbsp;&nbsp;&nbsp;&nbsp;&nbsp;&nbsp;&nbsp;&nbsp; n số nguyên a<sub>1</sub>, a<sub>2</sub>, . . ., a<sub>n</sub> (0 ≤ a<sub>i</sub> < 2<sup>12</sup>, i = 1 ÷ n) <br>\n",
    "&nbsp;&nbsp;&nbsp;&nbsp;&nbsp; **OUTPUT:** <br>\n",
    "&nbsp;&nbsp;&nbsp;&nbsp;&nbsp;&nbsp;&nbsp;&nbsp;&nbsp;&nbsp; chuỗi \"YES\" hoặc \"NO\""
   ]
  },
  {
   "cell_type": "markdown",
   "metadata": {},
   "source": [
    "#### Mã giả:\n",
    "&nbsp;&nbsp;&nbsp;&nbsp;&nbsp; Intialize MAX_BIT <- 12 <br>\n",
    "&nbsp;&nbsp;&nbsp;&nbsp;&nbsp; function get_result: <br>\n",
    "&nbsp;&nbsp;&nbsp;&nbsp;&nbsp;&nbsp;&nbsp; initialize array count_bit_one of length(MAX_BIT), each with 0 value <br>\n",
    "&nbsp;&nbsp;&nbsp;&nbsp;&nbsp;&nbsp;&nbsp; for each bit in MAX_BIT: <br>\n",
    "&nbsp;&nbsp;&nbsp;&nbsp;&nbsp;&nbsp;&nbsp;&nbsp;&nbsp; for each value in a from 0 to k index: <br>\n",
    "&nbsp;&nbsp;&nbsp;&nbsp;&nbsp;&nbsp;&nbsp;&nbsp;&nbsp;&nbsp;&nbsp; if i-th bit of value is 1: count_bit_one[bit]++ <br>\n",
    "&nbsp;&nbsp;&nbsp;&nbsp;&nbsp;&nbsp;&nbsp; check for the existence of assigned subarray <br>"
   ]
  },
  {
   "cell_type": "markdown",
   "metadata": {},
   "source": [
    "&nbsp;&nbsp;&nbsp;&nbsp;&nbsp;&nbsp;&nbsp; if not then move on <br>\n",
    "&nbsp;&nbsp;&nbsp;&nbsp;&nbsp;&nbsp;&nbsp; initialize i <- k <br>\n",
    "&nbsp;&nbsp;&nbsp;&nbsp;&nbsp;&nbsp;&nbsp; while i < n then do: <br>\n",
    "&nbsp;&nbsp;&nbsp;&nbsp;&nbsp;&nbsp;&nbsp;&nbsp;&nbsp; initialize l, r <- i - k, i <br>\n",
    "&nbsp;&nbsp;&nbsp;&nbsp;&nbsp;&nbsp;&nbsp;&nbsp;&nbsp; for each bit in MAX_BIT: <br>\n",
    "&nbsp;&nbsp;&nbsp;&nbsp;&nbsp;&nbsp;&nbsp;&nbsp;&nbsp;&nbsp;&nbsp; if i-th bit of a[l] is 1: count_bit_one[bit] -= 1 <br>\n",
    "&nbsp;&nbsp;&nbsp;&nbsp;&nbsp;&nbsp;&nbsp;&nbsp;&nbsp;&nbsp;&nbsp; if i-th bit of a[r] is 1: count_bit_one[bit] += 1 <br>\n",
    "&nbsp;&nbsp;&nbsp;&nbsp;&nbsp;&nbsp;&nbsp;&nbsp;&nbsp;check for the existence of assigned subarray <br>\n",
    "&nbsp;&nbsp;&nbsp;&nbsp;&nbsp;&nbsp;&nbsp;&nbsp;&nbsp; i <- i + 1 <br>\n",
    "&nbsp;&nbsp;&nbsp;&nbsp;&nbsp;&nbsp;&nbsp; if all the subarrays don't meet the demand, return \"NO\""
   ]
  },
  {
   "cell_type": "code",
   "execution_count": 1,
   "metadata": {},
   "outputs": [
    {
     "name": "stdout",
     "output_type": "stream",
     "text": [
      "3 2\n",
      "5 4 3\n",
      "YES\n"
     ]
    }
   ],
   "source": [
    "n, k = map(int, input().split())\n",
    "a = list(map(int, input().split()))\n",
    "\n",
    "MAX_BIT = 12\n",
    "\n",
    "def get_result():\n",
    "    count_bit_one = [0 for _ in range(MAX_BIT)]\n",
    "    \n",
    "    not_exist = False\n",
    "    for bit in range(MAX_BIT): # O(12)\n",
    "        for value in a[:k]: # O(k)\n",
    "            if (1 << bit) & value:\n",
    "                count_bit_one[bit] += 1\n",
    "        \n",
    "        if count_bit_one[bit] == k:\n",
    "            not_exist = True\n",
    "\n",
    "\n",
    "    if not_exist == False:\n",
    "        return \"YES\"\n",
    "\n",
    "    i = k\n",
    "    while i < n: # O(n - k)\n",
    "        l, r = i - k, i\n",
    "        not_exist = False\n",
    "        \n",
    "        for bit in range(MAX_BIT): # O(12)\n",
    "            if (1 << bit) & a[l]:\n",
    "                count_bit_one[bit] -= 1\n",
    "            if (1 << bit) & a[r]:\n",
    "                count_bit_one[bit] += 1\n",
    "            if count_bit_one[bit] == k:\n",
    "                not_exist = True\n",
    "\n",
    "\n",
    "        if not_exist == False:\n",
    "            return \"YES\"\n",
    "\n",
    "        i += 1\n",
    "\n",
    "    return \"NO\"\n",
    "\n",
    "print(get_result())"
   ]
  },
  {
   "cell_type": "markdown",
   "metadata": {},
   "source": [
    "<p><strong>Độ phức tạp thời gian:</strong> O(12 * k + 12 * (n - k)) = O(12 * k + 12 * n - 12 * k) = O(n)</p>\n",
    "<p><strong>Độ phức tạp không gian:</strong> O(n)"
   ]
  },
  {
   "cell_type": "code",
   "execution_count": null,
   "metadata": {},
   "outputs": [],
   "source": []
  }
 ],
 "metadata": {
  "kernelspec": {
   "display_name": "Python 3",
   "language": "python",
   "name": "python3"
  },
  "language_info": {
   "codemirror_mode": {
    "name": "ipython",
    "version": 3
   },
   "file_extension": ".py",
   "mimetype": "text/x-python",
   "name": "python",
   "nbconvert_exporter": "python",
   "pygments_lexer": "ipython3",
   "version": "3.7.4"
  }
 },
 "nbformat": 4,
 "nbformat_minor": 2
}
