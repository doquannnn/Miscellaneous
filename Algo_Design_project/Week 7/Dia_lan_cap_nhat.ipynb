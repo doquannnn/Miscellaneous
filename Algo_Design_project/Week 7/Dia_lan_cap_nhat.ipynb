{
 "cells": [
  {
   "cell_type": "markdown",
   "metadata": {},
   "source": [
    "### Abstraction\n",
    "&nbsp;&nbsp;&nbsp;&nbsp;&nbsp; Kiểm tra sự tồn tại của một dãy con bất kì (**liên tiếp hoặc không**) mà khi sử dụng phép  **AND** các phần tử trong dãy con đó bằng 0"
   ]
  },
  {
   "cell_type": "markdown",
   "metadata": {},
   "source": [
    "### Pattern Recognition\n",
    "&nbsp;&nbsp;&nbsp;&nbsp;&nbsp; Ta có vài nhận xét như sau: <br>\n",
    "&nbsp;&nbsp;&nbsp;&nbsp;&nbsp; + Chọn số có bit 0 nhiều nhất ở những vị trí bit chưa được chọn <br>\n",
    "&nbsp;&nbsp;&nbsp;&nbsp;&nbsp; + Nếu tìm được các số **<** k thì **chắc chắn** thoả đề, không cần duyệt nữa <br>\n",
    "&nbsp;&nbsp;&nbsp;&nbsp;&nbsp; + Nếu tìm được các số **>** k thì **chưa chắc** thoả đề <br>\n",
    "&nbsp;&nbsp;&nbsp;&nbsp;&nbsp; Ví dụ ý tưởng: <br>\n",
    "&nbsp;&nbsp;&nbsp;&nbsp;&nbsp;&nbsp;&nbsp; 1100  <br>\n",
    "&nbsp;&nbsp;&nbsp;&nbsp;&nbsp;&nbsp;&nbsp; 1110  <br>\n",
    "&nbsp;&nbsp;&nbsp;&nbsp;&nbsp;&nbsp;&nbsp; 1011  <br>\n",
    "&nbsp;&nbsp;&nbsp;&nbsp;&nbsp;&nbsp;&nbsp; 0111  <br>\n",
    "&nbsp;&nbsp;&nbsp;&nbsp;&nbsp;&nbsp;&nbsp; 1111   <br>\n",
    "&nbsp;&nbsp;&nbsp;&nbsp;&nbsp; B1: Số có bit 0 nhiều là 0001 như vậy có giá trị khởi đầu là 1100 <br>\n",
    "&nbsp;&nbsp;&nbsp;&nbsp;&nbsp; B2: lúc này ta chỉ quan tâm tới các bit 1 còn lại (tức bit chưa được chọn) **11**00 <br>\n",
    "&nbsp;&nbsp;&nbsp;&nbsp;&nbsp; B3: Ta tìm được số 1**0**11 thoả nên **AND** 2 số này thành **1**000 <br>\n",
    "&nbsp;&nbsp;&nbsp;&nbsp;&nbsp; B4: Còn bit đầu tiên là 1 chưa thoả ta tìm tiếp và thấy số **0**111 thoả nên **AND** 2 số này thành 0, trả về kết quả tìm thấy <br>\n",
    "&nbsp;&nbsp;&nbsp;&nbsp;&nbsp; Như vậy, ta xây dựng nên giải thuật, nếu tìm được các số **<=** k theo cách tham lam chọn các số có **bit 0 nhiều nhất** ở những **vị trí bit chưa được chọn** <br>\n",
    "&nbsp;&nbsp;&nbsp;&nbsp;&nbsp; mà khi **AND** các số đó lại **bằng 0** thì tìm được ngược lại thì không tìm thấy  <br>\n",
    "&nbsp;&nbsp;&nbsp;&nbsp;&nbsp; -> Xử lí bit và áp dụng giải thuật tham lam"
   ]
  },
  {
   "cell_type": "markdown",
   "metadata": {},
   "source": [
    "### Algorithm designed\n",
    "&nbsp;&nbsp;&nbsp;&nbsp;&nbsp; MAX_NUM <- 2 ** 14 - 1 <br>\n",
    "&nbsp;&nbsp;&nbsp;&nbsp;&nbsp; MAX_BIT <- 12 <br>\n",
    "&nbsp;&nbsp;&nbsp;&nbsp;&nbsp; function count_bit_zero_of_remainder(and_up_to_now, x): count number of bit zeros in bits not taken into account yet <br>\n",
    "&nbsp;&nbsp;&nbsp;&nbsp;&nbsp;&nbsp;&nbsp;&nbsp; cnt <- 0 <br>\n",
    "&nbsp;&nbsp;&nbsp;&nbsp;&nbsp;&nbsp;&nbsp;&nbsp; for i in range(MAX_BIT): <br>\n",
    "&nbsp;&nbsp;&nbsp;&nbsp;&nbsp;&nbsp;&nbsp;&nbsp;&nbsp;&nbsp; if i-th bit in and_up_to_now is 1 and x is 0: cnt += 1 <br>\n",
    "&nbsp;&nbsp;&nbsp;&nbsp;&nbsp;&nbsp;&nbsp;&nbsp; return cnt <br>"
   ]
  },
  {
   "cell_type": "markdown",
   "metadata": {},
   "source": [
    "&nbsp;&nbsp;&nbsp;&nbsp;&nbsp; max_num <- MAX_NUM <br>\n",
    "&nbsp;&nbsp;&nbsp;&nbsp;&nbsp; count_ai <- 0 <br>\n",
    "&nbsp;&nbsp;&nbsp;&nbsp;&nbsp; for bit in range(MAX_BIT): <br>\n",
    "&nbsp;&nbsp;&nbsp;&nbsp;&nbsp;&nbsp;&nbsp; if position bit of max_num is 1: <br>\n",
    "&nbsp;&nbsp;&nbsp;&nbsp;&nbsp;&nbsp;&nbsp;&nbsp;&nbsp; most_zeros, num_with_most_zeros <- 0, None <br>\n",
    "&nbsp;&nbsp;&nbsp;&nbsp;&nbsp;&nbsp;&nbsp;&nbsp;&nbsp; for ai in a: <br>\n",
    "&nbsp;&nbsp;&nbsp;&nbsp;&nbsp;&nbsp;&nbsp;&nbsp;&nbsp;&nbsp;&nbsp; if position bit of ai is 0: <br>\n",
    "&nbsp;&nbsp;&nbsp;&nbsp;&nbsp;&nbsp;&nbsp;&nbsp;&nbsp;&nbsp;&nbsp;&nbsp;&nbsp; temp <- count_bit_zero_of_remainder(max_num, ai) <br>\n",
    "&nbsp;&nbsp;&nbsp;&nbsp;&nbsp;&nbsp;&nbsp;&nbsp;&nbsp;&nbsp;&nbsp;&nbsp;&nbsp; if temp > most_zeros: <br>\n",
    "&nbsp;&nbsp;&nbsp;&nbsp;&nbsp;&nbsp;&nbsp;&nbsp;&nbsp;&nbsp;&nbsp;&nbsp;&nbsp;&nbsp;&nbsp; update most_zeros = temp<br>\n",
    "&nbsp;&nbsp;&nbsp;&nbsp;&nbsp;&nbsp;&nbsp;&nbsp;&nbsp;&nbsp;&nbsp;&nbsp;&nbsp;&nbsp;&nbsp; update num_with_most_zeros = ai <br>\n",
    "&nbsp;&nbsp;&nbsp;&nbsp;&nbsp;&nbsp;&nbsp;&nbsp;&nbsp;&nbsp;&nbsp;&nbsp;&nbsp; if most_zeros == 0: return \"NO\" <br>\n",
    "&nbsp;&nbsp;&nbsp;&nbsp;&nbsp;&nbsp;&nbsp;&nbsp;&nbsp;&nbsp;&nbsp;&nbsp;&nbsp; count_ai += 1 <br>\n",
    "&nbsp;&nbsp;&nbsp;&nbsp;&nbsp;&nbsp;&nbsp;&nbsp;&nbsp;&nbsp;&nbsp;&nbsp;&nbsp; max_num &= num_with_most_zeros <br>\n",
    "&nbsp;&nbsp;&nbsp;&nbsp;&nbsp;&nbsp;&nbsp;&nbsp;&nbsp;&nbsp;&nbsp;&nbsp;&nbsp; if count_ai <= k and max_num == 0 return \"YES\" <br>\n",
    "&nbsp;&nbsp;&nbsp;&nbsp;&nbsp; return \"NO\""
   ]
  },
  {
   "cell_type": "code",
   "execution_count": 1,
   "metadata": {},
   "outputs": [
    {
     "name": "stdout",
     "output_type": "stream",
     "text": [
      "3 2\n",
      "5 4 3\n",
      "YES\n"
     ]
    }
   ],
   "source": [
    "from collections import namedtuple\n",
    "Constants = namedtuple(\"Constant\", ['MAX_NUM', 'MAX_BIT'])\n",
    "constants = Constants(2**12 - 1, 12)\n",
    "\n",
    "\n",
    "def count_bit_zero_of_remainder(and_array: int, x: int) -> int:\n",
    "    count_bit_zero = 0\n",
    "    for bit in range(constants.MAX_BIT): \n",
    "        if (1 << bit) & and_array and (1 << bit) & x == 0:\n",
    "                count_bit_zero += 1\n",
    "    return count_bit_zero\n",
    "\n",
    "\n",
    "def get_result(a: list, k: int) -> str:\n",
    "    max_num =  constants.MAX_NUM\n",
    "    count_ai = 0\n",
    "\n",
    "    for bit in range(constants.MAX_BIT): # O(12)\n",
    "        if (1 << bit) & max_num:\n",
    "            most_zeros, num_with_most_zeros = 0, None\n",
    "\n",
    "            for ai in a: # O(n)\n",
    "                if (1 << bit) & ai == 0:\n",
    "                    temp = count_bit_zero_of_remainder(max_num, ai)\n",
    "                    \n",
    "                    if temp > most_zeros:\n",
    "                        most_zeros = temp\n",
    "                        num_with_most_zeros = ai\n",
    "                        \n",
    "            if most_zeros == 0:\n",
    "                return \"NO\"\n",
    "            count_ai += 1\n",
    "            max_num &= num_with_most_zeros\n",
    "            \n",
    "            if count_ai <= k and max_num == 0:\n",
    "                return \"YES\"\n",
    "    return \"NO\"\n",
    "\n",
    "\n",
    "n, k = map(int, input().split())\n",
    "a = list(map(int, input().split()))\n",
    "\n",
    "print(get_result(a, k))"
   ]
  },
  {
   "cell_type": "markdown",
   "metadata": {},
   "source": [
    "**Độ phức tạp:** O(12 * n) = O(n)"
   ]
  },
  {
   "cell_type": "code",
   "execution_count": null,
   "metadata": {},
   "outputs": [],
   "source": []
  }
 ],
 "metadata": {
  "kernelspec": {
   "display_name": "Python 3",
   "language": "python",
   "name": "python3"
  },
  "language_info": {
   "codemirror_mode": {
    "name": "ipython",
    "version": 3
   },
   "file_extension": ".py",
   "mimetype": "text/x-python",
   "name": "python",
   "nbconvert_exporter": "python",
   "pygments_lexer": "ipython3",
   "version": "3.7.4"
  }
 },
 "nbformat": 4,
 "nbformat_minor": 2
}
