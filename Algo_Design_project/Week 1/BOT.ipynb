{
 "cells": [
  {
   "cell_type": "markdown",
   "metadata": {},
   "source": [
    "### 1. Abstraction"
   ]
  },
  {
   "cell_type": "markdown",
   "metadata": {},
   "source": [
    "Tìm ra mảng con liên tiếp có tổng lớn nhất."
   ]
  },
  {
   "cell_type": "markdown",
   "metadata": {},
   "source": [
    "### 2. Pattern Recognition"
   ]
  },
  {
   "cell_type": "markdown",
   "metadata": {},
   "source": [
    "    Sử dụng vét cạn nếu không yêu cầu về thời gian xử lí: Duyệt tất cả đoạn con\n",
    "    Sử dụng qui hoạch động để tối ưu về thời gian: ta sử dụng một biến tạm để lưu trữ tổng giá trị đến thời điểm \n",
    "    hiện tại. Ta thấy có 3 trường hợp xảy ra: \n",
    "    \n",
    "    + nếu biến tạm lớn hơn biến kết quả thì cập nhật kết quả = biến tạm \n",
    "    + nếu biến tạm bé hơn biến kết và không bé hơn không, ta vẫn cộng giá trị của mảng và duyệt tiếp \n",
    "    + nếu biến tạm bé hơn 0, lúc này đoạn con cập nhật tới thời điểm hiện tại không còn ý nghĩa nữa vì nếu\n",
    "    + cộng tiếp tục giá trị tiếp theo, nếu là số dương thì dương + âm vẫn bé hơn số dương đó, nếu là số âm thì\n",
    "        đoạn càng giảm. "
   ]
  },
  {
   "cell_type": "markdown",
   "metadata": {},
   "source": [
    "### 3. Algorithm designed"
   ]
  },
  {
   "cell_type": "markdown",
   "metadata": {},
   "source": [
    "*** arr là mảng lưu các các giá trị lãi ở đoạn đường thứ i, giá trị là số nguyên (0 ≤ |ai| ≤ 10<sup>6</sup>)"
   ]
  },
  {
   "cell_type": "markdown",
   "metadata": {},
   "source": [
    "    + Vét cạn: \n",
    "    Khởi tạo: start = end = 0 \n",
    "               max_sub_array = âm vô hạn \n",
    "    for i = 0 -> N: \n",
    "        max_ending_here = 0 \n",
    "        for j = i -> N: \n",
    "            max_ending_here += a[i] \n",
    "            nếu max_ending_here > max_sub_array (tức có một mảng con tốt hơn hiện tại): \n",
    "                cập nhật max_sub_array, start, end \n",
    "\n",
    "    xuất start, end, max_sub_array \n",
    "    \n",
    "    \n",
    "    \n",
    "    + Qui hoạch động:\n",
    "    Khởi tạo: start = temp_start = end = 0,\n",
    "              max_ending_here = a[0], max_sub_array = âm vô hạn\n",
    "\n",
    "    for i = 1 -> N:\n",
    "        max_ending_here += a[i]\n",
    "        nếu max_ending_here > max_sub_array:\n",
    "            cập nhật: max_sub_array = max_ending_here\n",
    "                      start = temp_start\n",
    "                      end = i\n",
    "\n",
    "        nếu max_ending_here < 0:\n",
    "            gán max_ending_here = 0\n",
    "            gán temp_start = i + 1 (chỉ quan tâm tới đoạn tiếp theo)\n",
    "\n",
    "     xuất max_sub_array, start, end\n",
    "    \n",
    "    "
   ]
  },
  {
   "cell_type": "markdown",
   "metadata": {},
   "source": [
    "### Brute-force approach\n",
    "<li> Time complexity: O(N^2), looping two times over an array.\n",
    "<li> Space complexity: O(N), array of length N to store values."
   ]
  },
  {
   "cell_type": "code",
   "execution_count": 1,
   "metadata": {},
   "outputs": [
    {
     "name": "stdout",
     "output_type": "stream",
     "text": [
      "16\n",
      "2 -4 5 -8 4 -1 -1 1 1 1 -2 2 4 -6 9 -4\n",
      "5 15 12\n"
     ]
    }
   ],
   "source": [
    "N = int(input())\n",
    "arr = list(map(int, input().split()))\n",
    "start = 0; end = 0\n",
    "\n",
    "max_sub_array = float('-inf')\n",
    "for i in range(N):\n",
    "    max_ending_here = 0\n",
    "    for j in range(i, N):\n",
    "        max_ending_here += arr[j]\n",
    "        if max_ending_here > max_sub_array:\n",
    "            max_sub_array = max_ending_here\n",
    "            start = i\n",
    "            end = j\n",
    "            \n",
    "print(start + 1, end + 1, max_sub_array)"
   ]
  },
  {
   "cell_type": "markdown",
   "metadata": {},
   "source": [
    "### Dynamic Programming approach\n",
    "<li> Time complexity: O(N), looping one time over an array.\n",
    "<li> Space complexity: O(N), array of length N to store values."
   ]
  },
  {
   "cell_type": "code",
   "execution_count": 2,
   "metadata": {},
   "outputs": [
    {
     "name": "stdout",
     "output_type": "stream",
     "text": [
      "16\n",
      "2 -4 5 -8 4 -1 -1 1 1 1 -2 2 4 -6 9 -4\n",
      "5 15 12\n"
     ]
    }
   ],
   "source": [
    "N = int(input())\n",
    "arr = list(map(int, input().split()))\n",
    "max_ending_here = arr[0]\n",
    "max_sub_array = float('-inf')\n",
    "start = 0; temp_start = 0; end = 0 \n",
    "\n",
    "for i in range(1, N):\n",
    "    max_ending_here += arr[i]\n",
    "\n",
    "    if max_ending_here > max_sub_array:\n",
    "        max_sub_array = max_ending_here\n",
    "        end = i\n",
    "        start = temp_start\n",
    "        \n",
    "    elif max_ending_here < 0:\n",
    "        max_ending_here = 0\n",
    "        temp_start = i + 1\n",
    "\n",
    "print(start + 1, end + 1, max_sub_array)"
   ]
  },
  {
   "cell_type": "code",
   "execution_count": null,
   "metadata": {},
   "outputs": [],
   "source": []
  }
 ],
 "metadata": {
  "kernelspec": {
   "display_name": "Python 3",
   "language": "python",
   "name": "python3"
  },
  "language_info": {
   "codemirror_mode": {
    "name": "ipython",
    "version": 3
   },
   "file_extension": ".py",
   "mimetype": "text/x-python",
   "name": "python",
   "nbconvert_exporter": "python",
   "pygments_lexer": "ipython3",
   "version": "3.7.4"
  }
 },
 "nbformat": 4,
 "nbformat_minor": 2
}
