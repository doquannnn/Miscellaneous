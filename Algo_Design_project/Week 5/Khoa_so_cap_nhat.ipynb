{
 "cells": [
  {
   "cell_type": "markdown",
   "metadata": {},
   "source": [
    "### Abstraction\n",
    "<p> &nbsp;&nbsp;&nbsp;&nbsp;&nbsp; Xâu kí tự <strong>lớn nhất</strong> (dạng số) và <strong>chia hết cho 3</strong> </p>"
   ]
  },
  {
   "cell_type": "markdown",
   "metadata": {},
   "source": [
    "### Pattern Recognition\n",
    "<p> &nbsp;&nbsp;&nbsp;&nbsp;&nbsp; Quan sát ta thấy: Vì cần tìm số lớn nhất, nên cần phần sắp xếp lại mảng giảm dần <br>\n",
    "&nbsp;&nbsp;&nbsp;&nbsp;&nbsp; Tính chất của một số chia hết cho 3 là tổng các chữ số chia hết cho 3. Trong trường hợp cần xoá số, vậy <strong>xoá</strong> bao nhiêu số là <strong>tối ưu</strong>? <br> <p>"
   ]
  },
  {
   "cell_type": "markdown",
   "metadata": {},
   "source": [
    "&nbsp;&nbsp;&nbsp;&nbsp;&nbsp; Số dư của một số chia cho 3 chỉ là 0, 1 nên chỉ có 2 trường hợp là xoá <strong>một</strong> hoặc <strong>hai</strong> không chia hết cho 3. Ta sẽ thấy có các trường hợp sau: <br>\n",
    "<li> Nếu số dư mỗi số là 1 thì tổng chia hết cho 3 <br>\n",
    "<li> Nếu số dư hai số là 1, một số là 2 thì tổng dư là 4 thì chỉ cần xoá 2 số <br>\n",
    "<li> Nếu số dư hai số là 2, một số là 1 thì cũng chỉ cần xoá 2 số <br>\n",
    "<li> Nếu số dư ba số là 2 thì tổng là 6 đã chia hết cho 3 <br>"
   ]
  },
  {
   "cell_type": "markdown",
   "metadata": {},
   "source": [
    "&nbsp;&nbsp;&nbsp;&nbsp;&nbsp; Trong trường hợp xoá một hoặc hai số: <br>\n",
    "<li> Ta chắc chắn phải ưu tiên xoá một số trước vì cần tìm số lớn nhất. Như vậy, ta duyệt mảng từ nhỏ đến lớn, nếu gặp một số có số dư chia cho 3 <strong>=</strong> số dư tổng các chữ số chia cho 3 thì ta đã tìm được kết quả. Độ phức tạp là <strong>O(N)</strong> \n",
    "<li> Nếu chưa có kết quả, chắc chắc sẽ là xoá hai số. Ở đây ta vét cạn bằng cách tìm kiếm từng cặp một, vì duyệt ngược nên theo thứ tự giảm tăng dần nên sẽ đảm bảo hai số được xoá là nhỏ nhất. Ở đây theo giải thuật chúng mình thì độ phúc tạp là <strong>O(N<sup>2</sup>)</strong>. Trong giải thuật, chúng tôi cho các số không chia hết cho 3 vào một mảng. Như vậy nếu có 10<sup>5</sup> số không chia hết cho 3 thì độ phức tạp chỗ này lên tới <strong> 10<sup>10</sup> </strong>. Tuy nhiên, lí do tại sao vẫn vượt qua hết các test thì cũng không biết luôn ^^!"
   ]
  },
  {
   "cell_type": "markdown",
   "metadata": {},
   "source": [
    "Vì ở đây sử dụng sắp xếp và lựa chọn hướng đi tối ưu là xoá sao cho xâu là lớn nhất <br>\n",
    "---> Giải thuật <strong>tham lam</strong>"
   ]
  },
  {
   "cell_type": "markdown",
   "metadata": {},
   "source": [
    "### Algorithm designed\n",
    "&nbsp;&nbsp;&nbsp;&nbsp;&nbsp; <strong> Input </strong>: một xâu ký tự số có độ dài lớn hơn 2 và không vượt quá 10<sup>5</sup> <br>\n",
    "&nbsp;&nbsp;&nbsp;&nbsp;&nbsp; <strong> Output </strong>: một xâu đáp ứng yêu cầu đề bài"
   ]
  },
  {
   "cell_type": "markdown",
   "metadata": {},
   "source": [
    "<strong> Mã giả </strong> <br>"
   ]
  },
  {
   "cell_type": "markdown",
   "metadata": {},
   "source": [
    "&nbsp;&nbsp;&nbsp;&nbsp;&nbsp; Sort s in descending order<br>\n",
    "&nbsp;&nbsp;&nbsp;&nbsp;&nbsp; s1 <- List of numbers not divisible by 3<br>\n",
    "&nbsp;&nbsp;&nbsp;&nbsp;&nbsp; remainder_sum_list <- the remainder that the total sum of numbers in s divided by 3<br>\n",
    "&nbsp;&nbsp;&nbsp;&nbsp;&nbsp; if remainder_sum_list = 0: return s <br>"
   ]
  },
  {
   "cell_type": "markdown",
   "metadata": {},
   "source": [
    "&nbsp;&nbsp;&nbsp;&nbsp;&nbsp; for i in s1 in reverse order: <br>\n",
    "&nbsp;&nbsp;&nbsp;&nbsp;&nbsp;&nbsp;&nbsp;&nbsp;&nbsp;&nbsp; if exists i % 3 == remainder_sum_list <br>\n",
    "&nbsp;&nbsp;&nbsp;&nbsp;&nbsp;&nbsp;&nbsp;&nbsp;&nbsp;&nbsp; remove i and return s <br> "
   ]
  },
  {
   "cell_type": "markdown",
   "metadata": {},
   "source": [
    "&nbsp;&nbsp;&nbsp;&nbsp;&nbsp; for i in s1 in reverse order: <br>\n",
    "&nbsp;&nbsp;&nbsp;&nbsp;&nbsp;&nbsp;&nbsp;&nbsp; for j in range(i) in reverse order: <br>\n",
    "&nbsp;&nbsp;&nbsp;&nbsp;&nbsp;&nbsp;&nbsp;&nbsp;&nbsp;&nbsp;&nbsp;&nbsp; if exists sum (s1[i] + s1[j]) % 3 == remainder_sum_list <br>\n",
    "&nbsp;&nbsp;&nbsp;&nbsp;&nbsp;&nbsp;&nbsp;&nbsp;&nbsp;&nbsp;&nbsp;&nbsp;&nbsp;&nbsp; remove s1[i] and s1[j] and then return s"
   ]
  },
  {
   "cell_type": "code",
   "execution_count": 2,
   "metadata": {},
   "outputs": [
    {
     "name": "stdout",
     "output_type": "stream",
     "text": [
      "150\n",
      "510\n"
     ]
    }
   ],
   "source": [
    "s = sorted(input().strip(), reverse=True) # O(Nlog2N)\n",
    "s1 = [x for x in s if int(x) % 3 != 0] \n",
    "\n",
    "def is_divisible_by_3(s):\n",
    "    n1 = len(s1)\n",
    "    n = len(s)\n",
    "    sum_list = sum([ord(x) - 48 for x in s])\n",
    "    remainder_sum_list = sum_list % 3\n",
    "    if remainder_sum_list == 0:\n",
    "        return ''.join(s)\n",
    "\n",
    "    if sum_list == 0:\n",
    "        return ''.join(s)\n",
    "\n",
    "    num_type_si_remainder = [0 for _ in range(n1)]\n",
    "    for i in range(n1 - 1, -1, -1):\n",
    "        num_type_si_remainder[i] = int(s1[i]) % 3\n",
    "        if remainder_sum_list == num_type_si_remainder[i]:\n",
    "            s.remove(s1[i])\n",
    "            return ''.join(s)\n",
    "\n",
    "    for i in range(n1 - 1, -1, -1): # O(len(s1)^2)\n",
    "        for j in range(i - 1, -1, -1):\n",
    "            if (num_type_si_remainder[i] + num_type_si_remainder[j]) % 3 == remainder_sum_list:\n",
    "                s.remove(s1[i])\n",
    "                s.remove(s1[j])\n",
    "                return ''.join(s)\n",
    "\n",
    "print(is_divisible_by_3(s))"
   ]
  },
  {
   "cell_type": "markdown",
   "metadata": {},
   "source": [
    "#### Độ phức tạp:\n",
    "<li> Thời gian: trường hợp xấu nhất độ dài s1 = 10<sup>5</sup>. Độ phức tạp: <strong>O(len(s1)<sup>2</sup>) </strong>\n",
    "<li> Không gian: <strong>O(len(s1))</strong>"
   ]
  },
  {
   "cell_type": "markdown",
   "metadata": {},
   "source": [
    "**Cách tiếp cận thứ 2** <br>\n",
    "&nbsp;&nbsp;&nbsp; Thực ra với cách làm trên mặc dù vô vòng lặp **O(n<sup>2</sup>)** nhưng chỉ với vài số ban đầu thì đã trả về kết quả  cho nên nếu tính đúng thì độ phức tạp sẽ là <br> &nbsp;&nbsp;&nbsp; **O(Nlog<sub>2</sub>N)** <br>\n",
    "&nbsp;&nbsp;&nbsp; Tuy nhiên vẫn có thể tối ưu với hơn với kĩ thuật **hashing** với độ phức tạp **O(N)**<br>"
   ]
  },
  {
   "cell_type": "markdown",
   "metadata": {},
   "source": [
    "### Pattern Recognition\n",
    "&nbsp;&nbsp;&nbsp; Lưu **số lần của các kí tự** trong chuỗi, khoá là kí tự số từ **0->9** <br>\n",
    "&nbsp;&nbsp;&nbsp; Lúc này để tính **tổng** chỉ tốn một vài phép tính nên độ phức tạp vẫn là **O(1)**, đặt là **sum_list**<br>\n",
    "&nbsp;&nbsp;&nbsp; Giống như phương pháp trên, cũng sẽ có các trường hợp sau: <br>\n",
    "&nbsp;&nbsp;&nbsp;&nbsp;&nbsp; nếu **sum_list % 3 = 0** thì trả về theo thứ tự giảm dần <br>\n",
    "&nbsp;&nbsp;&nbsp;&nbsp;&nbsp; Ngược lại, ta ưu tiên **xoá một số**. Nếu **sum_list % 3 == 1** duyệt qua các **khoá chia 3 dư 1**, nếu **sum_list % 3 == 2** thì xét các **khoá chia 3 dư 2** theo thứ <br>\n",
    "&nbsp;&nbsp;&nbsp;&nbsp;&nbsp; tự **khoá tăng dần**. Cách xoá là **duyệt** qua nếu có số thoả thì **trừ** số lần xuất hiện **1 lần**, như vậy đảm bảo kết quả sẽ là số lớn nhất <br>\n",
    "&nbsp;&nbsp;&nbsp;&nbsp;&nbsp; Trường hợp xoá 2 số: <br>\n",
    "&nbsp;&nbsp;&nbsp;&nbsp;&nbsp;&nbsp;&nbsp; Nếu **sum_list % 3 == 1** thì sẽ **xoá 2 số chắn**, còn **sum_list % 3 == 2** thì ta **xoá 2 số lẻ**. Dựa trên **số dư** ta **nhóm các khoá** cần xoá theo thứ tự **tăng dần** <br>\n",
    "&nbsp;&nbsp;&nbsp;&nbsp;&nbsp;&nbsp;&nbsp; Ta chỉ cần **lấy** ra **2 phần tử** trong nhóm này, nếu **số lần** xuất hiện của phần tử **đầu tiên** từ **2 trở lên** thì **xoá 2** số này, ngược lại **xoá 1 số** và **1 số tiếp theo** "
   ]
  },
  {
   "cell_type": "markdown",
   "metadata": {},
   "source": [
    "### Algorithm designed\n",
    "&nbsp;&nbsp;&nbsp; c <- count number of occurrences of digits <br>\n",
    "&nbsp;&nbsp;&nbsp; sum_list <- sum of all digits <br>\n",
    "&nbsp;&nbsp;&nbsp; remainder_list <- remainder of sum_list divided by 3 <br>\n",
    "&nbsp;&nbsp;&nbsp; ans <- empty string <br>\n",
    "&nbsp;&nbsp;&nbsp; if remainder_list == 0: return string in descending order"
   ]
  },
  {
   "cell_type": "markdown",
   "metadata": {},
   "source": [
    "&nbsp;&nbsp;&nbsp; odd_nums <- filter digits having remainder 1 divided by 3, even_nums <- filter digits having remainder 2 divided by 3 <br>\n",
    "&nbsp;&nbsp;&nbsp; removed_nums <- odd_nums if remainder_list == 1 else even_nums <br>\n",
    "&nbsp;&nbsp;&nbsp; Check if exists such digit when is removed one time that will make sum of digits divisible by 3 then minus one time and return s in descending order <br>"
   ]
  },
  {
   "cell_type": "markdown",
   "metadata": {},
   "source": [
    "&nbsp;&nbsp;&nbsp;removed_nums <- odd_nums if remainder_list == 2 else even_nums <br>\n",
    "&nbsp;&nbsp;&nbsp;if first key in removed_nums has occurrences greater than 1: <br>\n",
    "&nbsp;&nbsp;&nbsp;&nbsp;&nbsp;minus that first key two times <br>\n",
    "&nbsp;&nbsp;&nbsp;else: <br>\n",
    "&nbsp;&nbsp;&nbsp;&nbsp;&nbsp;minus first key and second key in removed_nums one time <br>\n",
    "&nbsp;&nbsp;&nbsp;return s in descending order <br>"
   ]
  },
  {
   "cell_type": "markdown",
   "metadata": {},
   "source": [
    "**Độ phức tạp thời gian**: O(n) <br>\n",
    "**Độ phức tạp không gian:** O(n) <br>\n",
    "với n là độ dài chuỗi"
   ]
  },
  {
   "cell_type": "code",
   "execution_count": 2,
   "metadata": {},
   "outputs": [
    {
     "name": "stdout",
     "output_type": "stream",
     "text": [
      "150\n",
      "510\n"
     ]
    }
   ],
   "source": [
    "from collections import Counter\n",
    "\n",
    "def get_result(input: str) -> str:\n",
    "    c = Counter(input)\n",
    "\n",
    "    sum_list = sum([int(key) * value for key, value in c.items()])\n",
    "    remainder_list = sum_list % 3\n",
    "    ans = \"\"\n",
    "\n",
    "    if remainder_list == 0:\n",
    "        for num, freq in sorted(c.items(), reverse=True):\n",
    "            ans += num * freq\n",
    "        return ans\n",
    "\n",
    "    odd_nums, even_nums = filter(lambda x: int(x) % 3 == 1, sorted(c.keys())), \\\n",
    "                          filter(lambda x: int(x) % 3 == 2, sorted(c.keys()))\n",
    "\n",
    "    removed_nums = list(odd_nums) if remainder_list == 1 else list(even_nums)\n",
    "\n",
    "    for num in removed_nums:\n",
    "        if (sum_list - int(num)) % 3 == 0:\n",
    "            c[num] -= 1\n",
    "            for num, freq in sorted(c.items(), reverse=True):\n",
    "                ans += num * freq\n",
    "            return ans\n",
    "\n",
    "    removed_nums = iter(odd_nums) if remainder_list == 2 else iter(even_nums)\n",
    "    try:\n",
    "        first = next(removed_nums)\n",
    "        second = next(removed_nums)\n",
    "    except:\n",
    "        pass\n",
    "\n",
    "    if c[first] > 1:\n",
    "        c[first] -= 2\n",
    "    else:\n",
    "        c[first] -= 1; c[second] -= 1\n",
    "\n",
    "    for num, freq in sorted(c.items(), reverse=True):\n",
    "        ans += num * freq\n",
    "\n",
    "    return ans\n",
    "\n",
    "print(get_result(input().strip()))\n"
   ]
  }
 ],
 "metadata": {
  "kernelspec": {
   "display_name": "Python 3",
   "language": "python",
   "name": "python3"
  },
  "language_info": {
   "codemirror_mode": {
    "name": "ipython",
    "version": 3
   },
   "file_extension": ".py",
   "mimetype": "text/x-python",
   "name": "python",
   "nbconvert_exporter": "python",
   "pygments_lexer": "ipython3",
   "version": "3.7.4"
  }
 },
 "nbformat": 4,
 "nbformat_minor": 2
}
