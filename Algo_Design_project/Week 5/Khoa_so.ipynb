{
 "cells": [
  {
   "cell_type": "markdown",
   "metadata": {},
   "source": [
    "### Abstraction\n",
    "<p> &nbsp;&nbsp;&nbsp;&nbsp;&nbsp; Xâu kí tự <strong>lớn nhất</strong> (dạng số) và <strong>chia hết cho 3</strong> </p>"
   ]
  },
  {
   "cell_type": "markdown",
   "metadata": {},
   "source": [
    "### Pattern Recognition\n",
    "<p> &nbsp;&nbsp;&nbsp;&nbsp;&nbsp; Quan sát ta thấy: Vì cần tìm số lớn nhất, nên cần phần sắp xếp lại mảng giảm dần <br>\n",
    "&nbsp;&nbsp;&nbsp;&nbsp;&nbsp; Tính chất của một số chia hết cho 3 là tổng các chữ số chia hết cho 3. Trong trường hợp cần xoá số, vậy <strong>xoá</strong> bao nhiêu số là <strong>tối ưu</strong>? <br> <p>"
   ]
  },
  {
   "cell_type": "markdown",
   "metadata": {},
   "source": [
    "&nbsp;&nbsp;&nbsp;&nbsp;&nbsp; Số dư của một số chia cho 3 chỉ là 0, 1 nên chỉ có 2 trường hợp là xoá <strong>một</strong> hoặc <strong>hai</strong> không chia hết cho 3. Ta sẽ thấy có các trường hợp sau: <br>\n",
    "<li> Nếu số dư mỗi số là 1 thì tổng chia hết cho 3 <br>\n",
    "<li> Nếu số dư hai số là 1, một số là 2 thì tổng dư là 4 thì chỉ cần xoá 2 số <br>\n",
    "<li> Nếu số dư hai số là 2, một số là 1 thì cũng chỉ cần xoá 2 số <br>\n",
    "<li> Nếu số dư ba số là 2 thì tổng là 6 đã chia hết cho 3 <br>"
   ]
  },
  {
   "cell_type": "markdown",
   "metadata": {},
   "source": [
    "&nbsp;&nbsp;&nbsp;&nbsp;&nbsp; Trong trường hợp xoá một hoặc hai số: <br>\n",
    "<li> Ta chắc chắn phải ưu tiên xoá một số trước vì cần tìm số lớn nhất. Như vậy, ta duyệt mảng từ nhỏ đến lớn, nếu gặp một số có số dư chia cho 3 <strong>=</strong> số dư tổng các chữ số chia cho 3 thì ta đã tìm được kết quả. Độ phức tạp là <strong>O(N)</strong> \n",
    "<li> Nếu chưa có kết quả, chắc chắc sẽ là xoá hai số. Ở đây ta vét cạn bằng cách tìm kiếm từng cặp một, vì duyệt ngược nên theo thứ tự giảm tăng dần nên sẽ đảm bảo hai số được xoá là nhỏ nhất. Ở đây theo giải thuật chúng mình thì độ phúc tạp là <strong>O(N<sup>2</sup>)</strong>. Trong giải thuật, chúng tôi cho các số không chia hết cho 3 vào một mảng. Như vậy nếu có 10<sup>5</sup> số không chia hết cho 3 thì độ phức tạp chỗ này lên tới <strong> 10<sup>10</sup> </strong>. Tuy nhiên, lí do tại sao vẫn vượt qua hết các test thì cũng không biết luôn ^^!"
   ]
  },
  {
   "cell_type": "markdown",
   "metadata": {},
   "source": [
    "Vì ở đây sử dụng sắp xếp và lựa chọn hướng đi tối ưu là xoá sao cho xâu là lớn nhất <br>\n",
    "---> Giải thuật <strong>tham lam</strong>"
   ]
  },
  {
   "cell_type": "markdown",
   "metadata": {},
   "source": [
    "### Algorithm designed\n",
    "&nbsp;&nbsp;&nbsp;&nbsp;&nbsp; <strong> Input </strong>: một xâu ký tự số có độ dài lớn hơn 2 và không vượt quá 10<sup>5</sup> <br>\n",
    "&nbsp;&nbsp;&nbsp;&nbsp;&nbsp; <strong> Output </strong>: một xâu đáp ứng yêu cầu đề bài"
   ]
  },
  {
   "cell_type": "markdown",
   "metadata": {},
   "source": [
    "<strong> Mã giả </strong> <br>"
   ]
  },
  {
   "cell_type": "markdown",
   "metadata": {},
   "source": [
    "&nbsp;&nbsp;&nbsp;&nbsp;&nbsp; Sort s in descending order<br>\n",
    "&nbsp;&nbsp;&nbsp;&nbsp;&nbsp; s1 <- List of numbers not divisible by 3<br>\n",
    "&nbsp;&nbsp;&nbsp;&nbsp;&nbsp; remainder_sum_list <- the remainder that the total sum of numbers in s divisible by 3<br>\n",
    "&nbsp;&nbsp;&nbsp;&nbsp;&nbsp; if remainder_sum_list = 0: return s <br>"
   ]
  },
  {
   "cell_type": "markdown",
   "metadata": {},
   "source": [
    "&nbsp;&nbsp;&nbsp;&nbsp;&nbsp; for i in s1 in reverse order: <br>\n",
    "&nbsp;&nbsp;&nbsp;&nbsp;&nbsp;&nbsp;&nbsp;&nbsp;&nbsp;&nbsp; if exists i % 3 == remainder_sum_list <br>\n",
    "&nbsp;&nbsp;&nbsp;&nbsp;&nbsp;&nbsp;&nbsp;&nbsp;&nbsp;&nbsp; remove i and return s <br> "
   ]
  },
  {
   "cell_type": "markdown",
   "metadata": {},
   "source": [
    "&nbsp;&nbsp;&nbsp;&nbsp;&nbsp; for i in s1 in reverse order: <br>\n",
    "&nbsp;&nbsp;&nbsp;&nbsp;&nbsp;&nbsp;&nbsp;&nbsp; for j in range(i) in reverse order: <br>\n",
    "&nbsp;&nbsp;&nbsp;&nbsp;&nbsp;&nbsp;&nbsp;&nbsp;&nbsp;&nbsp;&nbsp;&nbsp; if exists sum (s1[i] + s1[j]) % 3 == remainder_sum_list <br>\n",
    "&nbsp;&nbsp;&nbsp;&nbsp;&nbsp;&nbsp;&nbsp;&nbsp;&nbsp;&nbsp;&nbsp;&nbsp;&nbsp;&nbsp; remove s1[i] and s1[j] and then return s"
   ]
  },
  {
   "cell_type": "code",
   "execution_count": 2,
   "metadata": {},
   "outputs": [
    {
     "name": "stdout",
     "output_type": "stream",
     "text": [
      "150\n",
      "510\n"
     ]
    }
   ],
   "source": [
    "s = sorted(input().strip(), reverse=True) # O(Nlog2N)\n",
    "s1 = [x for x in s if int(x) % 3 != 0] \n",
    "\n",
    "def is_divisible_by_3(s):\n",
    "    n1 = len(s1)\n",
    "    n = len(s)\n",
    "    sum_list = sum([ord(x) - 48 for x in s])\n",
    "    remainder_sum_list = sum_list % 3\n",
    "    if remainder_sum_list == 0:\n",
    "        return ''.join(s)\n",
    "\n",
    "    if sum_list == 0:\n",
    "        return ''.join(s)\n",
    "\n",
    "    num_type_si_remainder = [0 for _ in range(n1)]\n",
    "    for i in range(n1 - 1, -1, -1):\n",
    "        num_type_si_remainder[i] = int(s1[i]) % 3\n",
    "        if remainder_sum_list == num_type_si_remainder[i]:\n",
    "            s.remove(s1[i])\n",
    "            return ''.join(s)\n",
    "\n",
    "    for i in range(n1 - 1, -1, -1): # O(len(s1)^2)\n",
    "        for j in range(i - 1, -1, -1):\n",
    "            if (num_type_si_remainder[i] + num_type_si_remainder[j]) % 3 == remainder_sum_list:\n",
    "                s.remove(s1[i])\n",
    "                s.remove(s1[j])\n",
    "                return ''.join(s)\n",
    "\n",
    "print(is_divisible_by_3(s))"
   ]
  },
  {
   "cell_type": "markdown",
   "metadata": {},
   "source": [
    "#### Độ phức tạp:\n",
    "<li> Thời gian: trường hợp xấu nhất độ dài s1 = 10<sup>5</sup>. Độ phức tạp: <strong>O(len(s1)<sup>2</sup>) </strong>\n",
    "<li> Không gian: <strong>O(len(s1))</strong>"
   ]
  },
  {
   "cell_type": "code",
   "execution_count": null,
   "metadata": {},
   "outputs": [],
   "source": []
  }
 ],
 "metadata": {
  "kernelspec": {
   "display_name": "Python 3",
   "language": "python",
   "name": "python3"
  },
  "language_info": {
   "codemirror_mode": {
    "name": "ipython",
    "version": 3
   },
   "file_extension": ".py",
   "mimetype": "text/x-python",
   "name": "python",
   "nbconvert_exporter": "python",
   "pygments_lexer": "ipython3",
   "version": "3.7.4"
  }
 },
 "nbformat": 4,
 "nbformat_minor": 2
}
