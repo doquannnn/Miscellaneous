{
 "cells": [
  {
   "cell_type": "markdown",
   "metadata": {},
   "source": [
    "### Abstraction"
   ]
  },
  {
   "cell_type": "markdown",
   "metadata": {},
   "source": [
    "&nbsp;&nbsp;&nbsp; Có tồn tại số cách biến đổi để hai phân số bằng nhau thoả điều kiện mỗi phép biến đổi nâng tử số và mẫu số của phân số một lên 1 đơn vị"
   ]
  },
  {
   "cell_type": "markdown",
   "metadata": {},
   "source": [
    "### Pattern Recognition"
   ]
  },
  {
   "cell_type": "markdown",
   "metadata": {},
   "source": [
    "&nbsp;&nbsp;&nbsp; Trường hợp xấu nhất là cần phải duyệt qua **10<sup>5</sup>** với mỗi thao tác ta tìm ước chung lớn nhất cố độ phức tạp là **log(min(a, b))** nên bài này chỉ việc **vét cạn** "
   ]
  },
  {
   "cell_type": "markdown",
   "metadata": {},
   "source": [
    "### Algorithms desgined"
   ]
  },
  {
   "cell_type": "markdown",
   "metadata": {},
   "source": [
    "&nbsp;&nbsp;&nbsp; Input: mỗi dòng chứ 1 số nguyên a, b, c, d,  0 < a < b ≤ 10<sup>5</sup>, 0 < c < d ≤ 10<sup>5</sup> <br>\n",
    "&nbsp;&nbsp;&nbsp; Output: \"YES\" hoặc \"NO\" <br>\n",
    "\n",
    "&nbsp;&nbsp;&nbsp;function gcd(a, b): <br>\n",
    "&nbsp;&nbsp;&nbsp;&nbsp;&nbsp;    while b > 0: <br>\n",
    "&nbsp;&nbsp;&nbsp;&nbsp;&nbsp;     r <- a % b <br>\n",
    "&nbsp;&nbsp;&nbsp;&nbsp;&nbsp;     a <- b, b <- r <br>\n",
    "&nbsp;&nbsp;&nbsp;&nbsp;&nbsp;    return a <br>\n",
    "\n",
    "&nbsp;&nbsp;&nbsp;MAX_RANGE <- 2 * 10 ** 5 + 1 <br>\n",
    "&nbsp;&nbsp;&nbsp;checked <- False <br>\n",
    "&nbsp;&nbsp;&nbsp;for i in range(MAX_RANGE): <br>\n",
    "&nbsp;&nbsp;&nbsp;&nbsp;&nbsp;    if a == c and b == d: <br>\n",
    "&nbsp;&nbsp;&nbsp;&nbsp;&nbsp;&nbsp;&nbsp;       checked <- True <br>\n",
    "&nbsp;&nbsp;&nbsp;&nbsp;&nbsp;&nbsp;&nbsp;       break <br>\n",
    "&nbsp;&nbsp;&nbsp;&nbsp;&nbsp;&nbsp;&nbsp;    a <- a + 1, b <- b + 1 <br>\n",
    "&nbsp;&nbsp;&nbsp;&nbsp;&nbsp;&nbsp;&nbsp;    GCD = gcd(a, b) <br>\n",
    "&nbsp;&nbsp;&nbsp;&nbsp;&nbsp;&nbsp;&nbsp;    a <- a // GCD, b <- a // GCD <br>\n",
    "    \n",
    "&nbsp;&nbsp;&nbsp;if checked == True: <br>\n",
    "&nbsp;&nbsp;&nbsp;&nbsp;&nbsp;    print(cnt) <br>\n",
    "&nbsp;&nbsp;&nbsp;else: <br>\n",
    "&nbsp;&nbsp;&nbsp;&nbsp;&nbsp;     print(0) <br>"
   ]
  },
  {
   "cell_type": "code",
   "execution_count": 2,
   "metadata": {},
   "outputs": [
    {
     "name": "stdout",
     "output_type": "stream",
     "text": [
      "1\n",
      "6\n",
      "2\n",
      "3\n",
      "5\n"
     ]
    }
   ],
   "source": [
    "from math import gcd\n",
    "\n",
    "a, b = int(input()), int(input())\n",
    "c, d = int(input()), int(input())\n",
    "cnt = 0\n",
    "MAX_RANGE = 2 * 10 ** 5 + 1\n",
    "checked = False\n",
    "for i in range(MAX_RANGE):\n",
    "    if a == c and b == d:\n",
    "        checked = True\n",
    "        break\n",
    "\n",
    "    a += 1; b += 1\n",
    "    GCD = gcd(a, b)\n",
    "    a //= GCD; b //= GCD\n",
    "    cnt += 1\n",
    "\n",
    "print(cnt if checked else 0)"
   ]
  },
  {
   "cell_type": "code",
   "execution_count": null,
   "metadata": {},
   "outputs": [],
   "source": []
  }
 ],
 "metadata": {
  "kernelspec": {
   "display_name": "Python 3",
   "language": "python",
   "name": "python3"
  },
  "language_info": {
   "codemirror_mode": {
    "name": "ipython",
    "version": 3
   },
   "file_extension": ".py",
   "mimetype": "text/x-python",
   "name": "python",
   "nbconvert_exporter": "python",
   "pygments_lexer": "ipython3",
   "version": "3.7.4"
  }
 },
 "nbformat": 4,
 "nbformat_minor": 2
}
