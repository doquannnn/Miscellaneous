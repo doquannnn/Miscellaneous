{
 "cells": [
  {
   "cell_type": "markdown",
   "metadata": {},
   "source": [
    "### Abstraction:\n",
    "<p>&nbsp;&nbsp;&nbsp;&nbsp;&nbsp;&nbsp;Sau <strong>k</strong> ngày nước biển có bao nhiêu cá thể<br><p>\n",
    "    \n",
    "   "
   ]
  },
  {
   "cell_type": "markdown",
   "metadata": {},
   "source": [
    "### Pattern Recognition:\n",
    "<p> &nbsp;&nbsp;&nbsp;&nbsp;&nbsp;&nbsp;Cách tiếp cận bài toán: Thử một dãy trường hợp với n = 1, k = 0, 1, 2, 3, 4 <br>\n",
    "&nbsp;&nbsp;&nbsp;&nbsp;&nbsp;&nbsp;&nbsp;&nbsp;n = 1, k = 0: kq = 1<br>\n",
    "&nbsp;&nbsp;&nbsp;&nbsp;&nbsp;&nbsp;&nbsp;&nbsp;n = 1, k = 1: kq = 2<br>\n",
    "&nbsp;&nbsp;&nbsp;&nbsp;&nbsp;&nbsp;&nbsp;&nbsp;n = 1, k = 2; kq = 5<br>\n",
    "&nbsp;&nbsp;&nbsp;&nbsp;&nbsp;&nbsp;&nbsp;&nbsp;n = 1, k = 3; kq = 13<br>\n",
    "&nbsp;&nbsp;&nbsp;&nbsp;&nbsp;&nbsp;&nbsp;&nbsp;n = 1, k = 4; kq = 34<br>\n",
    "&nbsp;&nbsp;&nbsp;&nbsp;&nbsp;&nbsp;&nbsp;&nbsp;k = 1, k = 5; kq = 89</p>\n",
    "<p> ----> Quan sát ta thấy tính chất của dãy số là tại giá trị tại một k bất kì bằng tổng giá trị các k trước đó <br>\n",
    "    trong đó giá trị (k - 1) được nhân đôi. Ví dụ F[k=3] = 5 * 2 + 1 + 2 <p>\n",
    "<p> ----> Ta suy ra được công thức cụ thể: <strong> F[k] = 2 * F[k - 1] + ... + F[0] </strong> <br> </p>\n",
    "&nbsp;&nbsp;&nbsp;&nbsp;&nbsp;&nbsp;<strong>Kết luận</strong>: Sử dụng phương pháp <strong>qui hoạch động</strong>, vì các bước hiện tại được cập nhật bởi các bước trước"
   ]
  },
  {
   "cell_type": "markdown",
   "metadata": {},
   "source": [
    "### Algorithm designed:\n",
    "\n",
    "<p> &nbsp;&nbsp;&nbsp;&nbsp;&nbsp;&nbsp;Với bài toán này, chỉ cần sử dụng 2 biến tạm cập nhật đồng thời, một biến lưu trữ tổng giá trị đến thời điểm,<br>\n",
    "    &nbsp;&nbsp;&nbsp;&nbsp;&nbsp;&nbsp;một biến lưu trữ giá trị tại thời điểm trước đó. kết quả là 2 biến cộng lại </p>\n",
    "\n",
    "<p> <strong> Mã giả </strong>: <br> <p>\n",
    "    \n",
    "<p> &nbsp;&nbsp;&nbsp;&nbsp;&nbsp;&nbsp; input: 2 số nguyên n, k (1 ≤ <strong>n</strong> ≤ 1000, 1 ≤ <strong>k</strong> ≤ 10<sup>18</sup>) <br>\n",
    "    &nbsp;&nbsp;&nbsp;&nbsp;&nbsp;&nbsp; output: 1 số nguyên, số lượng cá thể (modulo 10<sup>9</sup> + 7) <br>\n",
    "    &nbsp;&nbsp;&nbsp;&nbsp;&nbsp;&nbsp; function: <br>\n",
    "    &nbsp;&nbsp;&nbsp;&nbsp;&nbsp;&nbsp;&nbsp;&nbsp;&nbsp; sum_up_to_now ← 0 <br>\n",
    "    &nbsp;&nbsp;&nbsp;&nbsp;&nbsp;&nbsp;&nbsp;&nbsp;&nbsp; update ← n <br>\n",
    "    &nbsp;&nbsp;&nbsp;&nbsp;&nbsp;&nbsp;&nbsp;&nbsp;&nbsp; MOD ← 10 <sup>9</sup> + 7 <br>\n",
    "    &nbsp;&nbsp;&nbsp;&nbsp;&nbsp;&nbsp;&nbsp;&nbsp;&nbsp; for k in k_range: <br>\n",
    "    &nbsp;&nbsp;&nbsp;&nbsp;&nbsp;&nbsp;&nbsp;&nbsp;&nbsp;&nbsp;&nbsp;&nbsp; sum_up_to_now ← sum_up_to_now + update <br>\n",
    "    &nbsp;&nbsp;&nbsp;&nbsp;&nbsp;&nbsp;&nbsp;&nbsp;&nbsp;&nbsp;&nbsp;&nbsp; update ← update + sum_up_to_now <br>\n",
    "    &nbsp;&nbsp;&nbsp;&nbsp;&nbsp;&nbsp; return update % MOD\n",
    "</p>"
   ]
  },
  {
   "cell_type": "markdown",
   "metadata": {},
   "source": [
    "#### Độ phức tạp thời gian:\n",
    "<li> O(k) vì duyệt qua k một lần\n",
    "\n",
    "#### Độ phức tạp không gian:\n",
    "<li> O(1) vì chỉ sử dụng biến tạm để lưu giá trị"
   ]
  },
  {
   "cell_type": "code",
   "execution_count": 1,
   "metadata": {},
   "outputs": [
    {
     "name": "stdout",
     "output_type": "stream",
     "text": [
      "3 2\n",
      "15\n"
     ]
    }
   ],
   "source": [
    "n, k = list(map(int, input().split()))\n",
    "MOD = 10**9 + 7\n",
    "sum_up_to_now = 0; update = n\n",
    "for i in range(1, k + 1):\n",
    "    sum_up_to_now += update\n",
    "    update = update + sum_up_to_now\n",
    "\n",
    "print(update % MOD)"
   ]
  },
  {
   "cell_type": "code",
   "execution_count": null,
   "metadata": {},
   "outputs": [],
   "source": []
  }
 ],
 "metadata": {
  "kernelspec": {
   "display_name": "Python 3",
   "language": "python",
   "name": "python3"
  },
  "language_info": {
   "codemirror_mode": {
    "name": "ipython",
    "version": 3
   },
   "file_extension": ".py",
   "mimetype": "text/x-python",
   "name": "python",
   "nbconvert_exporter": "python",
   "pygments_lexer": "ipython3",
   "version": "3.7.4"
  }
 },
 "nbformat": 4,
 "nbformat_minor": 2
}
