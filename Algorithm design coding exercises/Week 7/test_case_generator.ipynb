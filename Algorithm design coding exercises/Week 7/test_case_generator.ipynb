{
 "cells": [
  {
   "cell_type": "code",
   "execution_count": 1,
   "metadata": {},
   "outputs": [],
   "source": [
    "import random\n",
    "import json"
   ]
  },
  {
   "cell_type": "markdown",
   "metadata": {},
   "source": [
    "### Random test cases\n",
    "No matter **AND ARRAY** is contiguous or not"
   ]
  },
  {
   "cell_type": "code",
   "execution_count": 2,
   "metadata": {},
   "outputs": [],
   "source": [
    "def generate_test_case(lower_bound: int, upper_bound: int):\n",
    "    n, k = random.randint(lower_bound, upper_bound), random.randint(lower_bound, upper_bound)\n",
    "    a = ' '.join(map(str, [random.randint(0, (1 << 12) - 1) for _ in range(n)]))\n",
    "    return n, k, a"
   ]
  },
  {
   "cell_type": "code",
   "execution_count": 3,
   "metadata": {},
   "outputs": [
    {
     "name": "stdout",
     "output_type": "stream",
     "text": [
      "10 3\n",
      "1404 1553 307 3258 1303 3495 482 748 3617 2560\n"
     ]
    }
   ],
   "source": [
    "n, k, a = generate_test_case(1, 10)\n",
    "print(n, k)\n",
    "print(a)"
   ]
  },
  {
   "cell_type": "code",
   "execution_count": 4,
   "metadata": {},
   "outputs": [
    {
     "name": "stdout",
     "output_type": "stream",
     "text": [
      "1404\n",
      "1553\n",
      "307\n",
      "3258\n",
      "1303\n",
      "3495\n",
      "482\n",
      "748\n",
      "3617\n",
      "2560\n"
     ]
    }
   ],
   "source": [
    "for i in list(map(int, a.split())):\n",
    "    print(i)"
   ]
  },
  {
   "cell_type": "markdown",
   "metadata": {},
   "source": [
    "### Precise test cases"
   ]
  },
  {
   "cell_type": "markdown",
   "metadata": {},
   "source": [
    "Special case where there's **one column** is all **1**"
   ]
  },
  {
   "cell_type": "code",
   "execution_count": 5,
   "metadata": {},
   "outputs": [],
   "source": [
    "def generate_ones_column(lower_bound: int, upper_bound: int, pos=None):\n",
    "    n, k = random.randint(lower_bound, upper_bound), random.randint(lower_bound, upper_bound)\n",
    "    a = [random.randint(0, (1 << 12) - 1) for _ in range(n)]\n",
    "    pos = random.randint(0, len(bin(max(a))) -3) if pos is None else pos\n",
    "    a = ' '.join(map(str, [(1 << pos) | x for x in a])) # convert bit at pos to 1\n",
    "    return n, k, a, pos"
   ]
  },
  {
   "cell_type": "code",
   "execution_count": 6,
   "metadata": {},
   "outputs": [],
   "source": [
    "n, k, a, pos = generate_ones_column(1, 10)"
   ]
  },
  {
   "cell_type": "code",
   "execution_count": 7,
   "metadata": {},
   "outputs": [
    {
     "name": "stdout",
     "output_type": "stream",
     "text": [
      "5 1\n",
      "11\n",
      "0b101111111110\n",
      "0b100110110110\n",
      "0b110101111101\n",
      "0b101111110011\n",
      "0b101110010110\n"
     ]
    }
   ],
   "source": [
    "print(n, k)\n",
    "print(pos)\n",
    "for num in [bin(int(x)) for x in a.split()]:\n",
    "    print(num)"
   ]
  },
  {
   "cell_type": "markdown",
   "metadata": {},
   "source": [
    "The biggest test: array size is up to **2 * 10<sup>4</sup>**, **12** number having **one zero bit** in **distinct position** and the **rest is max value (2<sup>12</sup> - 1)**"
   ]
  },
  {
   "cell_type": "code",
   "execution_count": 8,
   "metadata": {},
   "outputs": [],
   "source": [
    "def generate_giant():\n",
    "    MAX_NUM = (1 << 12) - 1\n",
    "    MAX_BIT = 12\n",
    "    n, k = MAX_NUM, MAX_NUM\n",
    "    a = [MAX_NUM for _ in range(n)]\n",
    "    for i in range(MAX_BIT - 1):\n",
    "        a[i] = a[i] & (~(1 << i))\n",
    "    a[-1] = a[-1] & (~(1 << 11))\n",
    "    return n, k, ' '.join(map(str, a))"
   ]
  },
  {
   "cell_type": "code",
   "execution_count": 9,
   "metadata": {},
   "outputs": [],
   "source": [
    "n, k, a = generate_giant()"
   ]
  },
  {
   "cell_type": "code",
   "execution_count": 10,
   "metadata": {},
   "outputs": [
    {
     "data": {
      "text/plain": [
       "('4094 4093 4091 4087 4079 4063 4031 3967 3839 3583 3071 4095 4095 4095 4095 4095 4095 4095 4095 4095 ',\n",
       " '2047')"
      ]
     },
     "execution_count": 10,
     "metadata": {},
     "output_type": "execute_result"
    }
   ],
   "source": [
    "a[:100], a[-4:]"
   ]
  },
  {
   "cell_type": "markdown",
   "metadata": {},
   "source": [
    "### Some hand-desgined test cases"
   ]
  },
  {
   "cell_type": "markdown",
   "metadata": {},
   "source": [
    "If there exists number of elements **less than k** taken **AND** operator together **equals 0**, **no need** to search for **more elements**"
   ]
  },
  {
   "cell_type": "code",
   "execution_count": 11,
   "metadata": {},
   "outputs": [],
   "source": [
    "n1, k1 = 5, 4\n",
    "a1 = [12, 3, 14, 15, 1] # (1100, 0011, 1110, 1110, 0001)"
   ]
  },
  {
   "cell_type": "code",
   "execution_count": 12,
   "metadata": {},
   "outputs": [],
   "source": [
    "n2, k2 = 5, 5\n",
    "a2 = [14, 13, 11, 7, 15] # (1110, 1101, 1011, 0111, 1111)"
   ]
  },
  {
   "cell_type": "markdown",
   "metadata": {},
   "source": [
    "If there exists number of elements **greater than k** taken **AND** operator together **equals 0**, **cannot** make **conclusion**"
   ]
  },
  {
   "cell_type": "code",
   "execution_count": 13,
   "metadata": {},
   "outputs": [],
   "source": [
    "n3, k3 = 5, 2\n",
    "a3 = [14, 13, 11, 3, 7] # (1110, 1101, 1011, 0011, 0111)"
   ]
  },
  {
   "cell_type": "markdown",
   "metadata": {},
   "source": [
    "### Let's put things together"
   ]
  },
  {
   "cell_type": "code",
   "execution_count": 14,
   "metadata": {},
   "outputs": [
    {
     "name": "stdout",
     "output_type": "stream",
     "text": [
      "3 2\n",
      "5 4 3\n",
      "YES\n"
     ]
    }
   ],
   "source": [
    "from collections import namedtuple\n",
    "Constants = namedtuple(\"Constant\", ['MAX_NUM', 'MAX_BIT'])\n",
    "constants = Constants(2**12 - 1, 12)\n",
    "\n",
    "def count_bit_zero_of_remainder(and_array: int, x: int) -> int:\n",
    "    count_bit_zero = 0\n",
    "    for bit in range(constants.MAX_BIT):\n",
    "        if (1 << bit) & and_array and (1 << bit) & x == 0:\n",
    "                count_bit_zero += 1\n",
    "    return count_bit_zero\n",
    "\n",
    "\n",
    "\n",
    "def get_result(a: list, k: int) -> str:\n",
    "    max_num =  constants.MAX_NUM\n",
    "    count_ai = 0\n",
    "\n",
    "    for bit in range(constants.MAX_BIT):\n",
    "        if (1 << bit) & max_num:\n",
    "            most_zeros, num_with_most_zeros = 0, None\n",
    "\n",
    "            for ai in a:\n",
    "                if (1 << bit) & ai == 0:\n",
    "                    temp = count_bit_zero_of_remainder(max_num, ai)\n",
    "                    \n",
    "                    if temp > most_zeros:\n",
    "                        most_zeros = temp\n",
    "                        num_with_most_zeros = ai\n",
    "                        \n",
    "            if most_zeros == 0:\n",
    "                return \"NO\"\n",
    "            count_ai += 1\n",
    "            max_num &= num_with_most_zeros\n",
    "            \n",
    "            if count_ai <= k and max_num == 0:\n",
    "                return \"YES\"\n",
    "    return \"NO\"\n",
    "\n",
    "n, k = map(int, input().split())\n",
    "a = list(map(int, input().split()))\n",
    "\n",
    "print(get_result(a, k))"
   ]
  },
  {
   "cell_type": "code",
   "execution_count": 15,
   "metadata": {},
   "outputs": [],
   "source": [
    "with open('input.txt', 'a') as rf:\n",
    "    with open('output.txt', 'a') as wf:\n",
    "        for n, k, a in zip([n1, n2, n3], [k1, k2, k3], [a1, a2, a3]):\n",
    "            rf.write(f\"{n} {k}\\n{' '.join(map(str, a))}\\n\")\n",
    "            wf.write(get_result(a, k) + '\\n')"
   ]
  },
  {
   "cell_type": "code",
   "execution_count": 16,
   "metadata": {},
   "outputs": [],
   "source": [
    "with open('input.txt', 'a') as rf:\n",
    "    with open('output.txt', 'a') as wf:\n",
    "        for i in range(20):\n",
    "            n, k, a = generate_test_case(0, 100) # low upperbound\n",
    "            rf.write(f\"{n} {k}\\n{a}\\n\")\n",
    "            wf.write(get_result(list(map(int, a.split())), k) + '\\n')\n",
    "            \n",
    "        for i in range(20):\n",
    "            n, k, a = generate_test_case(0, (1 << 12) - 1) # high upperbound\n",
    "            rf.write(f\"{n} {k}\\n{a}\\n\")\n",
    "            wf.write(get_result(list(map(int, a.split())), k) + '\\n')"
   ]
  },
  {
   "cell_type": "code",
   "execution_count": 17,
   "metadata": {},
   "outputs": [],
   "source": [
    "with open('input.txt', 'a') as rf:\n",
    "    with open('output.txt', 'a') as wf:\n",
    "        for i in range(10):\n",
    "            n, k, a, _ = generate_ones_column(1, 100) \n",
    "            rf.write(f\"{n} {k}\\n{a}\\n\")\n",
    "            wf.write(get_result(list(map(int, a.split())), k) + '\\n')\n",
    "\n",
    "        \n",
    "        n, k, a = generate_giant()\n",
    "        rf.write(f\"{n} {k}\\n{a}\\n\")\n",
    "        wf.write(get_result(list(map(int, a.split())), k) + '\\n')"
   ]
  },
  {
   "cell_type": "code",
   "execution_count": null,
   "metadata": {},
   "outputs": [],
   "source": []
  }
 ],
 "metadata": {
  "kernelspec": {
   "display_name": "Python 3",
   "language": "python",
   "name": "python3"
  },
  "language_info": {
   "codemirror_mode": {
    "name": "ipython",
    "version": 3
   },
   "file_extension": ".py",
   "mimetype": "text/x-python",
   "name": "python",
   "nbconvert_exporter": "python",
   "pygments_lexer": "ipython3",
   "version": "3.7.4"
  }
 },
 "nbformat": 4,
 "nbformat_minor": 2
}
