{
 "cells": [
  {
   "cell_type": "markdown",
   "metadata": {},
   "source": [
    "### Abstraction\n",
    "<p> Tìm <strong>k</strong> lớn nhất sao cho <strong>k</strong> thoả yêu cầu có <strong>k</strong> số phần từ trong mảng và mỗi phần tử lớn hơn <strong>k</strong>"
   ]
  },
  {
   "cell_type": "markdown",
   "metadata": {},
   "source": [
    "### Pattern Recognition\n",
    "<p> &nbsp;&nbsp;&nbsp; <strong> Brute Force </strong>: với cách làm vét cạn, ta duyệt từ 1->N và với mỗi n ta kiểm tra số phần tử thoả yêu cầu đề bài có độ phức tạp O(N<sup>2</sup>) sẽ không thoả vì 10<sup>10</sup> vượt qua giới hạn số phép tính trong một giây <br> <p>\n",
    "\n",
    "<p> &nbsp;&nbsp;&nbsp; <strong>Binary Search</strong>: \n",
    "    <li>Nhận thấy một tính chất của dãy số nếu k có giá trị i không thoả thì chắc chắn i+1, i+2, i+3 không thoả, ví dụ dãy gồm <strong>8 5 3 3 3 10</strong> thì k=4 không thoả vì không tìm thấy 4 số trong mảng lớn hơn 4 thì k=k+1, k+2, k+3 cũng không thoả \n",
    "    <li> Như vậy, ta có giảm độ phức tạp xuống <strong>O(nlog<sub>2</sub>(N))</strong> tức tìm kiếm k bằng tìm kiếm nhị phân và với k ta kiểm tra có thoả yêu cầu đề bài\n",
    "    <li> Sau khi đánh giá độ phức tạp cụ thể: 5 * 10<sup>5</sup> * log<sub>2</sub>(5 * 10<sup>5</sup>) = ~ 95 * 10<sup>5</sup> ~ <strong>10<sup>7</sup></strong> thì vẫn đáp ứng được chương trình chạy trong 1s. Tuy nhiên, vẫn có 1 test case bị <strong>time limit exceeded</strong> vì đó là đánh giá <strong>lí thuyết</strong> trong trường hợp xấu nhất, chỉ tính độ phức tạp dựa trên đoạn chương trình có số mũ(độ phức tạp) lớn nhất và bỏ qua các yếu tố như so sánh (O(1)), tìm kiếm nhị phân thông thường sẽ lớn hơn log<sub>2</sub>N,... Do đó, thực tế độ phức tạp sẽ <strong>></strong> 10<sup>7</sup> và vượt qua giới hạn 1s <p>\n",
    "\n",
    "<p> &nbsp;&nbsp;&nbsp; <strong> Binary Search cải tiến </strong>: <br>\n",
    "    <li> Thay thế việc kiểm tra k có thoả yêu cầu đề bài từ <strong>N</strong> xuống <strong>log<sub>2</sub>N</strong> và sắp xếp lại mảng để tận dụng tính chất của dãy số tăng dần, ta thấy nếu muốn kiểm tra mảng có <strong>k</strong> phần tử <strong>>=</strong> k ta chỉ cần tìm vị trí phần tử <strong> đầu tiên </strong> lớn hơn hoặc bằng k và kết quả là độ dài mảng - vị trí đó\n",
    "    <li> Như vậy, tổng thể độ phức tạp O(log<sub>2</sub>N * log<sub>2</sub>N) để xử lí tìm k và O(Nlog<sub>2</sub>(N)) để sắp xếp mảng <strong> 100% </strong> thoả đề\n",
    "    "
   ]
  },
  {
   "cell_type": "markdown",
   "metadata": {},
   "source": [
    "### Algorithm designed\n",
    "<p> &nbsp;&nbsp;&nbsp; input: Dòng thứ nhất chứa số nguyên n (1 ≤ <strong>n</strong> ≤ 5×10<sup>5</sup>) <br>\n",
    "    &nbsp;&nbsp;&nbsp;&nbsp;&nbsp;&nbsp;&nbsp;&nbsp;&nbsp;&nbsp;&nbsp;&nbsp;&nbsp; Dòng thứ hai chứa <strong>n</strong> số nguyên c1, c2, . . ., cn (0 ≤ <strong>ci</strong> ≤ 10<sup>6</sup>, i = 1 ÷ n) <br>\n",
    "    &nbsp;&nbsp;&nbsp; output: k <strong>lớn nhất</strong> thoả đề </p>\n",
    "\n",
    "<p> &nbsp;&nbsp;&nbsp; function: <br>\n",
    "    &nbsp;&nbsp;&nbsp;&nbsp;&nbsp; sắp xếp mảng c <br>\n",
    "    &nbsp;&nbsp;&nbsp;&nbsp;&nbsp; left ← 0, right ← n <br>\n",
    "    &nbsp;&nbsp;&nbsp;&nbsp;&nbsp; Vòng lặp left bé hơn hoặc bằng right <br>\n",
    "    &nbsp;&nbsp;&nbsp;&nbsp;&nbsp;&nbsp;&nbsp;&nbsp; mid ← (left + right) / 2 <br>\n",
    "    &nbsp;&nbsp;&nbsp;&nbsp;&nbsp;&nbsp;&nbsp;&nbsp; k ← số lượng phần tử lớn hơn hoặc bằng k <br>\n",
    "    &nbsp;&nbsp;&nbsp;&nbsp;&nbsp;&nbsp;&nbsp;&nbsp; nếu tồn tại k lớn hơn hoặc mid <br>\n",
    "    &nbsp;&nbsp;&nbsp;&nbsp;&nbsp;&nbsp;&nbsp;&nbsp;&nbsp;&nbsp; x ← mid, left ← mid + 1 <br>\n",
    "    &nbsp;&nbsp;&nbsp;&nbsp;&nbsp;&nbsp;&nbsp;&nbsp;&nbsp;&nbsp; ngược lại right ← mid - 1 <br>\n",
    "    &nbsp;&nbsp;&nbsp; trả về x <p>"
   ]
  },
  {
   "cell_type": "code",
   "execution_count": 1,
   "metadata": {},
   "outputs": [
    {
     "name": "stdout",
     "output_type": "stream",
     "text": [
      "5\n",
      "8 5 3 4 10\n",
      "4\n"
     ]
    }
   ],
   "source": [
    "from bisect import bisect_left \n",
    "n = int(input())\n",
    "c = sorted(list(map(int, input().split()))) # O(Nlog2(N))\n",
    "left = 0; right = n\n",
    "x = -1\n",
    "\n",
    "while left <= right: # O(log2(N))\n",
    "    mid = left + (right - left) // 2\n",
    "    k = n - bisect_left(c, mid, 0, n) # O(log2(N))\n",
    "    if k >= mid:\n",
    "        x = mid\n",
    "        left = mid + 1\n",
    "    else:\n",
    "        right = mid - 1\n",
    "\n",
    "print(x)"
   ]
  },
  {
   "cell_type": "markdown",
   "metadata": {},
   "source": [
    "##### Độ phức tạp thời gian:\n",
    "<li> O(log2(N) * log2(N)): mỗi giá trị k ta tìm kiếm nhị phân\n",
    "<li> O(Nlog2(N)): sắp xếp mảng\n",
    "<li> Tổng: O(Nlog2(N))"
   ]
  },
  {
   "cell_type": "markdown",
   "metadata": {},
   "source": [
    "#### Độ phức tạp không gian:\n",
    "<li> O(n): mảng lưu trữ ci"
   ]
  }
 ],
 "metadata": {
  "kernelspec": {
   "display_name": "Python 3",
   "language": "python",
   "name": "python3"
  },
  "language_info": {
   "codemirror_mode": {
    "name": "ipython",
    "version": 3
   },
   "file_extension": ".py",
   "mimetype": "text/x-python",
   "name": "python",
   "nbconvert_exporter": "python",
   "pygments_lexer": "ipython3",
   "version": "3.7.4"
  }
 },
 "nbformat": 4,
 "nbformat_minor": 2
}
