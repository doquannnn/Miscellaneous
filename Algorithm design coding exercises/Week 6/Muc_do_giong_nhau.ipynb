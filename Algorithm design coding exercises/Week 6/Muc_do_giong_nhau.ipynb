{
 "cells": [
  {
   "cell_type": "markdown",
   "metadata": {},
   "source": [
    "### Abstraction:\n",
    "- Đếm cặp ký tự giống nhau của chuỗi 1 có trong chuỗi 2"
   ]
  },
  {
   "cell_type": "markdown",
   "metadata": {},
   "source": [
    "### Pattern Recognition:\n"
   ]
  },
  {
   "cell_type": "markdown",
   "metadata": {},
   "source": [
    "Thông thường khi nhắc đến bài toán đếm ta thường nghĩ ngay đến một loại cấu trúc dữ liệu để lưu trữ. Đúng vậy, đó cấu trúc dạng cây, cụ thể đó là <strong> red black tree </strong> được cài sẵn trong python có tên gọi dictionary hoặc set tuỳ vào mục đích sử dụng <br>\n",
    "Tuy nhiên cần làm rõ input và output đề bài, ta chỉ quan tâm số cặp kí tự của chuỗi 1. Ví dụ: <br>\n",
    "&nbsp;&nbsp;&nbsp;&nbsp; ABAB <br>\n",
    "&nbsp;&nbsp;&nbsp;&nbsp; AB <br>\n",
    "&nbsp;&nbsp;&nbsp;&nbsp; --> kết quả sẽ là 2  <br>\n",
    "&nbsp;&nbsp;&nbsp;&nbsp; AB <br>\n",
    "&nbsp;&nbsp;&nbsp;&nbsp; ABAB <br>\n",
    "&nbsp;&nbsp;&nbsp;&nbsp; --> Kết quả sẽ là 1"
   ]
  },
  {
   "cell_type": "markdown",
   "metadata": {},
   "source": [
    "Sử dụng kĩ thuật **hashing** để ánh xạ **tần suất** của cặp kí tự <br>\n",
    "Một vài **lưu ý** cho chương trình tối ưu hơn: <br>\n",
    "&nbsp;&nbsp;&nbsp;&nbsp; Như ví dụ trên, ta không cần biết số lần xuất hiện của chuỗi 2 mà chỉ quan tâm sự xuất hiện <strong>duy nhất</strong> của cặp kí tự trong chuỗi 2 <br>\n",
    "&nbsp;&nbsp;&nbsp;&nbsp; Chuỗi 1 thì ta cần phải lưu <strong>tần suất xuất hiện</strong> của cặp kí tự <br>\n",
    "---> Như vậy, chuỗi **1** sử dụng cấu trúc dữ liệu **dictionary**, còn chuỗi **2** sử dụng **set** để **giảm bộ nhớ** lưu trữ"
   ]
  },
  {
   "cell_type": "markdown",
   "metadata": {},
   "source": [
    "### Algorithm designed:\n",
    "**Input:** 2 dòng chứa 2 xâu khác rỗng, mỗi xâu chỉ chứa các ký tự chữ cái in hoa và có độ dài không quá $10^5$.\n",
    "\n",
    "**Output:** Mức độ giống nhau của 2 xâu.\n",
    "\n",
    "**Mã giả:**\n",
    "\n",
    "&nbsp;&nbsp;&nbsp;&nbsp; gene_1_dict <- dictionary, gene_2_set <- set <br>\n",
    "&nbsp;&nbsp;&nbsp;&nbsp; ans <- 0 <br>\n",
    "&nbsp;&nbsp;&nbsp;&nbsp; for i in range(len(gene_1) - 1): <br>\n",
    "&nbsp;&nbsp;&nbsp;&nbsp;&nbsp;&nbsp; store all pairs of characters in gene_1_dict <br>\n",
    "&nbsp;&nbsp;&nbsp;&nbsp; for i in range(len(gene_2) - 1): <br>\n",
    "&nbsp;&nbsp;&nbsp;&nbsp;&nbsp;&nbsp; key <- pair of characters <br>\n",
    "&nbsp;&nbsp;&nbsp;&nbsp;&nbsp;&nbsp; check if key not exist in gene_2_set and key in gene_1_dict: <br>\n",
    "&nbsp;&nbsp;&nbsp;&nbsp;&nbsp;&nbsp;&nbsp;&nbsp;&nbsp; ans <- ans + gene_1_dict[key] <br>\n",
    "&nbsp;&nbsp;&nbsp;&nbsp;&nbsp;&nbsp; add key to gene_2_set <br>\n",
    "&nbsp;&nbsp;&nbsp;&nbsp; print ans\n"
   ]
  },
  {
   "cell_type": "code",
   "execution_count": 2,
   "metadata": {
    "scrolled": true
   },
   "outputs": [
    {
     "name": "stdout",
     "output_type": "stream",
     "text": [
      "ABBACAB\n",
      "BCABB\n",
      "4\n"
     ]
    }
   ],
   "source": [
    "from collections import defaultdict\n",
    "\n",
    "gene_1_dict= defaultdict(int)\n",
    "gene_1, gene_2 = input(), input()\n",
    "\n",
    "for i in range(len(gene_1) - 1): # O(len(gen_1))\n",
    "    gene_1_dict[gene_1[i] + gene_1[i + 1]] += 1\n",
    "\n",
    "gene_2_set = set()\n",
    "\n",
    "ans = 0\n",
    "for i in range(len(gene_2) - 1): # O(len(gen_2))\n",
    "    key = gene_2[i] + gene_2[i + 1]\n",
    "    if key not in gene_2_set: # O(1)\n",
    "        if key in gene_1_dict: # O(1)\n",
    "            ans += gene_1_dict[key]\n",
    "        gene_2_set.add(key) # O(1)\n",
    "\n",
    "print(ans)\n"
   ]
  },
  {
   "cell_type": "markdown",
   "metadata": {},
   "source": [
    "**Độ phức tạp thời gian:** O(len(gen_1) + len(gen_2)) <br>\n",
    "Trường hợp <strong>xấu nhất</strong> len(gen_1) = len(gen_2) = 10<sup>5</sup> = O(2 * len(gen_1) = O(len(gen_1)) với len(gen_1) = 10<sup>5</sup> <br>\n",
    "**Độ phức tạp không gian:** O(len(gen_1) + len(gen_2))"
   ]
  },
  {
   "cell_type": "code",
   "execution_count": null,
   "metadata": {},
   "outputs": [],
   "source": []
  }
 ],
 "metadata": {
  "kernelspec": {
   "display_name": "Python 3",
   "language": "python",
   "name": "python3"
  },
  "language_info": {
   "codemirror_mode": {
    "name": "ipython",
    "version": 3
   },
   "file_extension": ".py",
   "mimetype": "text/x-python",
   "name": "python",
   "nbconvert_exporter": "python",
   "pygments_lexer": "ipython3",
   "version": "3.7.4"
  }
 },
 "nbformat": 4,
 "nbformat_minor": 4
}
