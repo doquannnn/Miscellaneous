{
 "cells": [
  {
   "cell_type": "markdown",
   "metadata": {},
   "source": [
    "### Abstraction"
   ]
  },
  {
   "cell_type": "markdown",
   "metadata": {},
   "source": [
    "&nbsp;&nbsp;&nbsp; Tổng số ống đèn led lớn nhất có thể có được"
   ]
  },
  {
   "cell_type": "markdown",
   "metadata": {},
   "source": [
    "### Pattern Recognition"
   ]
  },
  {
   "cell_type": "markdown",
   "metadata": {},
   "source": [
    "&nbsp;&nbsp;&nbsp; Nếu xét số ống đèn led của số 0 -> 9: 6 2 5 5 4 5 6 3 7 6, ta thấy tổng số đèn led lớn nhất có được xoay quanh con số **7** <br>\n",
    "&nbsp;&nbsp;&nbsp; Như vậy, lúc này có 3 trường hợp: <br>\n",
    "&nbsp;&nbsp;&nbsp;&nbsp;&nbsp; + Nếu n **chia hết** cho 3 thì kết quả là n // 3 * 7 <br>\n",
    "&nbsp;&nbsp;&nbsp;&nbsp;&nbsp; + Nếu n chia 3 **dư 1** thì kết quả là (n // 3 - 1) * 7 + 4, lúc này sẽ bỏ bớt một con số 7 và cộng thêm một con số -> số 4 là phù hợp nhất để có tổng lớn nhất <br>\n",
    "&nbsp;&nbsp;&nbsp;&nbsp;&nbsp; + Nếu n chia 3 **dư 2** thì kết quả là (n // 3) * 7 + 1, 2 đèn led thì chỉ ghép được số 1 <br>\n",
    "=> Toán học"
   ]
  },
  {
   "cell_type": "markdown",
   "metadata": {},
   "source": [
    "### Algorithm designed"
   ]
  },
  {
   "cell_type": "markdown",
   "metadata": {},
   "source": [
    "`Input:` <br>\n",
    "&nbsp;&nbsp;&nbsp; Một dòng chứa số nguyên n (2 ≤ n ≤ 10<sup>6</sup>) <br>\n",
    "`Output:` <br>\n",
    "&nbsp;&nbsp;&nbsp; Tổng lớn nhất đạt được <br>"
   ]
  },
  {
   "cell_type": "markdown",
   "metadata": {},
   "source": [
    "`Pseudocode:` <br>\n",
    "&nbsp;&nbsp;&nbsp; total_seven <- n // 3 <br>\n",
    "&nbsp;&nbsp;&nbsp; remainder <- n % 3 <br>\n",
    "&nbsp;&nbsp;&nbsp; if remainder == 0: <br>\n",
    "&nbsp;&nbsp;&nbsp;&nbsp;&nbsp; print(total_seven * 7) <br>\n",
    "&nbsp;&nbsp;&nbsp; if remainder == 1: <br>\n",
    "&nbsp;&nbsp;&nbsp;&nbsp;&nbsp; print((total_seven - 1) * 7 + 4) <br>\n",
    "&nbsp;&nbsp;&nbsp; else: <br>\n",
    "&nbsp;&nbsp;&nbsp;&nbsp;&nbsp; print(total_seven * 7 + 1)"
   ]
  },
  {
   "cell_type": "code",
   "execution_count": 1,
   "metadata": {},
   "outputs": [
    {
     "name": "stdout",
     "output_type": "stream",
     "text": [
      "7\n",
      "11\n"
     ]
    }
   ],
   "source": [
    "n = int(input())\n",
    "\n",
    "total_seven, remainder = n // 3, n % 3\n",
    "if remainder == 0:\n",
    "    print(total_seven * 7)\n",
    "    exit()\n",
    "print((total_seven - 1) * 7 + 4 if remainder == 1 else total_seven * 7 + 1)"
   ]
  },
  {
   "cell_type": "code",
   "execution_count": null,
   "metadata": {},
   "outputs": [],
   "source": []
  }
 ],
 "metadata": {
  "kernelspec": {
   "display_name": "Python 3",
   "language": "python",
   "name": "python3"
  },
  "language_info": {
   "codemirror_mode": {
    "name": "ipython",
    "version": 3
   },
   "file_extension": ".py",
   "mimetype": "text/x-python",
   "name": "python",
   "nbconvert_exporter": "python",
   "pygments_lexer": "ipython3",
   "version": "3.7.4"
  }
 },
 "nbformat": 4,
 "nbformat_minor": 4
}
