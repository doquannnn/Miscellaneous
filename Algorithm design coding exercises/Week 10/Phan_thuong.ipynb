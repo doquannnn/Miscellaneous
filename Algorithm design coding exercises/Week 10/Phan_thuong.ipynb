{
 "cells": [
  {
   "cell_type": "markdown",
   "metadata": {},
   "source": [
    "### Abstraction"
   ]
  },
  {
   "cell_type": "markdown",
   "metadata": {},
   "source": [
    "&nbsp;&nbsp;&nbsp; Tổng của k số liên tiếp nhỏ nhất sao cho các tổng của k số liên tiếp còn lại không lớn hơn"
   ]
  },
  {
   "cell_type": "markdown",
   "metadata": {},
   "source": [
    "### Pattern Recognition"
   ]
  },
  {
   "cell_type": "markdown",
   "metadata": {},
   "source": [
    "&nbsp;&nbsp;&nbsp; **n = 10^5** chắc chắn không thể sử dụng vét cạn <br>\n",
    "&nbsp;&nbsp;&nbsp; Ý tưởng: cần có **3 mảng**, gọi ứng viên là tổng của **k phần từ liên tiếp** <br>\n",
    "&nbsp;&nbsp;&nbsp;&nbsp;&nbsp; + Mảng shortened_list, tức là **mảng rút gọn** lại còn tập hợp các ứng viên <br>\n",
    "&nbsp;&nbsp;&nbsp;&nbsp;&nbsp; + Mảng max_left, tại vị trí thứ i **từ trái sang** có ứng viên giá trị **lớn nhất** tại i <br> \n",
    "&nbsp;&nbsp;&nbsp;&nbsp;&nbsp; + Mảng max_right, tại vị trí thứ i **từ phải sang** có ứng viên giá trị **lớn nhất** tại i <br>\n",
    "&nbsp;&nbsp;&nbsp; => Kết quả sẽ **tập hợp** các ứng viên tại vị trí i **không bé hơn max_left[i - k]** và **không bé hơn max_right[i + k]** và chọn ra **ứng viên nhỏ nhất**<br>\n",
    "\n",
    "&nbsp;&nbsp;&nbsp; Vấn đề là nằm ở chỗ giải thuật chỉ duyệt mảng một lần để tính tổng, ta sử dụng hai biến song song để trừ đi một số ở đuôi và cộng thêm một số tiếp theo <br>\n",
    "\n",
    "=> Giải thuật qui hoạch động vì bước sau cập nhất bước trước"
   ]
  },
  {
   "cell_type": "markdown",
   "metadata": {},
   "source": [
    "### Algorithm designed"
   ]
  },
  {
   "cell_type": "markdown",
   "metadata": {},
   "source": [
    "`Input:` <br>\n",
    "&nbsp;&nbsp;&nbsp; Dòng đầu tiên gồm 2 số nguyên n và k (3 ≤ n ≤ 10<sup>5</sup>, 1 ≤ k ≤ n/3),<br>\n",
    "&nbsp;&nbsp;&nbsp; Dòng thứ 2 chứa n số nguyên a1, a2, . . ., a<sub>n</sub> (1 ≤ a<sub>i</sub> ≤ 10<sup>9</sup>, i = 1 ÷ n) <br>\n",
    "`Output:` <br>\n",
    "&nbsp;&nbsp;&nbsp; Số nguyên x"
   ]
  },
  {
   "cell_type": "markdown",
   "metadata": {},
   "source": [
    "&nbsp;&nbsp;&nbsp; current_sum <- sum of first k element <br>\n",
    "&nbsp;&nbsp;&nbsp;shortened_list <- empty list <br>\n",
    "&nbsp;&nbsp;&nbsp;push current_sum to shortened_list <br>\n",
    "\n",
    "&nbsp;&nbsp;&nbsp; max_left_so_far <- current_sum <br>\n",
    "&nbsp;&nbsp;&nbsp; max_left <- empty list <br>\n",
    "&nbsp;&nbsp;&nbsp; push max_left_so_far to max_left <br>\n",
    "\n",
    "&nbsp;&nbsp;&nbsp; for i in range(k, n): <br> \n",
    "&nbsp;&nbsp;&nbsp;&nbsp;&nbsp;    l, r <- i - k, i <br>\n",
    "&nbsp;&nbsp;&nbsp;&nbsp;&nbsp;    current_sum <- current_sum - a[l] + a[r] <br>\n",
    "&nbsp;&nbsp;&nbsp;&nbsp;&nbsp;    push current_sum to shortened_list <br>\n",
    "    \n",
    "&nbsp;&nbsp;&nbsp;&nbsp;&nbsp;    if current_sum > max_left_so_far: <br>\n",
    "&nbsp;&nbsp;&nbsp;&nbsp;&nbsp;&nbsp;&nbsp;       max_left_so_far <- current_sum <br>\n",
    "\n",
    "&nbsp;&nbsp;&nbsp; max_right_so_far <- sum of last k elements <br>\n",
    "&nbsp;&nbsp;&nbsp;max_right <- empty list <br>\n",
    "&nbsp;&nbsp;&nbsp;push max_right_so_far to max_right <br>\n",
    "&nbsp;&nbsp;&nbsp;current_sum <- max_right_so_far <br>\n",
    "\n",
    "&nbsp;&nbsp;&nbsp; for i in range(n - k - 1, -1, -1): <br>\n",
    "&nbsp;&nbsp;&nbsp;&nbsp;&nbsp; l, r <- i, i + k <br>\n",
    "&nbsp;&nbsp;&nbsp;&nbsp;&nbsp; current_sum <- current_sum + a[l] - a[r] <br>\n",
    "\n",
    "&nbsp;&nbsp;&nbsp;&nbsp;&nbsp; if current_sum > max_right_so_far: <br>\n",
    "&nbsp;&nbsp;&nbsp;&nbsp;&nbsp;&nbsp;&nbsp; max_right_so_far <- current_sum <br>\n",
    "&nbsp;&nbsp;&nbsp;&nbsp;&nbsp; push_max_right_so_far to max_right <br>\n",
    "\n",
    "&nbsp;&nbsp;&nbsp; chosen, ans <- None, INF <br>\n",
    "&nbsp;&nbsp;&nbsp; max_len <- len(shortened_list) <br>\n",
    "\n",
    "&nbsp;&nbsp;&nbsp; for i in range(max_len): <br>\n",
    "&nbsp;&nbsp;&nbsp;&nbsp;&nbsp; checked_both <- 0 <br>\n",
    "\n",
    "&nbsp;&nbsp;&nbsp;&nbsp;&nbsp; if i - k < 0 or shortened_list[i] >= max_left[i - k]: <br>\n",
    "&nbsp;&nbsp;&nbsp;&nbsp;&nbsp;&nbsp;&nbsp; checked_both <- checked_both + 1 <br>\n",
    "\n",
    "&nbsp;&nbsp;&nbsp;&nbsp;&nbsp; if i + k > max_len - 1 or shortened_list[i] >= max_right[i + k]: <br>\n",
    "&nbsp;&nbsp;&nbsp;&nbsp;&nbsp;&nbsp;&nbsp; checked_both <- checked_both + 1 <br>\n",
    "\n",
    "&nbsp;&nbsp;&nbsp;&nbsp;&nbsp; if checked_both == 2: <br>\n",
    "&nbsp;&nbsp;&nbsp;&nbsp;&nbsp;&nbsp;&nbsp; chosen <- shortened_list[i] <br>\n",
    "&nbsp;&nbsp;&nbsp;&nbsp;&nbsp;&nbsp;&nbsp; push chosen to a <br>\n",
    "\n",
    "&nbsp;&nbsp;&nbsp;&nbsp;&nbsp;if chosen is not None and chosen < ans: <br>\n",
    "&nbsp;&nbsp;&nbsp;&nbsp;&nbsp;&nbsp;&nbsp; ans <- chosen <br>\n",
    "\n",
    "print(ans)"
   ]
  },
  {
   "cell_type": "code",
   "execution_count": 1,
   "metadata": {},
   "outputs": [
    {
     "name": "stdout",
     "output_type": "stream",
     "text": [
      "10 2\n",
      "1 2 4 5 2 4 2 2 1 6\n",
      "7\n"
     ]
    }
   ],
   "source": [
    "n, k = map(int, input().split())\n",
    "a = list(map(int, input().split()))\n",
    "\n",
    "current_sum = sum(a[0:k])\n",
    "shortened_list = [current_sum]\n",
    "\n",
    "max_left_so_far = current_sum\n",
    "max_left = [max_left_so_far]\n",
    "\n",
    "for i in range(k, n):\n",
    "    l, r = i - k, i\n",
    "    current_sum = current_sum - a[l] + a[r]\n",
    "    shortened_list.append(current_sum)\n",
    "\n",
    "    if current_sum > max_left_so_far:\n",
    "        max_left_so_far = current_sum\n",
    "\n",
    "    max_left.append(max_left_so_far)\n",
    "\n",
    "max_right_so_far = sum(a[n - k: n])\n",
    "max_right = [max_right_so_far]\n",
    "current_sum = max_right_so_far\n",
    "\n",
    "for i in range(n - k - 1, -1, -1):\n",
    "    l, r = i, i + k\n",
    "    current_sum = current_sum + a[l] - a[r]\n",
    "\n",
    "    if current_sum > max_right_so_far:\n",
    "        max_right_so_far = current_sum\n",
    "\n",
    "    max_right.append(max_right_so_far)\n",
    "\n",
    "chosen, ans = None, float('inf')\n",
    "max_len = len(shortened_list)\n",
    "\n",
    "for i in range(len(shortened_list)):\n",
    "    checked_both = 0\n",
    "    if i - k < 0 or shortened_list[i] >= max_left[i - k]:\n",
    "        checked_both += 1\n",
    "\n",
    "    if i + k > max_len - 1 or shortened_list[i] >= max_right[i + k]:\n",
    "        checked_both += 1\n",
    "\n",
    "    if checked_both == 2:\n",
    "        chosen = shortened_list[i]\n",
    "        a.append(chosen)\n",
    "\n",
    "    if chosen is not None and chosen < ans:\n",
    "        ans = chosen\n",
    "\n",
    "print(ans)"
   ]
  },
  {
   "cell_type": "code",
   "execution_count": null,
   "metadata": {},
   "outputs": [],
   "source": []
  }
 ],
 "metadata": {
  "kernelspec": {
   "display_name": "Python 3",
   "language": "python",
   "name": "python3"
  },
  "language_info": {
   "codemirror_mode": {
    "name": "ipython",
    "version": 3
   },
   "file_extension": ".py",
   "mimetype": "text/x-python",
   "name": "python",
   "nbconvert_exporter": "python",
   "pygments_lexer": "ipython3",
   "version": "3.7.4"
  }
 },
 "nbformat": 4,
 "nbformat_minor": 4
}
