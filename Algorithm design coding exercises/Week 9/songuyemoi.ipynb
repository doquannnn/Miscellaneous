{
 "cells": [
  {
   "cell_type": "markdown",
   "metadata": {
    "id": "KBl2CHQr0zX2"
   },
   "source": [
    "### **Abstraction**\n",
    "&nbsp;&nbsp;&nbsp; Tìm số nguyên lớn nhất **m** chia hết cho 3 và khác n ở đúng một chữ số. (**n** có không quá 100 chữ số)"
   ]
  },
  {
   "cell_type": "markdown",
   "metadata": {
    "id": "RYBaO6RlKnnS"
   },
   "source": [
    "### **Pattern Recognition**"
   ]
  },
  {
   "cell_type": "markdown",
   "metadata": {},
   "source": [
    "&nbsp;&nbsp;&nbsp; Nhận thấy có 2 trường hợp: <br>\n",
    "&nbsp;&nbsp;&nbsp; + Nếu số thay đổi **không phải số cuối** thì **chỉ tăng** <br>\n",
    "&nbsp;&nbsp;&nbsp; + Nếu số thay đổi là số cuối thì **ưu tiên tăng**, nếu **không được** thì **giảm** <br>\n",
    "&nbsp;&nbsp;&nbsp; => Thứ tự ưu tiên sẽ là từ **trái sang phải** tương ứng **số lớn nhất có thể** đến giảm dần <br>\n",
    "&nbsp;&nbsp;&nbsp; => Toán học"
   ]
  },
  {
   "cell_type": "markdown",
   "metadata": {
    "id": "L1cx3-CMKqoZ"
   },
   "source": [
    "### Algorithm designed\n",
    "&nbsp;&nbsp;&nbsp;  **Input:** Số nguyên **n** có không quá 100 chữ số và không chứa các số 0 không có nghĩa.\n",
    "  \n",
    "&nbsp;&nbsp;&nbsp;  **Ouput:** số nguyên m lớn nhất thõa đề.\n",
    "\n",
    "\n",
    "**Mã giả** <br>\n",
    "&nbsp;&nbsp;&nbsp; total <- sum of all digits of n <br>\n",
    "&nbsp;&nbsp;&nbsp; checked <- False <br>\n",
    "&nbsp;&nbsp;&nbsp; for i in range(len(n)): <br>\n",
    "&nbsp;&nbsp;&nbsp;&nbsp;&nbsp; x <- (total - n[i]) % 3 **# check for remainder if digit at i-th postion erased** <br>\n",
    "&nbsp;&nbsp;&nbsp;&nbsp;&nbsp; if x = 1 and n[i] < 8: <br>\n",
    "&nbsp;&nbsp;&nbsp;&nbsp;&nbsp;&nbsp;&nbsp; n[i] <- 8 <br>\n",
    "&nbsp;&nbsp;&nbsp;&nbsp;&nbsp;&nbsp;&nbsp; checked <- True <br>\n",
    "&nbsp;&nbsp;&nbsp;&nbsp;&nbsp; if x = 2 and n[i] < 7: <br>\n",
    "&nbsp;&nbsp;&nbsp;&nbsp;&nbsp;&nbsp;&nbsp; n[i] <- 7 <br>\n",
    "&nbsp;&nbsp;&nbsp;&nbsp;&nbsp;&nbsp;&nbsp; checked <- True <br>\n",
    "&nbsp;&nbsp;&nbsp;&nbsp;&nbsp; if x = 0 and n[i] < 9: <br>\n",
    "&nbsp;&nbsp;&nbsp;&nbsp;&nbsp;&nbsp;&nbsp; n[i] <- 9 <br>\n",
    "&nbsp;&nbsp;&nbsp;&nbsp;&nbsp;&nbsp;&nbsp; checked <- True <br>\n",
    "&nbsp;&nbsp;&nbsp;&nbsp;&nbsp; if checked = True: <br>\n",
    "&nbsp;&nbsp;&nbsp;&nbsp;&nbsp;&nbsp;&nbsp; print(answer) and return <br>\n",
    "&nbsp;&nbsp;&nbsp; total -= n[-1] **# if cannot decrease and then increase last digit** <br>\n",
    "&nbsp;&nbsp;&nbsp; while n[-1] > 0: **# brute force**  <br>\n",
    "&nbsp;&nbsp;&nbsp;&nbsp;&nbsp; n[-1] -= 1 <br>\n",
    "&nbsp;&nbsp;&nbsp;&nbsp;&nbsp; if (total + n[-1]) % 3 == 0: <br>\n",
    "&nbsp;&nbsp;&nbsp;&nbsp;&nbsp;&nbsp;&nbsp; print(answer)"
   ]
  },
  {
   "cell_type": "code",
   "execution_count": 3,
   "metadata": {
    "colab": {
     "base_uri": "https://localhost:8080/"
    },
    "id": "CcmBRorzLOkM",
    "outputId": "b8765730-6f74-4b3f-c949-80909eb9abfb"
   },
   "outputs": [
    {
     "name": "stdout",
     "output_type": "stream",
     "text": [
      "123\n",
      "723\n"
     ]
    }
   ],
   "source": [
    "n = int(input())\n",
    "\n",
    "n = [int(x) for x in str(n)]\n",
    "\n",
    "def solve():\n",
    "    total = sum(n)\n",
    "    checked = False\n",
    "    \n",
    "    for i in range(len(n)):\n",
    "        x = (total - n[i]) % 3\n",
    "        if x == 1:\n",
    "            if n[i] < 8:\n",
    "                n[i] = 8\n",
    "                checked = True\n",
    "        elif x == 2:\n",
    "            if n[i] < 7:\n",
    "                n[i] = 7\n",
    "                checked = True\n",
    "        else:\n",
    "            if n[i] < 9:\n",
    "                n[i] = 9\n",
    "                checked = True\n",
    "        if checked:\n",
    "            ans = int(''.join(map(str, n)))\n",
    "            print(ans)\n",
    "            return\n",
    "\n",
    "    total -= n[-1]\n",
    "    while n[-1] > 0:\n",
    "        n[-1] -= 1\n",
    "        if (total + n[-1]) % 3 == 0:\n",
    "            ans = int(''.join(map(str, n)))\n",
    "            print(ans)\n",
    "            return\n",
    "\n",
    "solve()"
   ]
  },
  {
   "cell_type": "code",
   "execution_count": null,
   "metadata": {
    "id": "A8BRa2O-L5q9"
   },
   "outputs": [],
   "source": []
  }
 ],
 "metadata": {
  "colab": {
   "name": "songuyemoi.ipynb",
   "provenance": []
  },
  "kernelspec": {
   "display_name": "Python 3",
   "language": "python",
   "name": "python3"
  },
  "language_info": {
   "codemirror_mode": {
    "name": "ipython",
    "version": 3
   },
   "file_extension": ".py",
   "mimetype": "text/x-python",
   "name": "python",
   "nbconvert_exporter": "python",
   "pygments_lexer": "ipython3",
   "version": "3.7.4"
  }
 },
 "nbformat": 4,
 "nbformat_minor": 1
}
