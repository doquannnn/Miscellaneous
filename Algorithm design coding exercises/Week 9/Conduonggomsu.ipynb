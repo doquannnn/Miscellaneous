{
 "cells": [
  {
   "cell_type": "markdown",
   "metadata": {
    "id": "gfkOkbGJMp16"
   },
   "source": [
    "### **Abstraction**\n"
   ]
  },
  {
   "cell_type": "markdown",
   "metadata": {},
   "source": [
    "&nbsp;&nbsp;&nbsp; Tìm tổng số lượng các mảng con tương đương nhau của nhóm 1 và nhóm 2"
   ]
  },
  {
   "cell_type": "markdown",
   "metadata": {
    "id": "GdZrmFeqS82j"
   },
   "source": [
    "### **Pattern Recognition**"
   ]
  },
  {
   "cell_type": "markdown",
   "metadata": {},
   "source": [
    "&nbsp;&nbsp;&nbsp; Theo đề bài thì **k** phải là **số chia** và **n** là **số bị chia** <br>\n",
    "&nbsp;&nbsp;&nbsp; Mỗi lần duyệt qua k số, ta ánh xạ các số sao cho **giá trị của mỗi số là duy nhất** khi đó cộng tất cả các giá trị này sẽ được giá trị hashing <br>\n",
    "&nbsp;&nbsp;&nbsp; Ta lưu giá trị hashing vào dictionary, vì **cần thứ tự** của key nên sử dụng **OrderedDict** <br>\n",
    "&nbsp;&nbsp;&nbsp; Vậy có **kết quả** khi và chỉ khi dict **có 2 giá trị** <br>\n",
    "&nbsp;&nbsp;&nbsp; => Hashing"
   ]
  },
  {
   "cell_type": "markdown",
   "metadata": {
    "id": "02uIBqBwTHxo"
   },
   "source": [
    "### **Algorithm designed**\n",
    "\n",
    "**Input:** \n",
    "\n",
    "*   Dòng đầu tiên chứa một số nguyên **n** – số lượng lô của con đê (`2 ≤ n ≤ 105`),\n",
    "*   Dòng thứ 2 chứa **n** số nguyên a1, a2, . . ., an – màu của các lô (`1 ≤ ai ≤ 50 000, i = 1 ÷ n`).\n",
    "\n",
    "**Output:** \n",
    "\n",
    "\n",
    "*   Dòng đầu tiên chứa số nguyên **m** – số lượng phương án khác nhau chia con đường thành các bức tranh (`default = -1`)\n",
    "*   Nếu `m # -1`, dòng tiếp theo chưa 3 số nguyên **k**, **p** và **q** – độ rộng bức tranh, số tranh do nhóm 1 thực hiện và số tranh do nhóm 2 thực hiện, thông tin đưa ra theo thứ tự tăng dần của **k** và ở mỗi dòng có `p ≥ q > 0.`\n",
    "\n",
    "\n",
    "\n"
   ]
  },
  {
   "cell_type": "markdown",
   "metadata": {},
   "source": [
    "`Pseudocode` <br>\n",
    "&nbsp;&nbsp;&nbsp; divisors <- list of numbers divisable by n <br>\n",
    "&nbsp;&nbsp;&nbsp; ans <- empty list <br>\n",
    "&nbsp;&nbsp;&nbsp; for divisor in divisors: # choose the best k <br>\n",
    "&nbsp;&nbsp;&nbsp;&nbsp;&nbsp; d <- empty OrderedDict <br>\n",
    "&nbsp;&nbsp;&nbsp;&nbsp;&nbsp; hash_total_one <- sum of first k elements  # first k elements always belong to group one <br>\n",
    "&nbsp;&nbsp;&nbsp;&nbsp;&nbsp; d[hash_total_one] <- 1 <br>\n",
    "&nbsp;&nbsp;&nbsp;&nbsp;&nbsp; checked <- True <br>\n",
    "&nbsp;&nbsp;&nbsp;&nbsp;&nbsp; for j in range(divisor, n, divisors): <br>\n",
    "&nbsp;&nbsp;&nbsp;&nbsp;&nbsp;&nbsp;&nbsp; hash_total <- sum of k elements in range(j, j + divisors) <br>\n",
    "&nbsp;&nbsp;&nbsp;&nbsp;&nbsp;&nbsp;&nbsp; if hash_total in d: <br>\n",
    "&nbsp;&nbsp;&nbsp;&nbsp;&nbsp;&nbsp;&nbsp;&nbsp;&nbsp; d[hash_total] += 1 <br>\n",
    "&nbsp;&nbsp;&nbsp;&nbsp;&nbsp;&nbsp;&nbsp; else: <br>\n",
    "&nbsp;&nbsp;&nbsp;&nbsp;&nbsp;&nbsp;&nbsp;&nbsp;&nbsp; d[hash_total] = 1 <br>\n",
    "&nbsp;&nbsp;&nbsp;&nbsp;&nbsp;&nbsp;&nbsp; if len(d) > 2: # more than two group <br>\n",
    "&nbsp;&nbsp;&nbsp;&nbsp;&nbsp;&nbsp;&nbsp;&nbsp;&nbsp; checked <- False <br>\n",
    "&nbsp;&nbsp;&nbsp;&nbsp;&nbsp;&nbsp;&nbsp;&nbsp;&nbsp; break <- break <br>\n",
    "&nbsp;&nbsp;&nbsp;&nbsp;&nbsp;&nbsp;&nbsp; if checked == False or len(d) == 1: # aforementioned case or or just one group <br>\n",
    "&nbsp;&nbsp;&nbsp;&nbsp;&nbsp;&nbsp;&nbsp;&nbsp;&nbsp; continue  # ignore this case and continue the next <br>\n",
    "&nbsp;&nbsp;&nbsp;&nbsp;&nbsp;&nbsp;&nbsp; ans <- divisor, values of d  <br>\n",
    "&nbsp;&nbsp;&nbsp; if len(ans) == 0: <br>\n",
    "&nbsp;&nbsp;&nbsp;&nbsp;&nbsp; print(-1) <br>\n",
    "&nbsp;&nbsp;&nbsp; else: <br>\n",
    "&nbsp;&nbsp;&nbsp;&nbsp;&nbsp; print(len(ans)) <br>\n",
    "&nbsp;&nbsp;&nbsp; print(ans) <br>"
   ]
  },
  {
   "cell_type": "code",
   "execution_count": 1,
   "metadata": {
    "colab": {
     "base_uri": "https://localhost:8080/"
    },
    "id": "uuxUF4mgSI8X",
    "outputId": "0f724413-01c2-4e1f-b405-b28ab7b2d5cd"
   },
   "outputs": [
    {
     "name": "stdout",
     "output_type": "stream",
     "text": [
      "9\n",
      "1 2 3 6 4 9 3 1 2\n",
      "1\n",
      "3 2 1\n"
     ]
    }
   ],
   "source": [
    "from collections import OrderedDict\n",
    "n = int(input())\n",
    "a = list(map(int, input().strip().split()))\n",
    "\n",
    "divisors = [x for x in range(1, n // 2 + 1) if n % x == 0]\n",
    "ans = []\n",
    "\n",
    "for divisor in divisors:\n",
    "    d = OrderedDict()\n",
    "\n",
    "    hash_total_one = sum([a[i]**3 for i in range(divisor)])\n",
    "    d[hash_total_one] = 1\n",
    "    checked = True\n",
    "\n",
    "    for j in range(divisor, n, divisor):\n",
    "\n",
    "        hash_total = sum([a[i]**3 for i in range(j, j + divisor)])\n",
    "\n",
    "        if hash_total in d:\n",
    "            d[hash_total] += 1\n",
    "        else:\n",
    "            d[hash_total] = 1\n",
    "        if len(d) > 2:\n",
    "            checked = False\n",
    "            break\n",
    "\n",
    "    if checked == False or len(d) == 1:\n",
    "        continue\n",
    "\n",
    "    values = iter(d.values())\n",
    "    ans.append(f'{divisor} {next(values)} {next(values)}')\n",
    "\n",
    "if len(ans) == 0:\n",
    "    print(-1)\n",
    "else:\n",
    "    print(len(ans))\n",
    "    for tuple in ans:\n",
    "        print(tuple)"
   ]
  }
 ],
 "metadata": {
  "colab": {
   "name": "Conduonggomsu.ipynb",
   "provenance": []
  },
  "kernelspec": {
   "display_name": "Python 3",
   "language": "python",
   "name": "python3"
  },
  "language_info": {
   "codemirror_mode": {
    "name": "ipython",
    "version": 3
   },
   "file_extension": ".py",
   "mimetype": "text/x-python",
   "name": "python",
   "nbconvert_exporter": "python",
   "pygments_lexer": "ipython3",
   "version": "3.7.4"
  }
 },
 "nbformat": 4,
 "nbformat_minor": 1
}
