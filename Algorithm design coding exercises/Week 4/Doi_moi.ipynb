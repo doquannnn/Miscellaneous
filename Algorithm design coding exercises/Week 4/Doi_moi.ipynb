{
 "cells": [
  {
   "cell_type": "markdown",
   "metadata": {},
   "source": [
    "### Abstraction\n",
    "&nbsp;&nbsp;&nbsp;&nbsp;&nbsp;Số nguyên - số ngày ít nhất tính được"
   ]
  },
  {
   "cell_type": "markdown",
   "metadata": {},
   "source": [
    "### Pattern Recognition\n",
    "<p> &nbsp;&nbsp;&nbsp;&nbsp;&nbsp; Nhận thấy số liệu nhỏ nhất đề bài cho là <strong>10<sup>9</sup></strong> nghĩa là phương án vét cạn bị loại bỏ (1s máy chấm thực hiện <strong>10<sup>7</sup></strong> phép tính)</p>\n",
    "<p> &nbsp;&nbsp;&nbsp;&nbsp;&nbsp; Lúc này ta quan sát số ngày <strong>tối đa</strong> là nhiêu??? Nhận xét trường hợp xấu nhất: a = b = 1, k = m = 10<sup>18</sup> thì lúc này này số ngày là <strong>10<sup>18</sup> - 1</strong> <br>\n",
    "    &nbsp;&nbsp;&nbsp;&nbsp;&nbsp; Có thể kết luận số ngày dao động từ <strong> 1 - 10<sup>18</sup> </strong>, như vậy kết quả nằm trong một khoảng cố định và dữ liệu có đã được sắp xếp </p>\n",
    "<p>    &nbsp;&nbsp;&nbsp;&nbsp;&nbsp; => Tìm kiếm nhị phân trong trường hợp <strong> xấu nhất </strong>: log2(10<sup>18</sup>) ~ <strong> 60 </strong> phép tính/giây nên thoả yêu cầu đề bài </p>\n",
    " \n"
   ]
  },
  {
   "cell_type": "markdown",
   "metadata": {},
   "source": [
    "### Algorithms designed\n",
    "<p> &nbsp;&nbsp;&nbsp;&nbsp;&nbsp;Sử dụng phương pháp <strong> tìm kiếm nhị phân </strong> trong nhóm thuật toán <strong> chia để trị </strong>\n",
    "<p> &nbsp;&nbsp;&nbsp;&nbsp;&nbsp;Xây dựng hàm đếm <strong> tổng số cây </strong> đốn được đến ngày k: trong khoảng 1-k nếu ngày nào là <strong>bội</strong> của k hoặc m thì ngày đó không đốn được cây nào. <br>\n",
    "    &nbsp;&nbsp;&nbsp;&nbsp;&nbsp;Vậy ta chỉ cần loại bỏ những ngày đó và tính bình thường <br>\n",
    "    &nbsp;&nbsp;&nbsp;&nbsp;&nbsp;Giá trị trả về là số cây đốn được có lớn hơn hoặc bằng k hay không? Độ phức tạp: <strong> O(1) </strong> vì chỉ là các phép tính </p>\n",
    "<p> &nbsp;&nbsp;&nbsp;&nbsp;&nbsp;Xây dụng <strong> biên </strong>: Mục tiêu là cần tìm số ngày ít nhất, vậy ưu tiên giá trị nhỏ hơn hoặc bằng để cập nhật biến kết quả. Chỗ này độ phức tạp là <strong>O(log<sub>2</sub>n)</strong> </p>"
   ]
  },
  {
   "cell_type": "markdown",
   "metadata": {},
   "source": [
    "<p> &nbsp;&nbsp;&nbsp;&nbsp;&nbsp; <strong>Đầu vào:</strong> <br>\n",
    "    &nbsp;&nbsp;&nbsp;&nbsp;&nbsp;&nbsp;&nbsp;&nbsp;&nbsp; a, k, b, m và n (1 ≤ <strong>a</strong>, <strong>b</strong> ≤ 10<sup>9</sup>, 2 ≤<strong>k</strong>, <strong>m</strong> ≤ 10<sup>18</sup>, 1 ≤ <strong>n</strong> ≤ 10<sup>18</sup>). <br>\n",
    "    &nbsp;&nbsp;&nbsp;&nbsp;&nbsp; <strong>Đầu ra:</strong> <br>\n",
    "    &nbsp;&nbsp;&nbsp;&nbsp;&nbsp;&nbsp;&nbsp;&nbsp;&nbsp; một số nguyên - số ngày tính được </p>\n",
    "<p> &nbsp;&nbsp;&nbsp;&nbsp;&nbsp; <strong>Mã giả</strong> <br>\n",
    "    &nbsp;&nbsp;&nbsp;&nbsp;&nbsp;&nbsp;&nbsp;&nbsp;&nbsp; function count_trees(k): <br>\n",
    "    &nbsp;&nbsp;&nbsp;&nbsp;&nbsp;&nbsp;&nbsp;&nbsp;&nbsp;&nbsp;&nbsp;&nbsp; return number of trees up to day k >= n<br>\n",
    "    &nbsp;&nbsp;&nbsp;&nbsp;&nbsp;&nbsp;&nbsp;&nbsp;&nbsp; left ← 1, right ← 10<sup>18</sup> <br>\n",
    "    &nbsp;&nbsp;&nbsp;&nbsp;&nbsp;&nbsp;&nbsp;&nbsp;&nbsp; ans ← INF <br>\n",
    "    &nbsp;&nbsp;&nbsp;&nbsp;&nbsp;&nbsp;&nbsp;&nbsp;&nbsp; while left is <strong>not greater</strong> than right:<br>\n",
    "    &nbsp;&nbsp;&nbsp;&nbsp;&nbsp;&nbsp;&nbsp;&nbsp;&nbsp;&nbsp;&nbsp;&nbsp; mid ← (left + right) / 2 <br>\n",
    "    &nbsp;&nbsp;&nbsp;&nbsp;&nbsp;&nbsp;&nbsp;&nbsp;&nbsp;&nbsp;&nbsp;&nbsp; if count_trees(mid) is <strong>True</strong>: <br>\n",
    "    &nbsp;&nbsp;&nbsp;&nbsp;&nbsp;&nbsp;&nbsp;&nbsp;&nbsp;&nbsp;&nbsp;&nbsp;&nbsp;&nbsp;&nbsp; right ← mid - 1, ans ← mid <br>\n",
    "    &nbsp;&nbsp;&nbsp;&nbsp;&nbsp;&nbsp;&nbsp;&nbsp;&nbsp;&nbsp;&nbsp;&nbsp;else: <br>\n",
    "    &nbsp;&nbsp;&nbsp;&nbsp;&nbsp;&nbsp;&nbsp;&nbsp;&nbsp;&nbsp;&nbsp;&nbsp;&nbsp;&nbsp;&nbsp; left ← mid + 1 <br>\n",
    "    &nbsp;&nbsp;&nbsp;&nbsp;&nbsp;&nbsp;&nbsp;&nbsp;&nbsp; print ans </p>"
   ]
  },
  {
   "cell_type": "code",
   "execution_count": 2,
   "metadata": {},
   "outputs": [
    {
     "name": "stdout",
     "output_type": "stream",
     "text": [
      "2 4 3 3 25\n",
      "7\n"
     ]
    }
   ],
   "source": [
    "a, k, b, m, n = map(int, input().split())\n",
    "max_num_of_days = 10**18\n",
    "\n",
    "def count_trees(days, a, k, b, m):\n",
    "    days_a = days - (days // k)\n",
    "    days_b = days - (days // m)\n",
    "    return (days_a * a + days_b * b) >= n\n",
    "\n",
    "\n",
    "left = 1; right = max_num_of_days\n",
    "ans = float('inf')\n",
    "while left <= right:\n",
    "    mid = left + (right - left) // 2\n",
    "    if count_trees(mid, a, k, b, m):\n",
    "        right = mid - 1\n",
    "        ans = mid\n",
    "    else:\n",
    "        left = mid + 1\n",
    "\n",
    "print(ans)\n",
    "\n"
   ]
  },
  {
   "cell_type": "code",
   "execution_count": null,
   "metadata": {},
   "outputs": [],
   "source": []
  }
 ],
 "metadata": {
  "kernelspec": {
   "display_name": "Python 3",
   "language": "python",
   "name": "python3"
  },
  "language_info": {
   "codemirror_mode": {
    "name": "ipython",
    "version": 3
   },
   "file_extension": ".py",
   "mimetype": "text/x-python",
   "name": "python",
   "nbconvert_exporter": "python",
   "pygments_lexer": "ipython3",
   "version": "3.7.4"
  }
 },
 "nbformat": 4,
 "nbformat_minor": 2
}
